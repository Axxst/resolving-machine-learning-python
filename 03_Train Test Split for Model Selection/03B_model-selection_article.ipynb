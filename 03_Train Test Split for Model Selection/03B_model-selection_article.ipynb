{
 "cells": [
  {
   "cell_type": "markdown",
   "id": "a3195a8a",
   "metadata": {},
   "source": [
    "**© Jesús López**\n",
    "\n",
    "Ask him any doubt on **[Twitter](https://twitter.com/jsulopzs)** or **[LinkedIn](https://linkedin.com/in/jsulopzs)**\n",
    "\n",
    "## Chapter Importance\n",
    "\n",
    "Machine Learning models learn a mathematical equation from historical data.\n",
    "\n",
    "Not all Machine Learning models predict the same way; some models are better than others.\n",
    "\n",
    "We measure how good a model is by calculating its score (accuracy).\n",
    "\n",
    "So far, we have calculated the model's score using the same data to fit (train) the mathematical equation. That's cheating. That's overfitting.\n",
    "\n",
    "This tutorial compares 3 different models:\n",
    "\n",
    "- Decision Tree\n",
    "- Logistic Regression\n",
    "- Support Vector Machines\n",
    "\n",
    "We validate the models in 2 different ways:\n",
    "\n",
    "1. Using the same data during training\n",
    "2. Using 30% of the data; not used during training\n",
    "\n",
    "To demonstrate how the selection of the best model changes if we are to validate the model with data not used during training.\n",
    "\n",
    "For example, the image below shows the best model, when using the same data for validation, is the Decision Tree (0.86 of accuracy). Nevertheless, everything changes when the model is evaluated with data not used during training; the best model is the Logistic Regression (0.85 of accuracy). Whereas the Decision Tree only gets up to 0.80 of accuracy.\n",
    "\n",
    "\n",
    "![df_comp.jpeg](https://cdn.hashnode.com/res/hashnode/image/upload/v1661356658503/xtMfk_S0n.jpeg align=\"left\")\n",
    "\n",
    "Were we a bank whose losses rank up to 1M USD due to 0.01 fail in accuracy, we would have lost 5M USD. This is something that happens in real life.\n",
    "\n",
    "In short, banks are interested in good models to predict new potential customers. Not historical customers who have already gotten a loan and the bank knows if they were good to pay or not.\n",
    "\n",
    "This tutorial shows you how to implement the `train_test_split` technique to reduce overfitting with a practical use case where we want to classify whether a person used the Internet or not.\n",
    "\n",
    "## Load the Data\n",
    "\n",
    "Load the dataset from [CIS](https://www.cis.es/cis/opencms/ES/index.html), executing the following lines of code:"
   ]
  },
  {
   "cell_type": "code",
   "execution_count": 1,
   "id": "8132e247",
   "metadata": {
    "tags": []
   },
   "outputs": [
    {
     "data": {
      "text/html": [
       "<div>\n",
       "<style scoped>\n",
       "    .dataframe tbody tr th:only-of-type {\n",
       "        vertical-align: middle;\n",
       "    }\n",
       "\n",
       "    .dataframe tbody tr th {\n",
       "        vertical-align: top;\n",
       "    }\n",
       "\n",
       "    .dataframe thead th {\n",
       "        text-align: right;\n",
       "    }\n",
       "</style>\n",
       "<table border=\"1\" class=\"dataframe\">\n",
       "  <thead>\n",
       "    <tr style=\"text-align: right;\">\n",
       "      <th></th>\n",
       "      <th>internet_usage</th>\n",
       "      <th>sex</th>\n",
       "      <th>age</th>\n",
       "      <th>education</th>\n",
       "    </tr>\n",
       "    <tr>\n",
       "      <th>name</th>\n",
       "      <th></th>\n",
       "      <th></th>\n",
       "      <th></th>\n",
       "      <th></th>\n",
       "    </tr>\n",
       "  </thead>\n",
       "  <tbody>\n",
       "    <tr>\n",
       "      <th>Josefina</th>\n",
       "      <td>0</td>\n",
       "      <td>Female</td>\n",
       "      <td>66</td>\n",
       "      <td>Elementary</td>\n",
       "    </tr>\n",
       "    <tr>\n",
       "      <th>Vicki</th>\n",
       "      <td>1</td>\n",
       "      <td>Male</td>\n",
       "      <td>72</td>\n",
       "      <td>Elementary</td>\n",
       "    </tr>\n",
       "    <tr>\n",
       "      <th>...</th>\n",
       "      <td>...</td>\n",
       "      <td>...</td>\n",
       "      <td>...</td>\n",
       "      <td>...</td>\n",
       "    </tr>\n",
       "    <tr>\n",
       "      <th>Christine</th>\n",
       "      <td>1</td>\n",
       "      <td>Male</td>\n",
       "      <td>31</td>\n",
       "      <td>High School</td>\n",
       "    </tr>\n",
       "    <tr>\n",
       "      <th>Pepe</th>\n",
       "      <td>0</td>\n",
       "      <td>Male</td>\n",
       "      <td>52</td>\n",
       "      <td>Elementary</td>\n",
       "    </tr>\n",
       "  </tbody>\n",
       "</table>\n",
       "<p>2455 rows × 4 columns</p>\n",
       "</div>"
      ],
      "text/plain": [
       "           internet_usage     sex  age    education\n",
       "name                                               \n",
       "Josefina                0  Female   66   Elementary\n",
       "Vicki                   1    Male   72   Elementary\n",
       "...                   ...     ...  ...          ...\n",
       "Christine               1    Male   31  High School\n",
       "Pepe                    0    Male   52   Elementary\n",
       "\n",
       "[2455 rows x 4 columns]"
      ]
     },
     "execution_count": 1,
     "metadata": {},
     "output_type": "execute_result"
    }
   ],
   "source": [
    "import pandas as pd #!\n",
    "\n",
    "df_internet = pd.read_excel('https://github.com/jsulopzs/data/blob/main/internet_usage_spain.xlsx?raw=true', sheet_name=1, index_col=0)\n",
    "df_internet"
   ]
  },
  {
   "cell_type": "markdown",
   "id": "9b001075",
   "metadata": {},
   "source": [
    "- The goal of this dataset is\n",
    "- To predict `internet_usage` of **people** (rows)\n",
    "- Based on their **socio-demographical characteristics** (columns)\n",
    "\n",
    "\n",
    "![df1.jpeg](https://cdn.hashnode.com/res/hashnode/image/upload/v1661356647931/8pfa-UDsb.jpeg align=\"left\")\n",
    "\n",
    "## Preprocess the Data\n",
    "\n",
    "We should already know from the previous chapter that the data might be preprocessed before passing it to the function that computes the mathematical equation.\n",
    "\n",
    "### Missing Data\n",
    "\n",
    "The function `.fit()` all the cells in the DataFrame to contain a value. `NaN` means \"Not a Number\" (i.e., cell for which we don't have any information). Otherwise, it won't know how to process the row and compare it to others.\n",
    "\n",
    "For example, if you miss John's age, you cannot place John in the space to compare with other people because the point might be anywhere."
   ]
  },
  {
   "cell_type": "code",
   "execution_count": 2,
   "id": "59680428",
   "metadata": {
    "execution": {
     "iopub.execute_input": "2022-08-25T11:08:31.293951Z",
     "iopub.status.busy": "2022-08-25T11:08:31.293549Z",
     "iopub.status.idle": "2022-08-25T11:08:31.296403Z",
     "shell.execute_reply": "2022-08-25T11:08:31.296685Z"
    }
   },
   "outputs": [
    {
     "ename": "NameError",
     "evalue": "name 'df_internet' is not defined",
     "output_type": "error",
     "traceback": [
      "\u001b[0;31m---------------------------------------------------------------------------\u001b[0m",
      "\u001b[0;31mNameError\u001b[0m                                 Traceback (most recent call last)",
      "\u001b[0;32m/var/folders/24/tg28vxls25l9mjvqrnh0plc80000gn/T/ipykernel_15782/121230738.py\u001b[0m in \u001b[0;36m<module>\u001b[0;34m\u001b[0m\n\u001b[0;32m----> 1\u001b[0;31m \u001b[0mdf_internet\u001b[0m\u001b[0;34m.\u001b[0m\u001b[0misna\u001b[0m\u001b[0;34m(\u001b[0m\u001b[0;34m)\u001b[0m\u001b[0;34m.\u001b[0m\u001b[0msum\u001b[0m\u001b[0;34m(\u001b[0m\u001b[0;34m)\u001b[0m\u001b[0;34m\u001b[0m\u001b[0;34m\u001b[0m\u001b[0m\n\u001b[0m",
      "\u001b[0;31mNameError\u001b[0m: name 'df_internet' is not defined"
     ]
    }
   ],
   "source": [
    "df_internet.isna().sum()"
   ]
  },
  {
   "cell_type": "markdown",
   "id": "745095df",
   "metadata": {},
   "source": [
    "### Dummy Variables\n",
    "\n",
    "The function `.fit()` needs the values to be numeric. Otherwise, Python won't know the position of the axes in which to allocate the point. For example, if you have *Male* and *Female*, at which distance do you separate them, and why? You cannot make an objective assessment unless you separate each category.\n",
    "\n",
    "Therefore, categories of the categorical columns will be transformed into new columns (one new column per category) and contain 1s and 0s depending on whether the person is or is not in the category."
   ]
  },
  {
   "cell_type": "code",
   "execution_count": 3,
   "id": "ab89b172",
   "metadata": {
    "execution": {
     "iopub.execute_input": "2022-08-25T11:08:31.299254Z",
     "iopub.status.busy": "2022-08-25T11:08:31.298052Z",
     "iopub.status.idle": "2022-08-25T11:08:31.300871Z",
     "shell.execute_reply": "2022-08-25T11:08:31.301140Z"
    }
   },
   "outputs": [
    {
     "ename": "NameError",
     "evalue": "name 'df_internet' is not defined",
     "output_type": "error",
     "traceback": [
      "\u001b[0;31m---------------------------------------------------------------------------\u001b[0m",
      "\u001b[0;31mNameError\u001b[0m                                 Traceback (most recent call last)",
      "\u001b[0;32m/var/folders/24/tg28vxls25l9mjvqrnh0plc80000gn/T/ipykernel_15782/4285039797.py\u001b[0m in \u001b[0;36m<module>\u001b[0;34m\u001b[0m\n\u001b[0;32m----> 1\u001b[0;31m \u001b[0mdf_internet\u001b[0m \u001b[0;34m=\u001b[0m \u001b[0mpd\u001b[0m\u001b[0;34m.\u001b[0m\u001b[0mget_dummies\u001b[0m\u001b[0;34m(\u001b[0m\u001b[0mdf_internet\u001b[0m\u001b[0;34m,\u001b[0m \u001b[0mdrop_first\u001b[0m\u001b[0;34m=\u001b[0m\u001b[0;32mTrue\u001b[0m\u001b[0;34m)\u001b[0m\u001b[0;34m\u001b[0m\u001b[0;34m\u001b[0m\u001b[0m\n\u001b[0m\u001b[1;32m      2\u001b[0m \u001b[0mdf_internet\u001b[0m\u001b[0;34m\u001b[0m\u001b[0;34m\u001b[0m\u001b[0m\n",
      "\u001b[0;31mNameError\u001b[0m: name 'df_internet' is not defined"
     ]
    }
   ],
   "source": [
    "df_internet = pd.get_dummies(df_internet, drop_first=True)\n",
    "df_internet"
   ]
  },
  {
   "cell_type": "markdown",
   "id": "0152fe9f",
   "metadata": {},
   "source": [
    "![df2.jpeg](https://cdn.hashnode.com/res/hashnode/image/upload/v1661356670645/zfTmkP6FS.jpeg align=\"left\")\n",
    "\n",
    "## Feature Selection\n",
    "\n",
    "Once we have preprocessed the data, we select the column we want to predict (target) and the columns we will use to explain the prediction (features/explanatory)."
   ]
  },
  {
   "cell_type": "code",
   "execution_count": 4,
   "id": "5cb99edb",
   "metadata": {
    "execution": {
     "iopub.execute_input": "2022-08-25T11:08:31.303006Z",
     "iopub.status.busy": "2022-08-25T11:08:31.302657Z",
     "iopub.status.idle": "2022-08-25T11:08:31.305373Z",
     "shell.execute_reply": "2022-08-25T11:08:31.305570Z"
    }
   },
   "outputs": [
    {
     "ename": "NameError",
     "evalue": "name 'df_internet' is not defined",
     "output_type": "error",
     "traceback": [
      "\u001b[0;31m---------------------------------------------------------------------------\u001b[0m",
      "\u001b[0;31mNameError\u001b[0m                                 Traceback (most recent call last)",
      "\u001b[0;32m/var/folders/24/tg28vxls25l9mjvqrnh0plc80000gn/T/ipykernel_15782/392854956.py\u001b[0m in \u001b[0;36m<module>\u001b[0;34m\u001b[0m\n\u001b[0;32m----> 1\u001b[0;31m \u001b[0mtarget\u001b[0m \u001b[0;34m=\u001b[0m \u001b[0mdf_internet\u001b[0m\u001b[0;34m.\u001b[0m\u001b[0minternet_usage\u001b[0m\u001b[0;34m\u001b[0m\u001b[0;34m\u001b[0m\u001b[0m\n\u001b[0m\u001b[1;32m      2\u001b[0m \u001b[0mfeatures\u001b[0m \u001b[0;34m=\u001b[0m \u001b[0mdf_internet\u001b[0m\u001b[0;34m.\u001b[0m\u001b[0mdrop\u001b[0m\u001b[0;34m(\u001b[0m\u001b[0mcolumns\u001b[0m\u001b[0;34m=\u001b[0m\u001b[0;34m'internet_usage'\u001b[0m\u001b[0;34m)\u001b[0m\u001b[0;34m\u001b[0m\u001b[0;34m\u001b[0m\u001b[0m\n",
      "\u001b[0;31mNameError\u001b[0m: name 'df_internet' is not defined"
     ]
    }
   ],
   "source": [
    "target = df_internet.internet_usage\n",
    "features = df_internet.drop(columns='internet_usage')"
   ]
  },
  {
   "cell_type": "markdown",
   "id": "7f620e96",
   "metadata": {},
   "source": [
    "## Build & Compare Models' Scores\n",
    "\n",
    "We should already know that the Machine Learning procedure is the same all the time:\n",
    "1. Computing a mathematical equation: **fit**\n",
    "2. To calculate predictions: **predict**\n",
    "3. And compare them to reality: **score**\n",
    "\n",
    "The only element that changes is the `Class()` that contains lines of code of a specific algorithm (DecisionTreeClassifier, SVC, LogisticRegression).\n",
    "\n",
    "### `DecisionTreeClassifier()` Model in Python"
   ]
  },
  {
   "cell_type": "code",
   "execution_count": 5,
   "id": "f91b7fc6",
   "metadata": {
    "execution": {
     "iopub.execute_input": "2022-08-25T11:08:31.307701Z",
     "iopub.status.busy": "2022-08-25T11:08:31.307406Z",
     "iopub.status.idle": "2022-08-25T11:08:31.498796Z",
     "shell.execute_reply": "2022-08-25T11:08:31.499066Z"
    }
   },
   "outputs": [
    {
     "ename": "NameError",
     "evalue": "name 'features' is not defined",
     "output_type": "error",
     "traceback": [
      "\u001b[0;31m---------------------------------------------------------------------------\u001b[0m",
      "\u001b[0;31mNameError\u001b[0m                                 Traceback (most recent call last)",
      "\u001b[0;32m/var/folders/24/tg28vxls25l9mjvqrnh0plc80000gn/T/ipykernel_15782/218239533.py\u001b[0m in \u001b[0;36m<module>\u001b[0;34m\u001b[0m\n\u001b[1;32m      2\u001b[0m \u001b[0;34m\u001b[0m\u001b[0m\n\u001b[1;32m      3\u001b[0m \u001b[0mmodel_dt\u001b[0m \u001b[0;34m=\u001b[0m \u001b[0mDecisionTreeClassifier\u001b[0m\u001b[0;34m(\u001b[0m\u001b[0;34m)\u001b[0m\u001b[0;34m\u001b[0m\u001b[0;34m\u001b[0m\u001b[0m\n\u001b[0;32m----> 4\u001b[0;31m \u001b[0mmodel_dt\u001b[0m\u001b[0;34m.\u001b[0m\u001b[0mfit\u001b[0m\u001b[0;34m(\u001b[0m\u001b[0mX\u001b[0m\u001b[0;34m=\u001b[0m\u001b[0mfeatures\u001b[0m\u001b[0;34m,\u001b[0m \u001b[0my\u001b[0m\u001b[0;34m=\u001b[0m\u001b[0mtarget\u001b[0m\u001b[0;34m)\u001b[0m\u001b[0;34m\u001b[0m\u001b[0;34m\u001b[0m\u001b[0m\n\u001b[0m\u001b[1;32m      5\u001b[0m \u001b[0;34m\u001b[0m\u001b[0m\n\u001b[1;32m      6\u001b[0m \u001b[0mmodel_dt\u001b[0m\u001b[0;34m.\u001b[0m\u001b[0mscore\u001b[0m\u001b[0;34m(\u001b[0m\u001b[0mX\u001b[0m\u001b[0;34m=\u001b[0m\u001b[0mfeatures\u001b[0m\u001b[0;34m,\u001b[0m \u001b[0my\u001b[0m\u001b[0;34m=\u001b[0m\u001b[0mtarget\u001b[0m\u001b[0;34m)\u001b[0m\u001b[0;34m\u001b[0m\u001b[0;34m\u001b[0m\u001b[0m\n",
      "\u001b[0;31mNameError\u001b[0m: name 'features' is not defined"
     ]
    }
   ],
   "source": [
    "from sklearn.tree import DecisionTreeClassifier\n",
    "\n",
    "model_dt = DecisionTreeClassifier()\n",
    "model_dt.fit(X=features, y=target)\n",
    "\n",
    "model_dt.score(X=features, y=target)"
   ]
  },
  {
   "cell_type": "markdown",
   "id": "14e309b0",
   "metadata": {},
   "source": [
    "### `SVC()` Model in Python"
   ]
  },
  {
   "cell_type": "code",
   "execution_count": 6,
   "id": "19ac3f2b",
   "metadata": {
    "execution": {
     "iopub.execute_input": "2022-08-25T11:08:31.502638Z",
     "iopub.status.busy": "2022-08-25T11:08:31.502221Z",
     "iopub.status.idle": "2022-08-25T11:08:31.503778Z",
     "shell.execute_reply": "2022-08-25T11:08:31.504021Z"
    }
   },
   "outputs": [
    {
     "ename": "NameError",
     "evalue": "name 'features' is not defined",
     "output_type": "error",
     "traceback": [
      "\u001b[0;31m---------------------------------------------------------------------------\u001b[0m",
      "\u001b[0;31mNameError\u001b[0m                                 Traceback (most recent call last)",
      "\u001b[0;32m/var/folders/24/tg28vxls25l9mjvqrnh0plc80000gn/T/ipykernel_15782/3247730935.py\u001b[0m in \u001b[0;36m<module>\u001b[0;34m\u001b[0m\n\u001b[1;32m      2\u001b[0m \u001b[0;34m\u001b[0m\u001b[0m\n\u001b[1;32m      3\u001b[0m \u001b[0mmodel_svc\u001b[0m \u001b[0;34m=\u001b[0m \u001b[0mSVC\u001b[0m\u001b[0;34m(\u001b[0m\u001b[0mprobability\u001b[0m\u001b[0;34m=\u001b[0m\u001b[0;32mTrue\u001b[0m\u001b[0;34m)\u001b[0m\u001b[0;34m\u001b[0m\u001b[0;34m\u001b[0m\u001b[0m\n\u001b[0;32m----> 4\u001b[0;31m \u001b[0mmodel_svc\u001b[0m\u001b[0;34m.\u001b[0m\u001b[0mfit\u001b[0m\u001b[0;34m(\u001b[0m\u001b[0mX\u001b[0m\u001b[0;34m=\u001b[0m\u001b[0mfeatures\u001b[0m\u001b[0;34m,\u001b[0m \u001b[0my\u001b[0m\u001b[0;34m=\u001b[0m\u001b[0mtarget\u001b[0m\u001b[0;34m)\u001b[0m\u001b[0;34m\u001b[0m\u001b[0;34m\u001b[0m\u001b[0m\n\u001b[0m\u001b[1;32m      5\u001b[0m \u001b[0;34m\u001b[0m\u001b[0m\n\u001b[1;32m      6\u001b[0m \u001b[0mmodel_svc\u001b[0m\u001b[0;34m.\u001b[0m\u001b[0mscore\u001b[0m\u001b[0;34m(\u001b[0m\u001b[0mX\u001b[0m\u001b[0;34m=\u001b[0m\u001b[0mfeatures\u001b[0m\u001b[0;34m,\u001b[0m \u001b[0my\u001b[0m\u001b[0;34m=\u001b[0m\u001b[0mtarget\u001b[0m\u001b[0;34m)\u001b[0m\u001b[0;34m\u001b[0m\u001b[0;34m\u001b[0m\u001b[0m\n",
      "\u001b[0;31mNameError\u001b[0m: name 'features' is not defined"
     ]
    }
   ],
   "source": [
    "from sklearn.svm import SVC\n",
    "\n",
    "model_svc = SVC(probability=True)\n",
    "model_svc.fit(X=features, y=target)\n",
    "\n",
    "model_svc.score(X=features, y=target)"
   ]
  },
  {
   "cell_type": "markdown",
   "id": "0126772f",
   "metadata": {},
   "source": [
    "### `LogisticRegression()` Model in Python"
   ]
  },
  {
   "cell_type": "code",
   "execution_count": 7,
   "id": "3111b215",
   "metadata": {
    "execution": {
     "iopub.execute_input": "2022-08-25T11:08:31.506075Z",
     "iopub.status.busy": "2022-08-25T11:08:31.505732Z",
     "iopub.status.idle": "2022-08-25T11:08:31.508540Z",
     "shell.execute_reply": "2022-08-25T11:08:31.508791Z"
    }
   },
   "outputs": [
    {
     "ename": "NameError",
     "evalue": "name 'features' is not defined",
     "output_type": "error",
     "traceback": [
      "\u001b[0;31m---------------------------------------------------------------------------\u001b[0m",
      "\u001b[0;31mNameError\u001b[0m                                 Traceback (most recent call last)",
      "\u001b[0;32m/var/folders/24/tg28vxls25l9mjvqrnh0plc80000gn/T/ipykernel_15782/1553980455.py\u001b[0m in \u001b[0;36m<module>\u001b[0;34m\u001b[0m\n\u001b[1;32m      2\u001b[0m \u001b[0;34m\u001b[0m\u001b[0m\n\u001b[1;32m      3\u001b[0m \u001b[0mmodel_lr\u001b[0m \u001b[0;34m=\u001b[0m \u001b[0mLogisticRegression\u001b[0m\u001b[0;34m(\u001b[0m\u001b[0mmax_iter\u001b[0m\u001b[0;34m=\u001b[0m\u001b[0;36m1000\u001b[0m\u001b[0;34m)\u001b[0m\u001b[0;34m\u001b[0m\u001b[0;34m\u001b[0m\u001b[0m\n\u001b[0;32m----> 4\u001b[0;31m \u001b[0mmodel_lr\u001b[0m\u001b[0;34m.\u001b[0m\u001b[0mfit\u001b[0m\u001b[0;34m(\u001b[0m\u001b[0mX\u001b[0m\u001b[0;34m=\u001b[0m\u001b[0mfeatures\u001b[0m\u001b[0;34m,\u001b[0m \u001b[0my\u001b[0m\u001b[0;34m=\u001b[0m\u001b[0mtarget\u001b[0m\u001b[0;34m)\u001b[0m\u001b[0;34m\u001b[0m\u001b[0;34m\u001b[0m\u001b[0m\n\u001b[0m\u001b[1;32m      5\u001b[0m \u001b[0;34m\u001b[0m\u001b[0m\n\u001b[1;32m      6\u001b[0m \u001b[0mmodel_lr\u001b[0m\u001b[0;34m.\u001b[0m\u001b[0mscore\u001b[0m\u001b[0;34m(\u001b[0m\u001b[0mX\u001b[0m\u001b[0;34m=\u001b[0m\u001b[0mfeatures\u001b[0m\u001b[0;34m,\u001b[0m \u001b[0my\u001b[0m\u001b[0;34m=\u001b[0m\u001b[0mtarget\u001b[0m\u001b[0;34m)\u001b[0m\u001b[0;34m\u001b[0m\u001b[0;34m\u001b[0m\u001b[0m\n",
      "\u001b[0;31mNameError\u001b[0m: name 'features' is not defined"
     ]
    }
   ],
   "source": [
    "from sklearn.linear_model import LogisticRegression\n",
    "\n",
    "model_lr = LogisticRegression(max_iter=1000)\n",
    "model_lr.fit(X=features, y=target)\n",
    "\n",
    "model_lr.score(X=features, y=target)"
   ]
  },
  {
   "cell_type": "markdown",
   "id": "8c93b90c",
   "metadata": {},
   "source": [
    "## Function to Automate Lines of Code\n",
    "\n",
    "- We repeated all the time the same code:\n",
    "\n",
    "```Python\n",
    "model.fit()\n",
    "model.score()\n",
    "```\n",
    "\n",
    "- Why not turn the lines into a `function()` to **automate the process**?\n",
    "\n",
    "```Python\n",
    "calculate_accuracy(model_dt)\n",
    "calculate_accuracy(model_sv)\n",
    "calculate_accuracy(model_lr)\n",
    "```\n",
    "\n",
    "- To calculate the `accuracy`\n",
    "\n",
    "### Make a Procedure Sample for `DecisionTreeClassifier()`"
   ]
  },
  {
   "cell_type": "code",
   "execution_count": 8,
   "id": "61d0266d",
   "metadata": {
    "execution": {
     "iopub.execute_input": "2022-08-25T11:08:31.512081Z",
     "iopub.status.busy": "2022-08-25T11:08:31.511755Z",
     "iopub.status.idle": "2022-08-25T11:08:31.513270Z",
     "shell.execute_reply": "2022-08-25T11:08:31.513507Z"
    }
   },
   "outputs": [
    {
     "ename": "NameError",
     "evalue": "name 'features' is not defined",
     "output_type": "error",
     "traceback": [
      "\u001b[0;31m---------------------------------------------------------------------------\u001b[0m",
      "\u001b[0;31mNameError\u001b[0m                                 Traceback (most recent call last)",
      "\u001b[0;32m/var/folders/24/tg28vxls25l9mjvqrnh0plc80000gn/T/ipykernel_15782/3967609239.py\u001b[0m in \u001b[0;36m<module>\u001b[0;34m\u001b[0m\n\u001b[1;32m      1\u001b[0m \u001b[0mmodel_dt\u001b[0m \u001b[0;34m=\u001b[0m \u001b[0mDecisionTreeClassifier\u001b[0m\u001b[0;34m(\u001b[0m\u001b[0;34m)\u001b[0m\u001b[0;34m\u001b[0m\u001b[0;34m\u001b[0m\u001b[0m\n\u001b[0;32m----> 2\u001b[0;31m \u001b[0mmodel_dt\u001b[0m\u001b[0;34m.\u001b[0m\u001b[0mfit\u001b[0m\u001b[0;34m(\u001b[0m\u001b[0mX\u001b[0m\u001b[0;34m=\u001b[0m\u001b[0mfeatures\u001b[0m\u001b[0;34m,\u001b[0m \u001b[0my\u001b[0m\u001b[0;34m=\u001b[0m\u001b[0mtarget\u001b[0m\u001b[0;34m)\u001b[0m\u001b[0;34m\u001b[0m\u001b[0;34m\u001b[0m\u001b[0m\n\u001b[0m\u001b[1;32m      3\u001b[0m \u001b[0mmodel_dt\u001b[0m\u001b[0;34m.\u001b[0m\u001b[0mscore\u001b[0m\u001b[0;34m(\u001b[0m\u001b[0mX\u001b[0m\u001b[0;34m=\u001b[0m\u001b[0mfeatures\u001b[0m\u001b[0;34m,\u001b[0m \u001b[0my\u001b[0m\u001b[0;34m=\u001b[0m\u001b[0mtarget\u001b[0m\u001b[0;34m)\u001b[0m\u001b[0;34m\u001b[0m\u001b[0;34m\u001b[0m\u001b[0m\n",
      "\u001b[0;31mNameError\u001b[0m: name 'features' is not defined"
     ]
    }
   ],
   "source": [
    "model_dt = DecisionTreeClassifier()\n",
    "model_dt.fit(X=features, y=target)\n",
    "model_dt.score(X=features, y=target)"
   ]
  },
  {
   "cell_type": "markdown",
   "id": "e810d600",
   "metadata": {},
   "source": [
    "### Automate the Procedure into a `function()`\n",
    "\n",
    "**Code Thinking**\n",
    "\n",
    "1. Think of the functions `result`\n",
    "2. Store that `object` to a variable\n",
    "3. `return` the `result` at the end\n",
    "4. **Indent the body** of the function to the right\n",
    "5. `def`ine the `function():`\n",
    "6. Think of what's gonna change when you execute the function with `different models`\n",
    "7. Locate the **`variable` that you will change**\n",
    "8. Turn it into the `parameter` of the `function()`"
   ]
  },
  {
   "cell_type": "code",
   "execution_count": 9,
   "id": "3b7ae39c",
   "metadata": {
    "execution": {
     "iopub.execute_input": "2022-08-25T11:08:31.516703Z",
     "iopub.status.busy": "2022-08-25T11:08:31.516393Z",
     "iopub.status.idle": "2022-08-25T11:08:31.517808Z",
     "shell.execute_reply": "2022-08-25T11:08:31.518035Z"
    }
   },
   "outputs": [
    {
     "ename": "NameError",
     "evalue": "name 'features' is not defined",
     "output_type": "error",
     "traceback": [
      "\u001b[0;31m---------------------------------------------------------------------------\u001b[0m",
      "\u001b[0;31mNameError\u001b[0m                                 Traceback (most recent call last)",
      "\u001b[0;32m/var/folders/24/tg28vxls25l9mjvqrnh0plc80000gn/T/ipykernel_15782/3967609239.py\u001b[0m in \u001b[0;36m<module>\u001b[0;34m\u001b[0m\n\u001b[1;32m      1\u001b[0m \u001b[0mmodel_dt\u001b[0m \u001b[0;34m=\u001b[0m \u001b[0mDecisionTreeClassifier\u001b[0m\u001b[0;34m(\u001b[0m\u001b[0;34m)\u001b[0m\u001b[0;34m\u001b[0m\u001b[0;34m\u001b[0m\u001b[0m\n\u001b[0;32m----> 2\u001b[0;31m \u001b[0mmodel_dt\u001b[0m\u001b[0;34m.\u001b[0m\u001b[0mfit\u001b[0m\u001b[0;34m(\u001b[0m\u001b[0mX\u001b[0m\u001b[0;34m=\u001b[0m\u001b[0mfeatures\u001b[0m\u001b[0;34m,\u001b[0m \u001b[0my\u001b[0m\u001b[0;34m=\u001b[0m\u001b[0mtarget\u001b[0m\u001b[0;34m)\u001b[0m\u001b[0;34m\u001b[0m\u001b[0;34m\u001b[0m\u001b[0m\n\u001b[0m\u001b[1;32m      3\u001b[0m \u001b[0mmodel_dt\u001b[0m\u001b[0;34m.\u001b[0m\u001b[0mscore\u001b[0m\u001b[0;34m(\u001b[0m\u001b[0mX\u001b[0m\u001b[0;34m=\u001b[0m\u001b[0mfeatures\u001b[0m\u001b[0;34m,\u001b[0m \u001b[0my\u001b[0m\u001b[0;34m=\u001b[0m\u001b[0mtarget\u001b[0m\u001b[0;34m)\u001b[0m\u001b[0;34m\u001b[0m\u001b[0;34m\u001b[0m\u001b[0m\n",
      "\u001b[0;31mNameError\u001b[0m: name 'features' is not defined"
     ]
    }
   ],
   "source": [
    "model_dt = DecisionTreeClassifier()\n",
    "model_dt.fit(X=features, y=target)\n",
    "model_dt.score(X=features, y=target)"
   ]
  },
  {
   "cell_type": "markdown",
   "id": "59ad9447",
   "metadata": {},
   "source": [
    "#### Distinguish the line that gives you the `result` you want and put it into a variable"
   ]
  },
  {
   "cell_type": "code",
   "execution_count": 10,
   "id": "b9ac871b",
   "metadata": {
    "execution": {
     "iopub.execute_input": "2022-08-25T11:08:31.521173Z",
     "iopub.status.busy": "2022-08-25T11:08:31.520866Z",
     "iopub.status.idle": "2022-08-25T11:08:31.522327Z",
     "shell.execute_reply": "2022-08-25T11:08:31.522570Z"
    }
   },
   "outputs": [
    {
     "ename": "NameError",
     "evalue": "name 'features' is not defined",
     "output_type": "error",
     "traceback": [
      "\u001b[0;31m---------------------------------------------------------------------------\u001b[0m",
      "\u001b[0;31mNameError\u001b[0m                                 Traceback (most recent call last)",
      "\u001b[0;32m/var/folders/24/tg28vxls25l9mjvqrnh0plc80000gn/T/ipykernel_15782/392665991.py\u001b[0m in \u001b[0;36m<module>\u001b[0;34m\u001b[0m\n\u001b[1;32m      1\u001b[0m \u001b[0mmodel_dt\u001b[0m \u001b[0;34m=\u001b[0m \u001b[0mDecisionTreeClassifier\u001b[0m\u001b[0;34m(\u001b[0m\u001b[0;34m)\u001b[0m\u001b[0;34m\u001b[0m\u001b[0;34m\u001b[0m\u001b[0m\n\u001b[0;32m----> 2\u001b[0;31m \u001b[0mmodel_dt\u001b[0m\u001b[0;34m.\u001b[0m\u001b[0mfit\u001b[0m\u001b[0;34m(\u001b[0m\u001b[0mX\u001b[0m\u001b[0;34m=\u001b[0m\u001b[0mfeatures\u001b[0m\u001b[0;34m,\u001b[0m \u001b[0my\u001b[0m\u001b[0;34m=\u001b[0m\u001b[0mtarget\u001b[0m\u001b[0;34m)\u001b[0m\u001b[0;34m\u001b[0m\u001b[0;34m\u001b[0m\u001b[0m\n\u001b[0m\u001b[1;32m      3\u001b[0m \u001b[0mresult\u001b[0m \u001b[0;34m=\u001b[0m \u001b[0mmodel_dt\u001b[0m\u001b[0;34m.\u001b[0m\u001b[0mscore\u001b[0m\u001b[0;34m(\u001b[0m\u001b[0mX\u001b[0m\u001b[0;34m=\u001b[0m\u001b[0mfeatures\u001b[0m\u001b[0;34m,\u001b[0m \u001b[0my\u001b[0m\u001b[0;34m=\u001b[0m\u001b[0mtarget\u001b[0m\u001b[0;34m)\u001b[0m \u001b[0;31m#new\u001b[0m\u001b[0;34m\u001b[0m\u001b[0;34m\u001b[0m\u001b[0m\n",
      "\u001b[0;31mNameError\u001b[0m: name 'features' is not defined"
     ]
    }
   ],
   "source": [
    "model_dt = DecisionTreeClassifier()\n",
    "model_dt.fit(X=features, y=target)\n",
    "result = model_dt.score(X=features, y=target) #new"
   ]
  },
  {
   "cell_type": "markdown",
   "id": "1f61290c",
   "metadata": {},
   "source": [
    "#### Add a line with a `return` to tell the function the object you want in the end"
   ]
  },
  {
   "cell_type": "code",
   "execution_count": 11,
   "id": "12806c11",
   "metadata": {
    "execution": {
     "iopub.execute_input": "2022-08-25T11:08:31.525770Z",
     "iopub.status.busy": "2022-08-25T11:08:31.525431Z",
     "iopub.status.idle": "2022-08-25T11:08:31.526845Z",
     "shell.execute_reply": "2022-08-25T11:08:31.527075Z"
    }
   },
   "outputs": [
    {
     "ename": "NameError",
     "evalue": "name 'features' is not defined",
     "output_type": "error",
     "traceback": [
      "\u001b[0;31m---------------------------------------------------------------------------\u001b[0m",
      "\u001b[0;31mNameError\u001b[0m                                 Traceback (most recent call last)",
      "\u001b[0;32m/var/folders/24/tg28vxls25l9mjvqrnh0plc80000gn/T/ipykernel_15782/2325672116.py\u001b[0m in \u001b[0;36m<module>\u001b[0;34m\u001b[0m\n\u001b[1;32m      1\u001b[0m \u001b[0mmodel_dt\u001b[0m \u001b[0;34m=\u001b[0m \u001b[0mDecisionTreeClassifier\u001b[0m\u001b[0;34m(\u001b[0m\u001b[0;34m)\u001b[0m\u001b[0;34m\u001b[0m\u001b[0;34m\u001b[0m\u001b[0m\n\u001b[0;32m----> 2\u001b[0;31m \u001b[0mmodel_dt\u001b[0m\u001b[0;34m.\u001b[0m\u001b[0mfit\u001b[0m\u001b[0;34m(\u001b[0m\u001b[0mX\u001b[0m\u001b[0;34m=\u001b[0m\u001b[0mfeatures\u001b[0m\u001b[0;34m,\u001b[0m \u001b[0my\u001b[0m\u001b[0;34m=\u001b[0m\u001b[0mtarget\u001b[0m\u001b[0;34m)\u001b[0m\u001b[0;34m\u001b[0m\u001b[0;34m\u001b[0m\u001b[0m\n\u001b[0m\u001b[1;32m      3\u001b[0m \u001b[0mresult\u001b[0m \u001b[0;34m=\u001b[0m \u001b[0mmodel_dt\u001b[0m\u001b[0;34m.\u001b[0m\u001b[0mscore\u001b[0m\u001b[0;34m(\u001b[0m\u001b[0mX\u001b[0m\u001b[0;34m=\u001b[0m\u001b[0mfeatures\u001b[0m\u001b[0;34m,\u001b[0m \u001b[0my\u001b[0m\u001b[0;34m=\u001b[0m\u001b[0mtarget\u001b[0m\u001b[0;34m)\u001b[0m\u001b[0;34m\u001b[0m\u001b[0;34m\u001b[0m\u001b[0m\n\u001b[1;32m      4\u001b[0m \u001b[0;34m\u001b[0m\u001b[0m\n\u001b[1;32m      5\u001b[0m \u001b[0;32mreturn\u001b[0m \u001b[0mresult\u001b[0m \u001b[0;31m#new\u001b[0m\u001b[0;34m\u001b[0m\u001b[0;34m\u001b[0m\u001b[0m\n",
      "\u001b[0;31mNameError\u001b[0m: name 'features' is not defined"
     ]
    }
   ],
   "source": [
    "model_dt = DecisionTreeClassifier()\n",
    "model_dt.fit(X=features, y=target)\n",
    "result = model_dt.score(X=features, y=target)\n",
    "\n",
    "return result #new"
   ]
  },
  {
   "cell_type": "markdown",
   "id": "84e9c0e6",
   "metadata": {},
   "source": [
    "#### Indent everything to the right"
   ]
  },
  {
   "cell_type": "code",
   "execution_count": 12,
   "id": "0d640aa5",
   "metadata": {
    "execution": {
     "iopub.execute_input": "2022-08-25T11:08:31.528846Z",
     "iopub.status.busy": "2022-08-25T11:08:31.528529Z",
     "iopub.status.idle": "2022-08-25T11:08:31.529978Z",
     "shell.execute_reply": "2022-08-25T11:08:31.530160Z"
    }
   },
   "outputs": [
    {
     "ename": "IndentationError",
     "evalue": "unexpected indent (3552628051.py, line 2)",
     "output_type": "error",
     "traceback": [
      "\u001b[0;36m  File \u001b[0;32m\"/var/folders/24/tg28vxls25l9mjvqrnh0plc80000gn/T/ipykernel_15782/3552628051.py\"\u001b[0;36m, line \u001b[0;32m2\u001b[0m\n\u001b[0;31m    model_dt.fit(X=features, y=target)\u001b[0m\n\u001b[0m    ^\u001b[0m\n\u001b[0;31mIndentationError\u001b[0m\u001b[0;31m:\u001b[0m unexpected indent\n"
     ]
    }
   ],
   "source": [
    "model_dt = DecisionTreeClassifier()\n",
    "    model_dt.fit(X=features, y=target)\n",
    "    result = model_dt.score(X=features, y=target)\n",
    "\n",
    "    return result"
   ]
  },
  {
   "cell_type": "markdown",
   "id": "83f61e4d",
   "metadata": {},
   "source": [
    "#### Define the function in the first line"
   ]
  },
  {
   "cell_type": "code",
   "execution_count": 13,
   "id": "5e3c34a1",
   "metadata": {
    "execution": {
     "iopub.execute_input": "2022-08-25T11:08:31.531936Z",
     "iopub.status.busy": "2022-08-25T11:08:31.531658Z",
     "iopub.status.idle": "2022-08-25T11:08:31.532758Z",
     "shell.execute_reply": "2022-08-25T11:08:31.533044Z"
    }
   },
   "outputs": [],
   "source": [
    "def calculate_accuracy(): #new\n",
    "\n",
    "    model_dt = DecisionTreeClassifier()\n",
    "    model_dt.fit(X=features, y=target)\n",
    "    result = model_dt.score(X=features, y=target)\n",
    "\n",
    "    return result"
   ]
  },
  {
   "cell_type": "markdown",
   "id": "503581af",
   "metadata": {},
   "source": [
    "#### What am I gonna change every time I run the function"
   ]
  },
  {
   "cell_type": "code",
   "execution_count": 14,
   "id": "c7989658",
   "metadata": {
    "execution": {
     "iopub.execute_input": "2022-08-25T11:08:31.534848Z",
     "iopub.status.busy": "2022-08-25T11:08:31.534568Z",
     "iopub.status.idle": "2022-08-25T11:08:31.535616Z",
     "shell.execute_reply": "2022-08-25T11:08:31.535790Z"
    }
   },
   "outputs": [],
   "source": [
    "def calculate_accuracy(model_dt): #modified\n",
    "\n",
    "    model_dt.fit(X=features, y=target)\n",
    "    result = model_dt.score(X=features, y=target)\n",
    "\n",
    "    return result"
   ]
  },
  {
   "cell_type": "markdown",
   "id": "0d5c3b84",
   "metadata": {},
   "source": [
    "#### Generalize the name of the parameter"
   ]
  },
  {
   "cell_type": "code",
   "execution_count": 15,
   "id": "a1c6898a",
   "metadata": {
    "execution": {
     "iopub.execute_input": "2022-08-25T11:08:31.537464Z",
     "iopub.status.busy": "2022-08-25T11:08:31.537199Z",
     "iopub.status.idle": "2022-08-25T11:08:31.538314Z",
     "shell.execute_reply": "2022-08-25T11:08:31.538499Z"
    }
   },
   "outputs": [],
   "source": [
    "def calculate_accuracy(model): #modified\n",
    "\n",
    "    model.fit(X=features, y=target) #modified\n",
    "    result = model.score(X=features, y=target)\n",
    "\n",
    "    return result"
   ]
  },
  {
   "cell_type": "markdown",
   "id": "36570fb7",
   "metadata": {},
   "source": [
    "#### Add docstring"
   ]
  },
  {
   "cell_type": "code",
   "execution_count": 16,
   "id": "17db657d",
   "metadata": {
    "execution": {
     "iopub.execute_input": "2022-08-25T11:08:31.540317Z",
     "iopub.status.busy": "2022-08-25T11:08:31.540044Z",
     "iopub.status.idle": "2022-08-25T11:08:31.541126Z",
     "shell.execute_reply": "2022-08-25T11:08:31.541325Z"
    }
   },
   "outputs": [],
   "source": [
    "def calculate_accuracy(model):\n",
    "    \"\"\"\n",
    "    This function calculates the accuracy for a given model as a parameter #modified\n",
    "    \"\"\"\n",
    "    \n",
    "    model.fit(X=features, y=target)\n",
    "    result = model.score(X=features, y=target)\n",
    "\n",
    "    return result"
   ]
  },
  {
   "cell_type": "markdown",
   "id": "41389afa",
   "metadata": {},
   "source": []
  },
  {
   "cell_type": "code",
   "execution_count": 17,
   "id": "228522e4",
   "metadata": {
    "execution": {
     "iopub.execute_input": "2022-08-25T11:08:31.542804Z",
     "iopub.status.busy": "2022-08-25T11:08:31.542534Z",
     "iopub.status.idle": "2022-08-25T11:08:31.546469Z",
     "shell.execute_reply": "2022-08-25T11:08:31.546703Z"
    }
   },
   "outputs": [
    {
     "ename": "NameError",
     "evalue": "name 'features' is not defined",
     "output_type": "error",
     "traceback": [
      "\u001b[0;31m---------------------------------------------------------------------------\u001b[0m",
      "\u001b[0;31mNameError\u001b[0m                                 Traceback (most recent call last)",
      "\u001b[0;32m/var/folders/24/tg28vxls25l9mjvqrnh0plc80000gn/T/ipykernel_15782/3173530275.py\u001b[0m in \u001b[0;36m<module>\u001b[0;34m\u001b[0m\n\u001b[0;32m----> 1\u001b[0;31m \u001b[0mcalculate_accuracy\u001b[0m\u001b[0;34m(\u001b[0m\u001b[0mmodel_dt\u001b[0m\u001b[0;34m)\u001b[0m\u001b[0;34m\u001b[0m\u001b[0;34m\u001b[0m\u001b[0m\n\u001b[0m",
      "\u001b[0;32m/var/folders/24/tg28vxls25l9mjvqrnh0plc80000gn/T/ipykernel_15782/3947331998.py\u001b[0m in \u001b[0;36mcalculate_accuracy\u001b[0;34m(model)\u001b[0m\n\u001b[1;32m      4\u001b[0m     \"\"\"\n\u001b[1;32m      5\u001b[0m \u001b[0;34m\u001b[0m\u001b[0m\n\u001b[0;32m----> 6\u001b[0;31m     \u001b[0mmodel\u001b[0m\u001b[0;34m.\u001b[0m\u001b[0mfit\u001b[0m\u001b[0;34m(\u001b[0m\u001b[0mX\u001b[0m\u001b[0;34m=\u001b[0m\u001b[0mfeatures\u001b[0m\u001b[0;34m,\u001b[0m \u001b[0my\u001b[0m\u001b[0;34m=\u001b[0m\u001b[0mtarget\u001b[0m\u001b[0;34m)\u001b[0m\u001b[0;34m\u001b[0m\u001b[0;34m\u001b[0m\u001b[0m\n\u001b[0m\u001b[1;32m      7\u001b[0m     \u001b[0mresult\u001b[0m \u001b[0;34m=\u001b[0m \u001b[0mmodel\u001b[0m\u001b[0;34m.\u001b[0m\u001b[0mscore\u001b[0m\u001b[0;34m(\u001b[0m\u001b[0mX\u001b[0m\u001b[0;34m=\u001b[0m\u001b[0mfeatures\u001b[0m\u001b[0;34m,\u001b[0m \u001b[0my\u001b[0m\u001b[0;34m=\u001b[0m\u001b[0mtarget\u001b[0m\u001b[0;34m)\u001b[0m\u001b[0;34m\u001b[0m\u001b[0;34m\u001b[0m\u001b[0m\n\u001b[1;32m      8\u001b[0m \u001b[0;34m\u001b[0m\u001b[0m\n",
      "\u001b[0;31mNameError\u001b[0m: name 'features' is not defined"
     ]
    }
   ],
   "source": [
    "calculate_accuracy(model_dt)"
   ]
  },
  {
   "cell_type": "markdown",
   "id": "1e8cab1c",
   "metadata": {},
   "source": [
    "## Calculate Models' Accuracies\n",
    "\n",
    "### `DecisionTreeClassifier()` Accuracy"
   ]
  },
  {
   "cell_type": "code",
   "execution_count": 18,
   "id": "e45e3d40",
   "metadata": {
    "execution": {
     "iopub.execute_input": "2022-08-25T11:08:31.550582Z",
     "iopub.status.busy": "2022-08-25T11:08:31.550284Z",
     "iopub.status.idle": "2022-08-25T11:08:31.551704Z",
     "shell.execute_reply": "2022-08-25T11:08:31.551936Z"
    }
   },
   "outputs": [
    {
     "ename": "NameError",
     "evalue": "name 'features' is not defined",
     "output_type": "error",
     "traceback": [
      "\u001b[0;31m---------------------------------------------------------------------------\u001b[0m",
      "\u001b[0;31mNameError\u001b[0m                                 Traceback (most recent call last)",
      "\u001b[0;32m/var/folders/24/tg28vxls25l9mjvqrnh0plc80000gn/T/ipykernel_15782/3173530275.py\u001b[0m in \u001b[0;36m<module>\u001b[0;34m\u001b[0m\n\u001b[0;32m----> 1\u001b[0;31m \u001b[0mcalculate_accuracy\u001b[0m\u001b[0;34m(\u001b[0m\u001b[0mmodel_dt\u001b[0m\u001b[0;34m)\u001b[0m\u001b[0;34m\u001b[0m\u001b[0;34m\u001b[0m\u001b[0m\n\u001b[0m",
      "\u001b[0;32m/var/folders/24/tg28vxls25l9mjvqrnh0plc80000gn/T/ipykernel_15782/3947331998.py\u001b[0m in \u001b[0;36mcalculate_accuracy\u001b[0;34m(model)\u001b[0m\n\u001b[1;32m      4\u001b[0m     \"\"\"\n\u001b[1;32m      5\u001b[0m \u001b[0;34m\u001b[0m\u001b[0m\n\u001b[0;32m----> 6\u001b[0;31m     \u001b[0mmodel\u001b[0m\u001b[0;34m.\u001b[0m\u001b[0mfit\u001b[0m\u001b[0;34m(\u001b[0m\u001b[0mX\u001b[0m\u001b[0;34m=\u001b[0m\u001b[0mfeatures\u001b[0m\u001b[0;34m,\u001b[0m \u001b[0my\u001b[0m\u001b[0;34m=\u001b[0m\u001b[0mtarget\u001b[0m\u001b[0;34m)\u001b[0m\u001b[0;34m\u001b[0m\u001b[0;34m\u001b[0m\u001b[0m\n\u001b[0m\u001b[1;32m      7\u001b[0m     \u001b[0mresult\u001b[0m \u001b[0;34m=\u001b[0m \u001b[0mmodel\u001b[0m\u001b[0;34m.\u001b[0m\u001b[0mscore\u001b[0m\u001b[0;34m(\u001b[0m\u001b[0mX\u001b[0m\u001b[0;34m=\u001b[0m\u001b[0mfeatures\u001b[0m\u001b[0;34m,\u001b[0m \u001b[0my\u001b[0m\u001b[0;34m=\u001b[0m\u001b[0mtarget\u001b[0m\u001b[0;34m)\u001b[0m\u001b[0;34m\u001b[0m\u001b[0;34m\u001b[0m\u001b[0m\n\u001b[1;32m      8\u001b[0m \u001b[0;34m\u001b[0m\u001b[0m\n",
      "\u001b[0;31mNameError\u001b[0m: name 'features' is not defined"
     ]
    }
   ],
   "source": [
    "calculate_accuracy(model_dt)"
   ]
  },
  {
   "cell_type": "markdown",
   "id": "e91efc4f",
   "metadata": {},
   "source": [
    "We shall create an empty dictionary that keeps track of every model's score to choose the best one later."
   ]
  },
  {
   "cell_type": "code",
   "execution_count": 19,
   "id": "2368c01f",
   "metadata": {
    "execution": {
     "iopub.execute_input": "2022-08-25T11:08:31.556031Z",
     "iopub.status.busy": "2022-08-25T11:08:31.555665Z",
     "iopub.status.idle": "2022-08-25T11:08:31.557171Z",
     "shell.execute_reply": "2022-08-25T11:08:31.557411Z"
    }
   },
   "outputs": [
    {
     "ename": "NameError",
     "evalue": "name 'features' is not defined",
     "output_type": "error",
     "traceback": [
      "\u001b[0;31m---------------------------------------------------------------------------\u001b[0m",
      "\u001b[0;31mNameError\u001b[0m                                 Traceback (most recent call last)",
      "\u001b[0;32m/var/folders/24/tg28vxls25l9mjvqrnh0plc80000gn/T/ipykernel_15782/274356833.py\u001b[0m in \u001b[0;36m<module>\u001b[0;34m\u001b[0m\n\u001b[1;32m      1\u001b[0m \u001b[0mdic_accuracy\u001b[0m \u001b[0;34m=\u001b[0m \u001b[0;34m{\u001b[0m\u001b[0;34m}\u001b[0m\u001b[0;34m\u001b[0m\u001b[0;34m\u001b[0m\u001b[0m\n\u001b[0;32m----> 2\u001b[0;31m \u001b[0mdic_accuracy\u001b[0m\u001b[0;34m[\u001b[0m\u001b[0;34m'Decision Tree'\u001b[0m\u001b[0;34m]\u001b[0m \u001b[0;34m=\u001b[0m \u001b[0mcalculate_accuracy\u001b[0m\u001b[0;34m(\u001b[0m\u001b[0mmodel_dt\u001b[0m\u001b[0;34m)\u001b[0m\u001b[0;34m\u001b[0m\u001b[0;34m\u001b[0m\u001b[0m\n\u001b[0m",
      "\u001b[0;32m/var/folders/24/tg28vxls25l9mjvqrnh0plc80000gn/T/ipykernel_15782/3947331998.py\u001b[0m in \u001b[0;36mcalculate_accuracy\u001b[0;34m(model)\u001b[0m\n\u001b[1;32m      4\u001b[0m     \"\"\"\n\u001b[1;32m      5\u001b[0m \u001b[0;34m\u001b[0m\u001b[0m\n\u001b[0;32m----> 6\u001b[0;31m     \u001b[0mmodel\u001b[0m\u001b[0;34m.\u001b[0m\u001b[0mfit\u001b[0m\u001b[0;34m(\u001b[0m\u001b[0mX\u001b[0m\u001b[0;34m=\u001b[0m\u001b[0mfeatures\u001b[0m\u001b[0;34m,\u001b[0m \u001b[0my\u001b[0m\u001b[0;34m=\u001b[0m\u001b[0mtarget\u001b[0m\u001b[0;34m)\u001b[0m\u001b[0;34m\u001b[0m\u001b[0;34m\u001b[0m\u001b[0m\n\u001b[0m\u001b[1;32m      7\u001b[0m     \u001b[0mresult\u001b[0m \u001b[0;34m=\u001b[0m \u001b[0mmodel\u001b[0m\u001b[0;34m.\u001b[0m\u001b[0mscore\u001b[0m\u001b[0;34m(\u001b[0m\u001b[0mX\u001b[0m\u001b[0;34m=\u001b[0m\u001b[0mfeatures\u001b[0m\u001b[0;34m,\u001b[0m \u001b[0my\u001b[0m\u001b[0;34m=\u001b[0m\u001b[0mtarget\u001b[0m\u001b[0;34m)\u001b[0m\u001b[0;34m\u001b[0m\u001b[0;34m\u001b[0m\u001b[0m\n\u001b[1;32m      8\u001b[0m \u001b[0;34m\u001b[0m\u001b[0m\n",
      "\u001b[0;31mNameError\u001b[0m: name 'features' is not defined"
     ]
    }
   ],
   "source": [
    "dic_accuracy = {}\n",
    "dic_accuracy['Decision Tree'] = calculate_accuracy(model_dt)"
   ]
  },
  {
   "cell_type": "markdown",
   "id": "8806904f",
   "metadata": {},
   "source": [
    "### `SVC()` Accuracy"
   ]
  },
  {
   "cell_type": "code",
   "execution_count": 20,
   "id": "77eabfb7",
   "metadata": {
    "execution": {
     "iopub.execute_input": "2022-08-25T11:08:31.561388Z",
     "iopub.status.busy": "2022-08-25T11:08:31.561082Z",
     "iopub.status.idle": "2022-08-25T11:08:31.562500Z",
     "shell.execute_reply": "2022-08-25T11:08:31.562740Z"
    }
   },
   "outputs": [
    {
     "ename": "NameError",
     "evalue": "name 'features' is not defined",
     "output_type": "error",
     "traceback": [
      "\u001b[0;31m---------------------------------------------------------------------------\u001b[0m",
      "\u001b[0;31mNameError\u001b[0m                                 Traceback (most recent call last)",
      "\u001b[0;32m/var/folders/24/tg28vxls25l9mjvqrnh0plc80000gn/T/ipykernel_15782/4146555187.py\u001b[0m in \u001b[0;36m<module>\u001b[0;34m\u001b[0m\n\u001b[0;32m----> 1\u001b[0;31m \u001b[0mdic_accuracy\u001b[0m\u001b[0;34m[\u001b[0m\u001b[0;34m'Support Vector Machines'\u001b[0m\u001b[0;34m]\u001b[0m \u001b[0;34m=\u001b[0m \u001b[0mcalculate_accuracy\u001b[0m\u001b[0;34m(\u001b[0m\u001b[0mmodel_svc\u001b[0m\u001b[0;34m)\u001b[0m\u001b[0;34m\u001b[0m\u001b[0;34m\u001b[0m\u001b[0m\n\u001b[0m\u001b[1;32m      2\u001b[0m \u001b[0mdic_accuracy\u001b[0m\u001b[0;34m\u001b[0m\u001b[0;34m\u001b[0m\u001b[0m\n",
      "\u001b[0;32m/var/folders/24/tg28vxls25l9mjvqrnh0plc80000gn/T/ipykernel_15782/3947331998.py\u001b[0m in \u001b[0;36mcalculate_accuracy\u001b[0;34m(model)\u001b[0m\n\u001b[1;32m      4\u001b[0m     \"\"\"\n\u001b[1;32m      5\u001b[0m \u001b[0;34m\u001b[0m\u001b[0m\n\u001b[0;32m----> 6\u001b[0;31m     \u001b[0mmodel\u001b[0m\u001b[0;34m.\u001b[0m\u001b[0mfit\u001b[0m\u001b[0;34m(\u001b[0m\u001b[0mX\u001b[0m\u001b[0;34m=\u001b[0m\u001b[0mfeatures\u001b[0m\u001b[0;34m,\u001b[0m \u001b[0my\u001b[0m\u001b[0;34m=\u001b[0m\u001b[0mtarget\u001b[0m\u001b[0;34m)\u001b[0m\u001b[0;34m\u001b[0m\u001b[0;34m\u001b[0m\u001b[0m\n\u001b[0m\u001b[1;32m      7\u001b[0m     \u001b[0mresult\u001b[0m \u001b[0;34m=\u001b[0m \u001b[0mmodel\u001b[0m\u001b[0;34m.\u001b[0m\u001b[0mscore\u001b[0m\u001b[0;34m(\u001b[0m\u001b[0mX\u001b[0m\u001b[0;34m=\u001b[0m\u001b[0mfeatures\u001b[0m\u001b[0;34m,\u001b[0m \u001b[0my\u001b[0m\u001b[0;34m=\u001b[0m\u001b[0mtarget\u001b[0m\u001b[0;34m)\u001b[0m\u001b[0;34m\u001b[0m\u001b[0;34m\u001b[0m\u001b[0m\n\u001b[1;32m      8\u001b[0m \u001b[0;34m\u001b[0m\u001b[0m\n",
      "\u001b[0;31mNameError\u001b[0m: name 'features' is not defined"
     ]
    }
   ],
   "source": [
    "dic_accuracy['Support Vector Machines'] = calculate_accuracy(model_svc)\n",
    "dic_accuracy"
   ]
  },
  {
   "cell_type": "markdown",
   "id": "7454947a",
   "metadata": {},
   "source": [
    "### `LogisticRegression()` Accuracy"
   ]
  },
  {
   "cell_type": "code",
   "execution_count": 21,
   "id": "56994a9b",
   "metadata": {
    "execution": {
     "iopub.execute_input": "2022-08-25T11:08:31.566703Z",
     "iopub.status.busy": "2022-08-25T11:08:31.566398Z",
     "iopub.status.idle": "2022-08-25T11:08:31.567853Z",
     "shell.execute_reply": "2022-08-25T11:08:31.568093Z"
    }
   },
   "outputs": [
    {
     "ename": "NameError",
     "evalue": "name 'features' is not defined",
     "output_type": "error",
     "traceback": [
      "\u001b[0;31m---------------------------------------------------------------------------\u001b[0m",
      "\u001b[0;31mNameError\u001b[0m                                 Traceback (most recent call last)",
      "\u001b[0;32m/var/folders/24/tg28vxls25l9mjvqrnh0plc80000gn/T/ipykernel_15782/697642296.py\u001b[0m in \u001b[0;36m<module>\u001b[0;34m\u001b[0m\n\u001b[0;32m----> 1\u001b[0;31m \u001b[0mdic_accuracy\u001b[0m\u001b[0;34m[\u001b[0m\u001b[0;34m'Logistic Regression'\u001b[0m\u001b[0;34m]\u001b[0m \u001b[0;34m=\u001b[0m \u001b[0mcalculate_accuracy\u001b[0m\u001b[0;34m(\u001b[0m\u001b[0mmodel_lr\u001b[0m\u001b[0;34m)\u001b[0m\u001b[0;34m\u001b[0m\u001b[0;34m\u001b[0m\u001b[0m\n\u001b[0m\u001b[1;32m      2\u001b[0m \u001b[0mdic_accuracy\u001b[0m\u001b[0;34m\u001b[0m\u001b[0;34m\u001b[0m\u001b[0m\n",
      "\u001b[0;32m/var/folders/24/tg28vxls25l9mjvqrnh0plc80000gn/T/ipykernel_15782/3947331998.py\u001b[0m in \u001b[0;36mcalculate_accuracy\u001b[0;34m(model)\u001b[0m\n\u001b[1;32m      4\u001b[0m     \"\"\"\n\u001b[1;32m      5\u001b[0m \u001b[0;34m\u001b[0m\u001b[0m\n\u001b[0;32m----> 6\u001b[0;31m     \u001b[0mmodel\u001b[0m\u001b[0;34m.\u001b[0m\u001b[0mfit\u001b[0m\u001b[0;34m(\u001b[0m\u001b[0mX\u001b[0m\u001b[0;34m=\u001b[0m\u001b[0mfeatures\u001b[0m\u001b[0;34m,\u001b[0m \u001b[0my\u001b[0m\u001b[0;34m=\u001b[0m\u001b[0mtarget\u001b[0m\u001b[0;34m)\u001b[0m\u001b[0;34m\u001b[0m\u001b[0;34m\u001b[0m\u001b[0m\n\u001b[0m\u001b[1;32m      7\u001b[0m     \u001b[0mresult\u001b[0m \u001b[0;34m=\u001b[0m \u001b[0mmodel\u001b[0m\u001b[0;34m.\u001b[0m\u001b[0mscore\u001b[0m\u001b[0;34m(\u001b[0m\u001b[0mX\u001b[0m\u001b[0;34m=\u001b[0m\u001b[0mfeatures\u001b[0m\u001b[0;34m,\u001b[0m \u001b[0my\u001b[0m\u001b[0;34m=\u001b[0m\u001b[0mtarget\u001b[0m\u001b[0;34m)\u001b[0m\u001b[0;34m\u001b[0m\u001b[0;34m\u001b[0m\u001b[0m\n\u001b[1;32m      8\u001b[0m \u001b[0;34m\u001b[0m\u001b[0m\n",
      "\u001b[0;31mNameError\u001b[0m: name 'features' is not defined"
     ]
    }
   ],
   "source": [
    "dic_accuracy['Logistic Regression'] = calculate_accuracy(model_lr)\n",
    "dic_accuracy"
   ]
  },
  {
   "cell_type": "markdown",
   "id": "8a2c7646",
   "metadata": {},
   "source": [
    "## Which is the Best Model?\n",
    "\n",
    "The Decision Tree is the best model with an score of 85%:"
   ]
  },
  {
   "cell_type": "code",
   "execution_count": 22,
   "id": "87fa5a3e",
   "metadata": {
    "execution": {
     "iopub.execute_input": "2022-08-25T11:08:31.572443Z",
     "iopub.status.busy": "2022-08-25T11:08:31.572076Z",
     "iopub.status.idle": "2022-08-25T11:08:31.574031Z",
     "shell.execute_reply": "2022-08-25T11:08:31.574213Z"
    }
   },
   "outputs": [
    {
     "name": "stderr",
     "output_type": "stream",
     "text": [
      "/var/folders/24/tg28vxls25l9mjvqrnh0plc80000gn/T/ipykernel_15782/1257758046.py:1: DeprecationWarning: The default dtype for empty Series will be 'object' instead of 'float64' in a future version. Specify a dtype explicitly to silence this warning.\n",
      "  sr_accuracy = pd.Series(dic_accuracy).sort_values(ascending=False)\n"
     ]
    },
    {
     "data": {
      "text/plain": [
       "Series([], dtype: float64)"
      ]
     },
     "execution_count": 22,
     "metadata": {},
     "output_type": "execute_result"
    }
   ],
   "source": [
    "sr_accuracy = pd.Series(dic_accuracy).sort_values(ascending=False)\n",
    "sr_accuracy"
   ]
  },
  {
   "cell_type": "markdown",
   "id": "75162979",
   "metadata": {},
   "source": [
    "Let's suppose for a moment we are a bank to understand the importance of this chapter. A bank's business is, among other things, to give loans to people who can afford it.\n",
    "\n",
    "Although the bank may commit mistakes: giving loans to people who cannot afford it or not giving to people who can.\n",
    "\n",
    "Let's imagine the bank losses of £1M for each 1% of misclassification. As we chose the Decision Tree, the bank lost $15M, as the score suggests. Nevertheless, can we trust the score of 85%?\n",
    "\n",
    "No, because we are cheating the model's evaluation; we evaluated the models with the same data used for training. In other words, the bank is not interested in evaluating the model of the historical customers; they want to know how good the model is for new customers.\n",
    "\n",
    "They cannot create new customers. What can they do then?\n",
    "\n",
    "They separate the data into a train set (70% of customers) used to `.fit()` the mathematical equation and a test set (30% of customers) to evaluate the mathematical equation.\n",
    "\n",
    "You can understand the problem better with the following analogy:\n",
    "\n",
    "## University Access Exams Analogy\n",
    "\n",
    "Let's **imagine**:\n",
    "\n",
    "1. You have a `math exam` on Saturday\n",
    "2. Today is Monday\n",
    "3. You want to **calibrate your level in case you need to study more** for the math exam\n",
    "4. How do you calibrate your `math level`?\n",
    "5. Well, you've got **100 questions `X` with 100 solutions `y`** from past years exams\n",
    "6. You may study the 100 questions with 100 solutions `fit(100questions, 100solutions)`\n",
    "7. Then, you may do a `mock exam` with the 100 questions `predict(100questions)`\n",
    "8. And compare `your_100solutions` with the `real_100solutions`\n",
    "9. You've got **90/100 correct answers** `accuracy` in the mock exam\n",
    "10. You think you are **prepared for the maths exam**\n",
    "11. And when you do **the real exam on Saturday, the mark is 40/100**\n",
    "12. Why? How could we have prevented this?\n",
    "13. **Solution**: separate the 100 questions into `70 for train` to study & `30 for test` for the mock exam.\n",
    "\n",
    "## `train_test_split()` the Data\n",
    "\n",
    "- The documentation of the function contains a typical example."
   ]
  },
  {
   "cell_type": "code",
   "execution_count": 23,
   "id": "4c98de0b",
   "metadata": {
    "execution": {
     "iopub.execute_input": "2022-08-25T11:08:31.577564Z",
     "iopub.status.busy": "2022-08-25T11:08:31.577218Z",
     "iopub.status.idle": "2022-08-25T11:08:31.578678Z",
     "shell.execute_reply": "2022-08-25T11:08:31.578914Z"
    }
   },
   "outputs": [
    {
     "ename": "NameError",
     "evalue": "name 'features' is not defined",
     "output_type": "error",
     "traceback": [
      "\u001b[0;31m---------------------------------------------------------------------------\u001b[0m",
      "\u001b[0;31mNameError\u001b[0m                                 Traceback (most recent call last)",
      "\u001b[0;32m/var/folders/24/tg28vxls25l9mjvqrnh0plc80000gn/T/ipykernel_15782/2315201114.py\u001b[0m in \u001b[0;36m<module>\u001b[0;34m\u001b[0m\n\u001b[1;32m      2\u001b[0m \u001b[0;34m\u001b[0m\u001b[0m\n\u001b[1;32m      3\u001b[0m X_train, X_test, y_train, y_test = train_test_split(\n\u001b[0;32m----> 4\u001b[0;31m     features, target, test_size=0.30, random_state=42)\n\u001b[0m",
      "\u001b[0;31mNameError\u001b[0m: name 'features' is not defined"
     ]
    }
   ],
   "source": [
    "from sklearn.model_selection import train_test_split\n",
    "\n",
    "X_train, X_test, y_train, y_test = train_test_split(\n",
    "    features, target, test_size=0.30, random_state=42)"
   ]
  },
  {
   "cell_type": "markdown",
   "id": "017f5b21",
   "metadata": {},
   "source": [
    "### What the heck is returning the function?\n",
    "\n",
    "From all the data:\n",
    "- 2455 rows\n",
    "- 8 columns"
   ]
  },
  {
   "cell_type": "code",
   "execution_count": 24,
   "id": "9a16550c",
   "metadata": {
    "execution": {
     "iopub.execute_input": "2022-08-25T11:08:31.581715Z",
     "iopub.status.busy": "2022-08-25T11:08:31.581376Z",
     "iopub.status.idle": "2022-08-25T11:08:31.582910Z",
     "shell.execute_reply": "2022-08-25T11:08:31.583141Z"
    }
   },
   "outputs": [
    {
     "ename": "NameError",
     "evalue": "name 'df_internet' is not defined",
     "output_type": "error",
     "traceback": [
      "\u001b[0;31m---------------------------------------------------------------------------\u001b[0m",
      "\u001b[0;31mNameError\u001b[0m                                 Traceback (most recent call last)",
      "\u001b[0;32m/var/folders/24/tg28vxls25l9mjvqrnh0plc80000gn/T/ipykernel_15782/2680166802.py\u001b[0m in \u001b[0;36m<module>\u001b[0;34m\u001b[0m\n\u001b[0;32m----> 1\u001b[0;31m \u001b[0mdf_internet\u001b[0m\u001b[0;34m\u001b[0m\u001b[0;34m\u001b[0m\u001b[0m\n\u001b[0m",
      "\u001b[0;31mNameError\u001b[0m: name 'df_internet' is not defined"
     ]
    }
   ],
   "source": [
    "df_internet"
   ]
  },
  {
   "cell_type": "markdown",
   "id": "47618883",
   "metadata": {},
   "source": [
    "![df3.jpeg](https://cdn.hashnode.com/res/hashnode/image/upload/v1661356876860/xOo5CFhgjt.jpeg align=\"left\")\n",
    "\n",
    "- 1728 rows (70% of all data) → to fit the model\n",
    "- 7 columns (X: features variables)"
   ]
  },
  {
   "cell_type": "code",
   "execution_count": 25,
   "id": "bc3afa41",
   "metadata": {
    "execution": {
     "iopub.execute_input": "2022-08-25T11:08:31.585853Z",
     "iopub.status.busy": "2022-08-25T11:08:31.585536Z",
     "iopub.status.idle": "2022-08-25T11:08:31.586918Z",
     "shell.execute_reply": "2022-08-25T11:08:31.587154Z"
    }
   },
   "outputs": [
    {
     "ename": "NameError",
     "evalue": "name 'X_train' is not defined",
     "output_type": "error",
     "traceback": [
      "\u001b[0;31m---------------------------------------------------------------------------\u001b[0m",
      "\u001b[0;31mNameError\u001b[0m                                 Traceback (most recent call last)",
      "\u001b[0;32m/var/folders/24/tg28vxls25l9mjvqrnh0plc80000gn/T/ipykernel_15782/4239342174.py\u001b[0m in \u001b[0;36m<module>\u001b[0;34m\u001b[0m\n\u001b[0;32m----> 1\u001b[0;31m \u001b[0mX_train\u001b[0m\u001b[0;34m\u001b[0m\u001b[0;34m\u001b[0m\u001b[0m\n\u001b[0m",
      "\u001b[0;31mNameError\u001b[0m: name 'X_train' is not defined"
     ]
    }
   ],
   "source": [
    "X_train"
   ]
  },
  {
   "cell_type": "markdown",
   "id": "c5deab25",
   "metadata": {},
   "source": [
    "![df4.jpeg](https://cdn.hashnode.com/res/hashnode/image/upload/v1661356885168/azAf5vWKS.jpeg align=\"left\")\n",
    "\n",
    "- 737 rows (30% of all data) → to evaluate the model\n",
    "- 7 columns (X: features variables)"
   ]
  },
  {
   "cell_type": "code",
   "execution_count": 26,
   "id": "3cf2496b",
   "metadata": {
    "execution": {
     "iopub.execute_input": "2022-08-25T11:08:31.589910Z",
     "iopub.status.busy": "2022-08-25T11:08:31.589577Z",
     "iopub.status.idle": "2022-08-25T11:08:31.591011Z",
     "shell.execute_reply": "2022-08-25T11:08:31.591235Z"
    }
   },
   "outputs": [
    {
     "ename": "NameError",
     "evalue": "name 'X_test' is not defined",
     "output_type": "error",
     "traceback": [
      "\u001b[0;31m---------------------------------------------------------------------------\u001b[0m",
      "\u001b[0;31mNameError\u001b[0m                                 Traceback (most recent call last)",
      "\u001b[0;32m/var/folders/24/tg28vxls25l9mjvqrnh0plc80000gn/T/ipykernel_15782/2302220135.py\u001b[0m in \u001b[0;36m<module>\u001b[0;34m\u001b[0m\n\u001b[0;32m----> 1\u001b[0;31m \u001b[0mX_test\u001b[0m\u001b[0;34m\u001b[0m\u001b[0;34m\u001b[0m\u001b[0m\n\u001b[0m",
      "\u001b[0;31mNameError\u001b[0m: name 'X_test' is not defined"
     ]
    }
   ],
   "source": [
    "X_test"
   ]
  },
  {
   "cell_type": "markdown",
   "id": "d27250ae",
   "metadata": {},
   "source": [
    "![df5.jpeg](https://cdn.hashnode.com/res/hashnode/image/upload/v1661356894674/ILzg59tER.jpeg align=\"left\")\n",
    "\n",
    "- 1728 rows (70% of all data) → to fit the model\n",
    "- 1 columns (y: target variable)"
   ]
  },
  {
   "cell_type": "code",
   "execution_count": 27,
   "id": "d5665879",
   "metadata": {
    "execution": {
     "iopub.execute_input": "2022-08-25T11:08:31.593992Z",
     "iopub.status.busy": "2022-08-25T11:08:31.593679Z",
     "iopub.status.idle": "2022-08-25T11:08:31.595072Z",
     "shell.execute_reply": "2022-08-25T11:08:31.595303Z"
    }
   },
   "outputs": [
    {
     "ename": "NameError",
     "evalue": "name 'y_train' is not defined",
     "output_type": "error",
     "traceback": [
      "\u001b[0;31m---------------------------------------------------------------------------\u001b[0m",
      "\u001b[0;31mNameError\u001b[0m                                 Traceback (most recent call last)",
      "\u001b[0;32m/var/folders/24/tg28vxls25l9mjvqrnh0plc80000gn/T/ipykernel_15782/2642340758.py\u001b[0m in \u001b[0;36m<module>\u001b[0;34m\u001b[0m\n\u001b[0;32m----> 1\u001b[0;31m \u001b[0my_train\u001b[0m\u001b[0;34m\u001b[0m\u001b[0;34m\u001b[0m\u001b[0m\n\u001b[0m",
      "\u001b[0;31mNameError\u001b[0m: name 'y_train' is not defined"
     ]
    }
   ],
   "source": [
    "y_train"
   ]
  },
  {
   "cell_type": "markdown",
   "id": "76c600ff",
   "metadata": {},
   "source": [
    "- 737 rows (30% of all data) → to evaluate the model\n",
    "- 1 columns (y: target variable)"
   ]
  },
  {
   "cell_type": "code",
   "execution_count": 28,
   "id": "5e289091",
   "metadata": {
    "execution": {
     "iopub.execute_input": "2022-08-25T11:08:31.598091Z",
     "iopub.status.busy": "2022-08-25T11:08:31.597746Z",
     "iopub.status.idle": "2022-08-25T11:08:31.599228Z",
     "shell.execute_reply": "2022-08-25T11:08:31.599456Z"
    }
   },
   "outputs": [
    {
     "ename": "NameError",
     "evalue": "name 'y_test' is not defined",
     "output_type": "error",
     "traceback": [
      "\u001b[0;31m---------------------------------------------------------------------------\u001b[0m",
      "\u001b[0;31mNameError\u001b[0m                                 Traceback (most recent call last)",
      "\u001b[0;32m/var/folders/24/tg28vxls25l9mjvqrnh0plc80000gn/T/ipykernel_15782/4075987148.py\u001b[0m in \u001b[0;36m<module>\u001b[0;34m\u001b[0m\n\u001b[0;32m----> 1\u001b[0;31m \u001b[0my_test\u001b[0m\u001b[0;34m\u001b[0m\u001b[0;34m\u001b[0m\u001b[0m\n\u001b[0m",
      "\u001b[0;31mNameError\u001b[0m: name 'y_test' is not defined"
     ]
    }
   ],
   "source": [
    "y_test"
   ]
  },
  {
   "cell_type": "markdown",
   "id": "1db6a36e",
   "metadata": {},
   "source": [
    "### `fit()` the model with Train Data"
   ]
  },
  {
   "cell_type": "code",
   "execution_count": 29,
   "id": "87c7e8df",
   "metadata": {
    "execution": {
     "iopub.execute_input": "2022-08-25T11:08:31.602434Z",
     "iopub.status.busy": "2022-08-25T11:08:31.602065Z",
     "iopub.status.idle": "2022-08-25T11:08:31.603707Z",
     "shell.execute_reply": "2022-08-25T11:08:31.603952Z"
    }
   },
   "outputs": [
    {
     "ename": "NameError",
     "evalue": "name 'X_train' is not defined",
     "output_type": "error",
     "traceback": [
      "\u001b[0;31m---------------------------------------------------------------------------\u001b[0m",
      "\u001b[0;31mNameError\u001b[0m                                 Traceback (most recent call last)",
      "\u001b[0;32m/var/folders/24/tg28vxls25l9mjvqrnh0plc80000gn/T/ipykernel_15782/3609108612.py\u001b[0m in \u001b[0;36m<module>\u001b[0;34m\u001b[0m\n\u001b[0;32m----> 1\u001b[0;31m \u001b[0mmodel_dt\u001b[0m\u001b[0;34m.\u001b[0m\u001b[0mfit\u001b[0m\u001b[0;34m(\u001b[0m\u001b[0mX_train\u001b[0m\u001b[0;34m,\u001b[0m \u001b[0my_train\u001b[0m\u001b[0;34m)\u001b[0m\u001b[0;34m\u001b[0m\u001b[0;34m\u001b[0m\u001b[0m\n\u001b[0m",
      "\u001b[0;31mNameError\u001b[0m: name 'X_train' is not defined"
     ]
    }
   ],
   "source": [
    "model_dt.fit(X_train, y_train)"
   ]
  },
  {
   "cell_type": "markdown",
   "id": "1bbb283a",
   "metadata": {},
   "source": [
    "### Compare the predictions with the real data"
   ]
  },
  {
   "cell_type": "code",
   "execution_count": 30,
   "id": "75601769",
   "metadata": {
    "execution": {
     "iopub.execute_input": "2022-08-25T11:08:31.606852Z",
     "iopub.status.busy": "2022-08-25T11:08:31.606550Z",
     "iopub.status.idle": "2022-08-25T11:08:31.607916Z",
     "shell.execute_reply": "2022-08-25T11:08:31.608192Z"
    }
   },
   "outputs": [
    {
     "ename": "NameError",
     "evalue": "name 'X_test' is not defined",
     "output_type": "error",
     "traceback": [
      "\u001b[0;31m---------------------------------------------------------------------------\u001b[0m",
      "\u001b[0;31mNameError\u001b[0m                                 Traceback (most recent call last)",
      "\u001b[0;32m/var/folders/24/tg28vxls25l9mjvqrnh0plc80000gn/T/ipykernel_15782/1410302556.py\u001b[0m in \u001b[0;36m<module>\u001b[0;34m\u001b[0m\n\u001b[0;32m----> 1\u001b[0;31m \u001b[0mmodel_dt\u001b[0m\u001b[0;34m.\u001b[0m\u001b[0mscore\u001b[0m\u001b[0;34m(\u001b[0m\u001b[0mX_test\u001b[0m\u001b[0;34m,\u001b[0m \u001b[0my_test\u001b[0m\u001b[0;34m)\u001b[0m\u001b[0;34m\u001b[0m\u001b[0;34m\u001b[0m\u001b[0m\n\u001b[0m",
      "\u001b[0;31mNameError\u001b[0m: name 'X_test' is not defined"
     ]
    }
   ],
   "source": [
    "model_dt.score(X_test, y_test)"
   ]
  },
  {
   "cell_type": "markdown",
   "id": "8ec6c2bc",
   "metadata": {},
   "source": [
    "## Optimize All Models & Compare Again\n",
    "\n",
    "### Make a Procedure Sample for `DecisionTreeClassifier()`"
   ]
  },
  {
   "cell_type": "code",
   "execution_count": 31,
   "id": "e2085a78",
   "metadata": {
    "execution": {
     "iopub.execute_input": "2022-08-25T11:08:31.611153Z",
     "iopub.status.busy": "2022-08-25T11:08:31.610835Z",
     "iopub.status.idle": "2022-08-25T11:08:31.612194Z",
     "shell.execute_reply": "2022-08-25T11:08:31.612423Z"
    }
   },
   "outputs": [
    {
     "ename": "NameError",
     "evalue": "name 'X_train' is not defined",
     "output_type": "error",
     "traceback": [
      "\u001b[0;31m---------------------------------------------------------------------------\u001b[0m",
      "\u001b[0;31mNameError\u001b[0m                                 Traceback (most recent call last)",
      "\u001b[0;32m/var/folders/24/tg28vxls25l9mjvqrnh0plc80000gn/T/ipykernel_15782/493094129.py\u001b[0m in \u001b[0;36m<module>\u001b[0;34m\u001b[0m\n\u001b[1;32m      1\u001b[0m \u001b[0mmodel_dt\u001b[0m \u001b[0;34m=\u001b[0m \u001b[0mDecisionTreeClassifier\u001b[0m\u001b[0;34m(\u001b[0m\u001b[0;34m)\u001b[0m\u001b[0;34m\u001b[0m\u001b[0;34m\u001b[0m\u001b[0m\n\u001b[0;32m----> 2\u001b[0;31m \u001b[0mmodel_dt\u001b[0m\u001b[0;34m.\u001b[0m\u001b[0mfit\u001b[0m\u001b[0;34m(\u001b[0m\u001b[0mX_train\u001b[0m\u001b[0;34m,\u001b[0m \u001b[0my_train\u001b[0m\u001b[0;34m)\u001b[0m\u001b[0;34m\u001b[0m\u001b[0;34m\u001b[0m\u001b[0m\n\u001b[0m\u001b[1;32m      3\u001b[0m \u001b[0mmodel_dt\u001b[0m\u001b[0;34m.\u001b[0m\u001b[0mscore\u001b[0m\u001b[0;34m(\u001b[0m\u001b[0mX_test\u001b[0m\u001b[0;34m,\u001b[0m \u001b[0my_test\u001b[0m\u001b[0;34m)\u001b[0m\u001b[0;34m\u001b[0m\u001b[0;34m\u001b[0m\u001b[0m\n",
      "\u001b[0;31mNameError\u001b[0m: name 'X_train' is not defined"
     ]
    }
   ],
   "source": [
    "model_dt = DecisionTreeClassifier()\n",
    "model_dt.fit(X_train, y_train)\n",
    "model_dt.score(X_test, y_test)"
   ]
  },
  {
   "cell_type": "markdown",
   "id": "de7a5067",
   "metadata": {},
   "source": [
    "### Automate the Procedure into a `function()`\n",
    "\n",
    "**Code Thinking**\n",
    "\n",
    "1. Think of the functions `result`\n",
    "2. Store that `object` to a variable\n",
    "3. `return` the `result` at the end\n",
    "4. **Indent the body** of the function to the right\n",
    "5. `def`ine the `function():`\n",
    "6. Think of what's gonna change when you execute the function with `different models`\n",
    "7. Locate the **`variable` that you will change**\n",
    "8. Turn it into the `parameter` of the `function()`"
   ]
  },
  {
   "cell_type": "code",
   "execution_count": 32,
   "id": "1e136063",
   "metadata": {
    "execution": {
     "iopub.execute_input": "2022-08-25T11:08:31.614184Z",
     "iopub.status.busy": "2022-08-25T11:08:31.613908Z",
     "iopub.status.idle": "2022-08-25T11:08:31.615094Z",
     "shell.execute_reply": "2022-08-25T11:08:31.615282Z"
    }
   },
   "outputs": [],
   "source": [
    "def calculate_accuracy_test(model):\n",
    "\n",
    "    model.fit(X_train, y_train)\n",
    "    result = model.score(X_test, y_test)\n",
    "\n",
    "    return result"
   ]
  },
  {
   "cell_type": "markdown",
   "id": "b009ecc8",
   "metadata": {},
   "source": [
    "## Calculate Models' dic_accuracy\n",
    "\n",
    "### `DecisionTreeClassifier()` Accuracy"
   ]
  },
  {
   "cell_type": "code",
   "execution_count": 33,
   "id": "44f60a26",
   "metadata": {
    "execution": {
     "iopub.execute_input": "2022-08-25T11:08:31.619352Z",
     "iopub.status.busy": "2022-08-25T11:08:31.619047Z",
     "iopub.status.idle": "2022-08-25T11:08:31.620428Z",
     "shell.execute_reply": "2022-08-25T11:08:31.620671Z"
    }
   },
   "outputs": [
    {
     "ename": "NameError",
     "evalue": "name 'X_train' is not defined",
     "output_type": "error",
     "traceback": [
      "\u001b[0;31m---------------------------------------------------------------------------\u001b[0m",
      "\u001b[0;31mNameError\u001b[0m                                 Traceback (most recent call last)",
      "\u001b[0;32m/var/folders/24/tg28vxls25l9mjvqrnh0plc80000gn/T/ipykernel_15782/2938057532.py\u001b[0m in \u001b[0;36m<module>\u001b[0;34m\u001b[0m\n\u001b[1;32m      1\u001b[0m \u001b[0mdic_accuracy_test\u001b[0m \u001b[0;34m=\u001b[0m \u001b[0;34m{\u001b[0m\u001b[0;34m}\u001b[0m\u001b[0;34m\u001b[0m\u001b[0;34m\u001b[0m\u001b[0m\n\u001b[1;32m      2\u001b[0m \u001b[0;34m\u001b[0m\u001b[0m\n\u001b[0;32m----> 3\u001b[0;31m \u001b[0mdic_accuracy_test\u001b[0m\u001b[0;34m[\u001b[0m\u001b[0;34m'Decision Tree'\u001b[0m\u001b[0;34m]\u001b[0m \u001b[0;34m=\u001b[0m \u001b[0mcalculate_accuracy_test\u001b[0m\u001b[0;34m(\u001b[0m\u001b[0mmodel_dt\u001b[0m\u001b[0;34m)\u001b[0m\u001b[0;34m\u001b[0m\u001b[0;34m\u001b[0m\u001b[0m\n\u001b[0m\u001b[1;32m      4\u001b[0m \u001b[0mdic_accuracy_test\u001b[0m\u001b[0;34m\u001b[0m\u001b[0;34m\u001b[0m\u001b[0m\n",
      "\u001b[0;32m/var/folders/24/tg28vxls25l9mjvqrnh0plc80000gn/T/ipykernel_15782/3930765797.py\u001b[0m in \u001b[0;36mcalculate_accuracy_test\u001b[0;34m(model)\u001b[0m\n\u001b[1;32m      1\u001b[0m \u001b[0;32mdef\u001b[0m \u001b[0mcalculate_accuracy_test\u001b[0m\u001b[0;34m(\u001b[0m\u001b[0mmodel\u001b[0m\u001b[0;34m)\u001b[0m\u001b[0;34m:\u001b[0m\u001b[0;34m\u001b[0m\u001b[0;34m\u001b[0m\u001b[0m\n\u001b[1;32m      2\u001b[0m \u001b[0;34m\u001b[0m\u001b[0m\n\u001b[0;32m----> 3\u001b[0;31m     \u001b[0mmodel\u001b[0m\u001b[0;34m.\u001b[0m\u001b[0mfit\u001b[0m\u001b[0;34m(\u001b[0m\u001b[0mX_train\u001b[0m\u001b[0;34m,\u001b[0m \u001b[0my_train\u001b[0m\u001b[0;34m)\u001b[0m\u001b[0;34m\u001b[0m\u001b[0;34m\u001b[0m\u001b[0m\n\u001b[0m\u001b[1;32m      4\u001b[0m     \u001b[0mresult\u001b[0m \u001b[0;34m=\u001b[0m \u001b[0mmodel\u001b[0m\u001b[0;34m.\u001b[0m\u001b[0mscore\u001b[0m\u001b[0;34m(\u001b[0m\u001b[0mX_test\u001b[0m\u001b[0;34m,\u001b[0m \u001b[0my_test\u001b[0m\u001b[0;34m)\u001b[0m\u001b[0;34m\u001b[0m\u001b[0;34m\u001b[0m\u001b[0m\n\u001b[1;32m      5\u001b[0m \u001b[0;34m\u001b[0m\u001b[0m\n",
      "\u001b[0;31mNameError\u001b[0m: name 'X_train' is not defined"
     ]
    }
   ],
   "source": [
    "dic_accuracy_test = {}\n",
    "\n",
    "dic_accuracy_test['Decision Tree'] = calculate_accuracy_test(model_dt)\n",
    "dic_accuracy_test"
   ]
  },
  {
   "cell_type": "markdown",
   "id": "6e22abc3",
   "metadata": {},
   "source": [
    "### `SVC()` Accuracy"
   ]
  },
  {
   "cell_type": "code",
   "execution_count": 34,
   "id": "52d5d974",
   "metadata": {
    "execution": {
     "iopub.execute_input": "2022-08-25T11:08:31.624616Z",
     "iopub.status.busy": "2022-08-25T11:08:31.624252Z",
     "iopub.status.idle": "2022-08-25T11:08:31.625755Z",
     "shell.execute_reply": "2022-08-25T11:08:31.626002Z"
    }
   },
   "outputs": [
    {
     "ename": "NameError",
     "evalue": "name 'X_train' is not defined",
     "output_type": "error",
     "traceback": [
      "\u001b[0;31m---------------------------------------------------------------------------\u001b[0m",
      "\u001b[0;31mNameError\u001b[0m                                 Traceback (most recent call last)",
      "\u001b[0;32m/var/folders/24/tg28vxls25l9mjvqrnh0plc80000gn/T/ipykernel_15782/2359869373.py\u001b[0m in \u001b[0;36m<module>\u001b[0;34m\u001b[0m\n\u001b[0;32m----> 1\u001b[0;31m \u001b[0mdic_accuracy_test\u001b[0m\u001b[0;34m[\u001b[0m\u001b[0;34m'Support Vector Machines'\u001b[0m\u001b[0;34m]\u001b[0m \u001b[0;34m=\u001b[0m \u001b[0mcalculate_accuracy_test\u001b[0m\u001b[0;34m(\u001b[0m\u001b[0mmodel_svc\u001b[0m\u001b[0;34m)\u001b[0m\u001b[0;34m\u001b[0m\u001b[0;34m\u001b[0m\u001b[0m\n\u001b[0m\u001b[1;32m      2\u001b[0m \u001b[0mdic_accuracy_test\u001b[0m\u001b[0;34m\u001b[0m\u001b[0;34m\u001b[0m\u001b[0m\n",
      "\u001b[0;32m/var/folders/24/tg28vxls25l9mjvqrnh0plc80000gn/T/ipykernel_15782/3930765797.py\u001b[0m in \u001b[0;36mcalculate_accuracy_test\u001b[0;34m(model)\u001b[0m\n\u001b[1;32m      1\u001b[0m \u001b[0;32mdef\u001b[0m \u001b[0mcalculate_accuracy_test\u001b[0m\u001b[0;34m(\u001b[0m\u001b[0mmodel\u001b[0m\u001b[0;34m)\u001b[0m\u001b[0;34m:\u001b[0m\u001b[0;34m\u001b[0m\u001b[0;34m\u001b[0m\u001b[0m\n\u001b[1;32m      2\u001b[0m \u001b[0;34m\u001b[0m\u001b[0m\n\u001b[0;32m----> 3\u001b[0;31m     \u001b[0mmodel\u001b[0m\u001b[0;34m.\u001b[0m\u001b[0mfit\u001b[0m\u001b[0;34m(\u001b[0m\u001b[0mX_train\u001b[0m\u001b[0;34m,\u001b[0m \u001b[0my_train\u001b[0m\u001b[0;34m)\u001b[0m\u001b[0;34m\u001b[0m\u001b[0;34m\u001b[0m\u001b[0m\n\u001b[0m\u001b[1;32m      4\u001b[0m     \u001b[0mresult\u001b[0m \u001b[0;34m=\u001b[0m \u001b[0mmodel\u001b[0m\u001b[0;34m.\u001b[0m\u001b[0mscore\u001b[0m\u001b[0;34m(\u001b[0m\u001b[0mX_test\u001b[0m\u001b[0;34m,\u001b[0m \u001b[0my_test\u001b[0m\u001b[0;34m)\u001b[0m\u001b[0;34m\u001b[0m\u001b[0;34m\u001b[0m\u001b[0m\n\u001b[1;32m      5\u001b[0m \u001b[0;34m\u001b[0m\u001b[0m\n",
      "\u001b[0;31mNameError\u001b[0m: name 'X_train' is not defined"
     ]
    }
   ],
   "source": [
    "dic_accuracy_test['Support Vector Machines'] = calculate_accuracy_test(model_svc)\n",
    "dic_accuracy_test"
   ]
  },
  {
   "cell_type": "markdown",
   "id": "0edfbdb5",
   "metadata": {},
   "source": [
    "### `LogisticRegression()` Accuracy"
   ]
  },
  {
   "cell_type": "code",
   "execution_count": 35,
   "id": "3fd9eebb",
   "metadata": {
    "execution": {
     "iopub.execute_input": "2022-08-25T11:08:31.629964Z",
     "iopub.status.busy": "2022-08-25T11:08:31.629618Z",
     "iopub.status.idle": "2022-08-25T11:08:31.631041Z",
     "shell.execute_reply": "2022-08-25T11:08:31.631271Z"
    }
   },
   "outputs": [
    {
     "ename": "NameError",
     "evalue": "name 'X_train' is not defined",
     "output_type": "error",
     "traceback": [
      "\u001b[0;31m---------------------------------------------------------------------------\u001b[0m",
      "\u001b[0;31mNameError\u001b[0m                                 Traceback (most recent call last)",
      "\u001b[0;32m/var/folders/24/tg28vxls25l9mjvqrnh0plc80000gn/T/ipykernel_15782/4266618778.py\u001b[0m in \u001b[0;36m<module>\u001b[0;34m\u001b[0m\n\u001b[0;32m----> 1\u001b[0;31m \u001b[0mdic_accuracy_test\u001b[0m\u001b[0;34m[\u001b[0m\u001b[0;34m'Logistic Regression'\u001b[0m\u001b[0;34m]\u001b[0m \u001b[0;34m=\u001b[0m \u001b[0mcalculate_accuracy_test\u001b[0m\u001b[0;34m(\u001b[0m\u001b[0mmodel_lr\u001b[0m\u001b[0;34m)\u001b[0m\u001b[0;34m\u001b[0m\u001b[0;34m\u001b[0m\u001b[0m\n\u001b[0m\u001b[1;32m      2\u001b[0m \u001b[0mdic_accuracy_test\u001b[0m\u001b[0;34m\u001b[0m\u001b[0;34m\u001b[0m\u001b[0m\n",
      "\u001b[0;32m/var/folders/24/tg28vxls25l9mjvqrnh0plc80000gn/T/ipykernel_15782/3930765797.py\u001b[0m in \u001b[0;36mcalculate_accuracy_test\u001b[0;34m(model)\u001b[0m\n\u001b[1;32m      1\u001b[0m \u001b[0;32mdef\u001b[0m \u001b[0mcalculate_accuracy_test\u001b[0m\u001b[0;34m(\u001b[0m\u001b[0mmodel\u001b[0m\u001b[0;34m)\u001b[0m\u001b[0;34m:\u001b[0m\u001b[0;34m\u001b[0m\u001b[0;34m\u001b[0m\u001b[0m\n\u001b[1;32m      2\u001b[0m \u001b[0;34m\u001b[0m\u001b[0m\n\u001b[0;32m----> 3\u001b[0;31m     \u001b[0mmodel\u001b[0m\u001b[0;34m.\u001b[0m\u001b[0mfit\u001b[0m\u001b[0;34m(\u001b[0m\u001b[0mX_train\u001b[0m\u001b[0;34m,\u001b[0m \u001b[0my_train\u001b[0m\u001b[0;34m)\u001b[0m\u001b[0;34m\u001b[0m\u001b[0;34m\u001b[0m\u001b[0m\n\u001b[0m\u001b[1;32m      4\u001b[0m     \u001b[0mresult\u001b[0m \u001b[0;34m=\u001b[0m \u001b[0mmodel\u001b[0m\u001b[0;34m.\u001b[0m\u001b[0mscore\u001b[0m\u001b[0;34m(\u001b[0m\u001b[0mX_test\u001b[0m\u001b[0;34m,\u001b[0m \u001b[0my_test\u001b[0m\u001b[0;34m)\u001b[0m\u001b[0;34m\u001b[0m\u001b[0;34m\u001b[0m\u001b[0m\n\u001b[1;32m      5\u001b[0m \u001b[0;34m\u001b[0m\u001b[0m\n",
      "\u001b[0;31mNameError\u001b[0m: name 'X_train' is not defined"
     ]
    }
   ],
   "source": [
    "dic_accuracy_test['Logistic Regression'] = calculate_accuracy_test(model_lr)\n",
    "dic_accuracy_test"
   ]
  },
  {
   "cell_type": "markdown",
   "id": "f0971e08",
   "metadata": {},
   "source": [
    "## Which is the Best Model with `train_test_split()`?\n",
    "\n",
    "The picture change quite a lot as the bank is losing £20M due to the model we chose before: the Decision Tree; the score in data that hasn't been seen during training (i.e., new customers) is 80%.\n",
    "\n",
    "We should have chosen the Logistic Regression because it's the best model (85%) to predict new data and new customers.\n",
    "\n",
    "In short, we lose £15M if we choose the Logistic Regression, which it's better than the Decision Tree's loss of £20M. Those £5M can make a difference in my life 👀"
   ]
  },
  {
   "cell_type": "code",
   "execution_count": 36,
   "id": "7a557627",
   "metadata": {
    "execution": {
     "iopub.execute_input": "2022-08-25T11:08:31.633615Z",
     "iopub.status.busy": "2022-08-25T11:08:31.633269Z",
     "iopub.status.idle": "2022-08-25T11:08:31.635006Z",
     "shell.execute_reply": "2022-08-25T11:08:31.635180Z"
    }
   },
   "outputs": [
    {
     "name": "stderr",
     "output_type": "stream",
     "text": [
      "/var/folders/24/tg28vxls25l9mjvqrnh0plc80000gn/T/ipykernel_15782/4209506021.py:1: DeprecationWarning: The default dtype for empty Series will be 'object' instead of 'float64' in a future version. Specify a dtype explicitly to silence this warning.\n",
      "  sr_accuracy_test = pd.Series(dic_accuracy_test).sort_values(ascending=False)\n"
     ]
    },
    {
     "data": {
      "text/plain": [
       "Series([], dtype: float64)"
      ]
     },
     "execution_count": 36,
     "metadata": {},
     "output_type": "execute_result"
    }
   ],
   "source": [
    "sr_accuracy_test = pd.Series(dic_accuracy_test).sort_values(ascending=False)\n",
    "sr_accuracy_test"
   ]
  },
  {
   "cell_type": "markdown",
   "id": "ced9e9dc",
   "metadata": {},
   "source": []
  },
  {
   "cell_type": "code",
   "execution_count": 37,
   "id": "165f3e0d",
   "metadata": {
    "execution": {
     "iopub.execute_input": "2022-08-25T11:08:31.637313Z",
     "iopub.status.busy": "2022-08-25T11:08:31.637033Z",
     "iopub.status.idle": "2022-08-25T11:08:31.801442Z",
     "shell.execute_reply": "2022-08-25T11:08:31.801641Z"
    }
   },
   "outputs": [
    {
     "data": {
      "text/html": [
       "<style type=\"text/css\">\n",
       "</style>\n",
       "<table id=\"T_743d2_\">\n",
       "  <thead>\n",
       "    <tr>\n",
       "      <th class=\"blank level0\" >&nbsp;</th>\n",
       "      <th class=\"col_heading level0 col0\" >Same Data</th>\n",
       "      <th class=\"col_heading level0 col1\" >Test Data</th>\n",
       "    </tr>\n",
       "  </thead>\n",
       "  <tbody>\n",
       "  </tbody>\n",
       "</table>\n"
      ],
      "text/plain": [
       "<pandas.io.formats.style.Styler at 0x11f216ac0>"
      ]
     },
     "execution_count": 37,
     "metadata": {},
     "output_type": "execute_result"
    }
   ],
   "source": [
    "df_accuracy = pd.DataFrame({\n",
    "    'Same Data': sr_accuracy,\n",
    "    'Test Data': sr_accuracy_test\n",
    "})\n",
    "\n",
    "df_accuracy.style.format('{:.2f}').background_gradient()"
   ]
  },
  {
   "cell_type": "markdown",
   "id": "c0a54053",
   "metadata": {},
   "source": [
    "![df6.jpeg](https://cdn.hashnode.com/res/hashnode/image/upload/v1661356937793/IIw9RxNQC.jpeg align=\"left\")"
   ]
  }
 ],
 "metadata": {
  "kernelspec": {
   "display_name": "Python 3 (ipykernel)",
   "language": "python",
   "name": "python3"
  },
  "language_info": {
   "codemirror_mode": {
    "name": "ipython",
    "version": 3
   },
   "file_extension": ".py",
   "mimetype": "text/x-python",
   "name": "python",
   "nbconvert_exporter": "python",
   "pygments_lexer": "ipython3",
   "version": "3.9.7"
  }
 },
 "nbformat": 4,
 "nbformat_minor": 5
}
