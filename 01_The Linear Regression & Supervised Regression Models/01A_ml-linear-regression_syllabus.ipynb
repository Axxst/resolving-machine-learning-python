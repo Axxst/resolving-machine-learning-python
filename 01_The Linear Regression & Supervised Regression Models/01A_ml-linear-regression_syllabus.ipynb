{
 "cells": [
  {
   "cell_type": "markdown",
   "id": "3286da4a-c37f-4c38-ab88-ad309ae5729f",
   "metadata": {},
   "source": [
    "<center>\n",
    "    <img src=\"../src/logo.svg\" alt=\"logo\">\n",
    "</center>\n",
    "\n",
    "**© Jesús López**\n",
    "\n",
    "Ask him any doubt on **[Twitter](https://twitter.com/jsulopz)** or **[LinkedIn](https://linkedin.com/in/jsulopz)**"
   ]
  },
  {
   "cell_type": "markdown",
   "id": "09d0ca17-0c25-48dc-9344-081b91ee0c6e",
   "metadata": {
    "tags": []
   },
   "source": [
    "# The Challenge\n",
    "\n",
    "<div class=\"alert alert-danger\">\n",
    "    Create a Linear Regression model from the following data:\n",
    "</div>"
   ]
  },
  {
   "cell_type": "code",
   "execution_count": 2,
   "id": "4e78d2ed-c1f1-455e-a340-a5c8748fe3b1",
   "metadata": {},
   "outputs": [
    {
     "data": {
      "text/html": [
       "<div>\n",
       "<style scoped>\n",
       "    .dataframe tbody tr th:only-of-type {\n",
       "        vertical-align: middle;\n",
       "    }\n",
       "\n",
       "    .dataframe tbody tr th {\n",
       "        vertical-align: top;\n",
       "    }\n",
       "\n",
       "    .dataframe thead th {\n",
       "        text-align: right;\n",
       "    }\n",
       "</style>\n",
       "<table border=\"1\" class=\"dataframe\">\n",
       "  <thead>\n",
       "    <tr style=\"text-align: right;\">\n",
       "      <th></th>\n",
       "      <th>alcohol</th>\n",
       "      <th>accidents</th>\n",
       "    </tr>\n",
       "    <tr>\n",
       "      <th>abbrev</th>\n",
       "      <th></th>\n",
       "      <th></th>\n",
       "    </tr>\n",
       "  </thead>\n",
       "  <tbody>\n",
       "    <tr>\n",
       "      <th>AL</th>\n",
       "      <td>5.640</td>\n",
       "      <td>18.8</td>\n",
       "    </tr>\n",
       "    <tr>\n",
       "      <th>AK</th>\n",
       "      <td>4.525</td>\n",
       "      <td>18.1</td>\n",
       "    </tr>\n",
       "    <tr>\n",
       "      <th>AZ</th>\n",
       "      <td>5.208</td>\n",
       "      <td>18.6</td>\n",
       "    </tr>\n",
       "    <tr>\n",
       "      <th>AR</th>\n",
       "      <td>5.824</td>\n",
       "      <td>22.4</td>\n",
       "    </tr>\n",
       "    <tr>\n",
       "      <th>CA</th>\n",
       "      <td>3.360</td>\n",
       "      <td>12.0</td>\n",
       "    </tr>\n",
       "  </tbody>\n",
       "</table>\n",
       "</div>"
      ],
      "text/plain": [
       "        alcohol  accidents\n",
       "abbrev                    \n",
       "AL        5.640       18.8\n",
       "AK        4.525       18.1\n",
       "AZ        5.208       18.6\n",
       "AR        5.824       22.4\n",
       "CA        3.360       12.0"
      ]
     },
     "execution_count": 2,
     "metadata": {},
     "output_type": "execute_result"
    }
   ],
   "source": [
    "import seaborn as sns #!\n",
    "\n",
    "df = sns.load_dataset(name='car_crashes', index_col='abbrev')[['alcohol', 'total']]\n",
    "df.rename({'total': 'accidents'}, axis=1, inplace=True)\n",
    "df.head(5)"
   ]
  },
  {
   "cell_type": "markdown",
   "id": "2b2291a8-cd06-4f26-b947-aba32d4833d9",
   "metadata": {},
   "source": [
    "# The Covered Solution"
   ]
  },
  {
   "cell_type": "markdown",
   "id": "6262f1f9-8638-4e30-8b3a-ad9abae795c4",
   "metadata": {},
   "source": [
    "<div class=\"alert alert-success\">\n",
    "    and reproduce the following plot ↓\n",
    "</div>"
   ]
  },
  {
   "cell_type": "code",
   "execution_count": 3,
   "id": "4b769efe-440e-409a-bc2b-4189875ed83e",
   "metadata": {},
   "outputs": [
    {
     "name": "stdout",
     "output_type": "stream",
     "text": [
      "Object ` #! read the full story to find out the solution` not found.\n"
     ]
    }
   ],
   "source": [
    "?? #! read the full story to find out the solution"
   ]
  },
  {
   "cell_type": "markdown",
   "id": "3bf2e14b-e921-4271-9fdf-497a2a959ff9",
   "metadata": {},
   "source": [
    "# What will we learn?"
   ]
  },
  {
   "cell_type": "markdown",
   "id": "df322cb5-4f42-41f3-827e-9b170f5407f8",
   "metadata": {},
   "source": [
    "- Why all Machine Learning Models are the same?\n",
    "- What is the difference between Artificial Intelligence, Machine Learning & Deep Learning?\n",
    "- How the Machine Learns a Mathematical Equation with respect to Data?\n",
    "- Why **you don't need to know the Maths** behind every model to achieve your goal in Machine Learning?\n",
    "- How to interpret `scikit-learn` documentation to develop the solution **without looking for solutions online**?\n",
    "- How to **visualize** a Machine Learning model?\n",
    "- How to assess the **quality** of a Machine Learning model?\n",
    "- How to **get help from python** and use it wisely?"
   ]
  },
  {
   "cell_type": "markdown",
   "id": "5cdb46e7-49b5-491e-90af-73065ea33152",
   "metadata": {
    "tags": []
   },
   "source": [
    "# Which concepts will we use?\n",
    "\n",
    "- Instantiate a Class\n",
    "    \n",
    "    ```python\n",
    "    instance = Class()\n",
    "    instance.function()\n",
    "    ```\n",
    "- Role of Variables in a Machine Learning Model\n",
    "    - X ~ Features ~ Explanatory ~ Dependent Variable(s) | Plurarl\n",
    "    - y ~ Label ~ Target ~ Class ~ Independent Variable | Singular\n",
    "- Most common functions for a Machine Learning Model\n",
    "    - `.fit()`\n",
    "    - `.predict()`\n",
    "    - `.score()`\n",
    "- Residual Sum of Squares (RSS)"
   ]
  },
  {
   "cell_type": "markdown",
   "id": "b8d4abeb-3bf0-4d81-80c4-833a0125c8c5",
   "metadata": {
    "tags": []
   },
   "source": [
    "# Requirements?\n",
    "\n",
    "- Pandas\n"
   ]
  },
  {
   "cell_type": "markdown",
   "id": "a419b881-70e2-43bf-be0b-31593a2a000a",
   "metadata": {},
   "source": [
    "# The starting *thing*"
   ]
  },
  {
   "cell_type": "code",
   "execution_count": 4,
   "id": "66e739eb-e2e3-4950-9d83-db7cb7841fce",
   "metadata": {},
   "outputs": [
    {
     "data": {
      "text/html": [
       "<div>\n",
       "<style scoped>\n",
       "    .dataframe tbody tr th:only-of-type {\n",
       "        vertical-align: middle;\n",
       "    }\n",
       "\n",
       "    .dataframe tbody tr th {\n",
       "        vertical-align: top;\n",
       "    }\n",
       "\n",
       "    .dataframe thead th {\n",
       "        text-align: right;\n",
       "    }\n",
       "</style>\n",
       "<table border=\"1\" class=\"dataframe\">\n",
       "  <thead>\n",
       "    <tr style=\"text-align: right;\">\n",
       "      <th></th>\n",
       "      <th>alcohol</th>\n",
       "      <th>accidents</th>\n",
       "    </tr>\n",
       "    <tr>\n",
       "      <th>abbrev</th>\n",
       "      <th></th>\n",
       "      <th></th>\n",
       "    </tr>\n",
       "  </thead>\n",
       "  <tbody>\n",
       "    <tr>\n",
       "      <th>AL</th>\n",
       "      <td>5.640</td>\n",
       "      <td>18.8</td>\n",
       "    </tr>\n",
       "    <tr>\n",
       "      <th>AK</th>\n",
       "      <td>4.525</td>\n",
       "      <td>18.1</td>\n",
       "    </tr>\n",
       "    <tr>\n",
       "      <th>...</th>\n",
       "      <td>...</td>\n",
       "      <td>...</td>\n",
       "    </tr>\n",
       "    <tr>\n",
       "      <th>WI</th>\n",
       "      <td>4.554</td>\n",
       "      <td>13.8</td>\n",
       "    </tr>\n",
       "    <tr>\n",
       "      <th>WY</th>\n",
       "      <td>5.568</td>\n",
       "      <td>17.4</td>\n",
       "    </tr>\n",
       "  </tbody>\n",
       "</table>\n",
       "<p>51 rows × 2 columns</p>\n",
       "</div>"
      ],
      "text/plain": [
       "        alcohol  accidents\n",
       "abbrev                    \n",
       "AL        5.640       18.8\n",
       "AK        4.525       18.1\n",
       "...         ...        ...\n",
       "WI        4.554       13.8\n",
       "WY        5.568       17.4\n",
       "\n",
       "[51 rows x 2 columns]"
      ]
     },
     "execution_count": 4,
     "metadata": {},
     "output_type": "execute_result"
    }
   ],
   "source": [
    "import seaborn as sns #!\n",
    "import pandas as pd\n",
    "\n",
    "df_crashes = sns.load_dataset(name='car_crashes', index_col='abbrev')[['alcohol', 'total']]\n",
    "df_crashes.rename({'total': 'accidents'}, axis=1, inplace=True)\n",
    "df_crashes"
   ]
  },
  {
   "cell_type": "markdown",
   "id": "7ce3de0a-d07f-4273-ba4f-1dd2bfd4253b",
   "metadata": {},
   "source": [
    "# Syllabus for the [Notebook](01script_functions.ipynb)\n",
    "\n",
    "1. Machine Learning, what does it mean?\n",
    "2. How does the Machine Learn?\n",
    "    1. In a Linear Regression\n",
    "    2. In a Neural Network\n",
    "3. How do we compute a Linear Regression Model in Python?\n",
    "    1. Import the Class\n",
    "    2. Instantiate the Class\n",
    "    3. Access the Function\n",
    "4. Data for Exemplification\n",
    "5. Separate the Variables\n",
    "6. Small Recap\n",
    "7. The Linear Regression Model\n",
    "    1. Compute the Mathematical Equation\n",
    "    2. Model Interpretation\n",
    "    3. Calculate Predictions\n",
    "    4. Model Visualization\n",
    "    5. Model's Score\n",
    "    6. Model's Score Explanation\n",
    "8. Recap\n",
    "9. Other Models\n",
    "    1. RandomForestRegressor() in Python\n",
    "        1. Fit the Model\n",
    "        2. Calculate Predictions\n",
    "        3. Model's Score\n",
    "    2. SVR ( ) in Python\n",
    "        1. Fit the Model\n",
    "        2. Calculate Predictions\n",
    "        3. Model's Score\n",
    "10. Visualize the 3 Models\n",
    "11. Which One Is the Best? Why?"
   ]
  },
  {
   "cell_type": "markdown",
   "id": "a1abf662-d4ec-40b9-b610-364359b9c8d1",
   "metadata": {},
   "source": [
    "# The Uncovered Solution"
   ]
  },
  {
   "cell_type": "code",
   "execution_count": 11,
   "id": "32ebeb6a-d584-4119-9af0-5308a220dc58",
   "metadata": {},
   "outputs": [
    {
     "data": {
      "image/png": "[encoded data removed]",
      "text/plain": [
       "<Figure size 432x288 with 1 Axes>"
      ]
     },
     "metadata": {
      "needs_background": "light"
     },
     "output_type": "display_data"
    }
   ],
   "source": [
    "from sklearn.linear_model import LinearRegression\n",
    "from sklearn.ensemble import RandomForestRegressor\n",
    "from sklearn.svm import SVR\n",
    "\n",
    "explanatory = df_crashes[['alcohol']]\n",
    "target = df_crashes['accidents']\n",
    "\n",
    "df_pred = df_crashes[['alcohol', 'accidents']].copy()\n",
    "\n",
    "model_lr = LinearRegression()\n",
    "model_lr.fit(X=explanatory, y=target)\n",
    "df_pred['pred_lr'] = model_lr.predict(X=explanatory)\n",
    "score_lr\n",
    "\n",
    "model_rf = RandomForestRegressor()\n",
    "model_rf.fit(X=explanatory, y=target)\n",
    "df_pred['pred_rf'] = model_rf.predict(X=explanatory)\n",
    "\n",
    "model_sv = SVR()\n",
    "model_sv.fit(X=explanatory, y=target)\n",
    "df_pred['pred_sv'] = model_sv.predict(X=explanatory)\n",
    "\n",
    "sns.scatterplot(x='alcohol', y='accidents', data=df_pred, label='Real Data')\n",
    "sns.scatterplot(x='alcohol', y='pred_lr', data=df_pred, label='Linear Regression')\n",
    "sns.lineplot(x='alcohol', y='pred_lr', data=df_pred, color='orange')\n",
    "sns.scatterplot(x='alcohol', y='pred_rf', data=df_pred, label='Random Forest')\n",
    "sns.scatterplot(x='alcohol', y='pred_sv', data=df_pred, label='Support Vector Machines');"
   ]
  },
  {
   "cell_type": "code",
   "execution_count": 6,
   "id": "59925688-d2b9-4d0e-9d97-2ee9d4ca8a71",
   "metadata": {},
   "outputs": [
    {
     "data": {
      "text/plain": [
       "0.9542340232322718"
      ]
     },
     "execution_count": 6,
     "metadata": {},
     "output_type": "execute_result"
    }
   ],
   "source": [
    "model_rf.score(X=explanatory, y=target)"
   ]
  },
  {
   "cell_type": "code",
   "execution_count": null,
   "id": "3da7979f-c673-49ba-bddf-c612e6547f11",
   "metadata": {},
   "outputs": [
    {
     "data": {
      "text/plain": [
       "0.7083438012012769"
      ]
     },
     "execution_count": 7,
     "metadata": {},
     "output_type": "execute_result"
    }
   ],
   "source": [
    "model_sv.score(X=explanatory, y=target)"
   ]
  },
  {
   "cell_type": "code",
   "execution_count": null,
   "id": "76f0866d-12fe-42ab-8fd2-07a0ae3ac3f5",
   "metadata": {},
   "outputs": [
    {
     "data": {
      "text/plain": [
       "0.7269492966665405"
      ]
     },
     "execution_count": 8,
     "metadata": {},
     "output_type": "execute_result"
    }
   ],
   "source": [
    "model_lr.score(X=explanatory, y=target)"
   ]
  },
  {
   "cell_type": "markdown",
   "id": "e836470d-76ec-4b28-89f4-cf2f1106d947",
   "metadata": {},
   "source": [
    "<a rel=\"license\" href=\"http://creativecommons.org/licenses/by-nc-nd/4.0/\"><img alt=\"Creative Commons License\" style=\"border-width:0\" src=\"https://i.creativecommons.org/l/by-nc-nd/4.0/88x31.png\" /></a><br />This work is licensed under a <a rel=\"license\" href=\"http://creativecommons.org/licenses/by-nc-nd/4.0/\">Creative Commons Attribution-NonCommercial-NoDerivatives 4.0 International License</a>."
   ]
  }
 ],
 "metadata": {
  "authors": [
   {
    "name": "Jesús López",
    "twitter": "https://twitter.com/jsulopz"
   }
  ],
  "kernelspec": {
   "display_name": "Python 3 (ipykernel)",
   "language": "python",
   "name": "python3"
  },
  "language_info": {
   "codemirror_mode": {
    "name": "ipython",
    "version": 3
   },
   "file_extension": ".py",
   "mimetype": "text/x-python",
   "name": "python",
   "nbconvert_exporter": "python",
   "pygments_lexer": "ipython3",
   "version": "3.9.10"
  },
  "title": "Basic Elements of Programming",
  "toc-autonumbering": true,
  "toc-showcode": false,
  "toc-showtags": false,
  "vscode": {
   "interpreter": {
    "hash": "b0fa6594d8f4cbf19f97940f81e996739fb7646882a419484c72d19e05852a7e"
   }
  }
 },
 "nbformat": 4,
 "nbformat_minor": 5
}
