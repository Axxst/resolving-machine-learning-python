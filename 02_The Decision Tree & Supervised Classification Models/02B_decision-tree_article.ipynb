{
 "cells": [
  {
   "cell_type": "markdown",
   "id": "913a237b-2492-43df-bd13-413566b52ce7",
   "metadata": {},
   "source": [
    "![](../src/logo.svg)\n",
    "\n",
    "**© Jesús López**\n",
    "\n",
    "Ask him any doubt on **[Twitter](https://twitter.com/jsulopz)** or **[LinkedIn](https://linkedin.com/in/jsulopz)**"
   ]
  },
  {
   "cell_type": "markdown",
   "id": "d99002fb-9d8e-4e27-aea2-e85c31a915cb",
   "metadata": {},
   "source": [
    "# #02 | Why gender was the most important factor to survive the Titanic"
   ]
  },
  {
   "cell_type": "markdown",
   "id": "4eac6997-f5f1-4017-a874-ef9d8402ad37",
   "metadata": {},
   "source": [
    "![](src/tree.jpg)"
   ]
  },
  {
   "cell_type": "markdown",
   "id": "1556babd-2849-4c6c-a1ba-330c89f65cfb",
   "metadata": {},
   "source": [
    "Learn how to develop a Decision Tree Classifier in Python to understand why gender was the most important factor to survive the Titanic accident."
   ]
  },
  {
   "cell_type": "markdown",
   "id": "55a63fc0-ab00-4d11-bb1b-8883e7895205",
   "metadata": {},
   "source": [
    "## Introduction to Supervised Classification Models"
   ]
  },
  {
   "cell_type": "markdown",
   "id": "3e5fb83c-65fa-4418-938e-330ef73adf4e",
   "metadata": {},
   "source": [
    "Machine Learning is a field that focuses on [**getting a mathematical equation**](https://twitter.com/sotastica/status/1449735653328031745) to make predictions about the future. Although not all Machine Learning models work the same way.\n",
    "\n",
    "Which types of Machine Learning models can we distinguish so far?\n",
    "\n",
    "- **Classifiers** to predict **Categorical Variables**\n",
    "- **Regressors** to predict **Numerical Variables**\n",
    "\n",
    "The previous chapter covered the explanation of a Regressor model: the Linear Regression.\n",
    "\n",
    "This chapter covers the explanation of a Classification model: the Decision Tree.\n",
    "\n",
    "Why do they belong to Machine Learning?\n",
    "\n",
    "- The Machine wants to get the best numbers of a mathematical equation such that **the difference between reality and predictions is minimum**:\n",
    "\n",
    "    - **Classifier** evaluates the model based on **prediction success rate**\n",
    "        $$\n",
    "        y \\stackrel{?}{=} \\hat y\n",
    "        $$\n",
    "    - **Regressor** evaluates the model based on the **distance between real data and predictions** (residuals) \n",
    "        $$\n",
    "        y - \\hat y\n",
    "        $$\n",
    "\n",
    "There are many Machine Learning Models of each type.\n",
    "\n",
    "You don't need to know the process behind each model because they all work the same way (see article). In the end, you will choose the one makes better predictions.\n",
    "\n",
    "This tutorial will show you how to develop a Decision Tree to calculate the probability of a person to survive the Titanic and the different evaluation metrics we can calculate on Classification Models.\n",
    "\n",
    "**Table of Important Content**\n",
    "\n",
    "1. 🛀 [How to preprocess/clean the data to fit a Machine Learning model?](#Data-Preprocessing)\n",
    "    - Dummy Variables\n",
    "    - Missing Data\n",
    "2. 🤩 [How to **visualize** a Decision Tree model in Python step by step?](#Model-Visualization)\n",
    "3. 🤔 [How to **interpret** the nodes and leafs values of a Decision Tree plot?](#Model-Interpretation)\n",
    "4. ⚠️ How to **evaluate** Classification models?\n",
    "    - [Accuracy](#Model's-Score)\n",
    "    - [Confussion Matrix](#The-Confusion-Matrix-to-compute-Other-Classification-Metrics)\n",
    "        - Sensitivity\n",
    "        - Specificity\n",
    "        - ROC Curve\n",
    "5. 🏁 [How to compare Classification models to choose the best one?](#Which-One-Is-the-Best-Model?-Why?)"
   ]
  },
  {
   "cell_type": "markdown",
   "id": "c705873b-102e-499b-b776-3e8f24922296",
   "metadata": {},
   "source": [
    "## Load the Data"
   ]
  },
  {
   "cell_type": "markdown",
   "id": "56979dc5-74a5-4c9e-9ddd-6ebcadbe8fb7",
   "metadata": {},
   "source": [
    "- This dataset represents **people** (rows) aboard the Titanic\n",
    "- And their **sociological characteristics** (columns)"
   ]
  },
  {
   "cell_type": "code",
   "execution_count": 2,
   "id": "111ff5de-913b-4ddb-8b43-408d5307d705",
   "metadata": {},
   "outputs": [
    {
     "data": {
      "text/html": [
       "<div>\n",
       "<style scoped>\n",
       "    .dataframe tbody tr th:only-of-type {\n",
       "        vertical-align: middle;\n",
       "    }\n",
       "\n",
       "    .dataframe tbody tr th {\n",
       "        vertical-align: top;\n",
       "    }\n",
       "\n",
       "    .dataframe thead th {\n",
       "        text-align: right;\n",
       "    }\n",
       "</style>\n",
       "<table border=\"1\" class=\"dataframe\">\n",
       "  <thead>\n",
       "    <tr style=\"text-align: right;\">\n",
       "      <th></th>\n",
       "      <th>survived</th>\n",
       "      <th>sex</th>\n",
       "      <th>age</th>\n",
       "      <th>embarked</th>\n",
       "      <th>class</th>\n",
       "    </tr>\n",
       "  </thead>\n",
       "  <tbody>\n",
       "    <tr>\n",
       "      <th>0</th>\n",
       "      <td>0</td>\n",
       "      <td>male</td>\n",
       "      <td>22.0</td>\n",
       "      <td>S</td>\n",
       "      <td>Third</td>\n",
       "    </tr>\n",
       "    <tr>\n",
       "      <th>1</th>\n",
       "      <td>1</td>\n",
       "      <td>female</td>\n",
       "      <td>38.0</td>\n",
       "      <td>C</td>\n",
       "      <td>First</td>\n",
       "    </tr>\n",
       "    <tr>\n",
       "      <th>...</th>\n",
       "      <td>...</td>\n",
       "      <td>...</td>\n",
       "      <td>...</td>\n",
       "      <td>...</td>\n",
       "      <td>...</td>\n",
       "    </tr>\n",
       "    <tr>\n",
       "      <th>889</th>\n",
       "      <td>1</td>\n",
       "      <td>male</td>\n",
       "      <td>26.0</td>\n",
       "      <td>C</td>\n",
       "      <td>First</td>\n",
       "    </tr>\n",
       "    <tr>\n",
       "      <th>890</th>\n",
       "      <td>0</td>\n",
       "      <td>male</td>\n",
       "      <td>32.0</td>\n",
       "      <td>Q</td>\n",
       "      <td>Third</td>\n",
       "    </tr>\n",
       "  </tbody>\n",
       "</table>\n",
       "<p>891 rows × 5 columns</p>\n",
       "</div>"
      ],
      "text/plain": [
       "     survived     sex   age embarked  class\n",
       "0           0    male  22.0        S  Third\n",
       "1           1  female  38.0        C  First\n",
       "..        ...     ...   ...      ...    ...\n",
       "889         1    male  26.0        C  First\n",
       "890         0    male  32.0        Q  Third\n",
       "\n",
       "[891 rows x 5 columns]"
      ]
     },
     "execution_count": 2,
     "metadata": {},
     "output_type": "execute_result"
    }
   ],
   "source": [
    "import seaborn as sns #!\n",
    "import pandas as pd\n",
    "\n",
    "df_titanic = sns.load_dataset(name='titanic')[['survived', 'sex', 'age', 'embarked', 'class']]\n",
    "df_titanic"
   ]
  },
  {
   "cell_type": "markdown",
   "id": "1f5d325b-bfd0-4e7f-9ca7-46ecfb47f168",
   "metadata": {},
   "source": [
    "## How do we compute a Decision Tree Model in Python?"
   ]
  },
  {
   "cell_type": "markdown",
   "id": "96701999-268c-4551-adf0-d070ba020e60",
   "metadata": {},
   "source": [
    "We should know from the previous chapter that we need function which is accessible from a Class in the library `sklearn`."
   ]
  },
  {
   "cell_type": "markdown",
   "id": "ed61845c-8a37-4d66-b4a5-faf7b61e37fd",
   "metadata": {},
   "source": [
    "### Import the Class"
   ]
  },
  {
   "cell_type": "code",
   "execution_count": 3,
   "id": "f572ab1e-8c99-46f2-a576-45cebe2aa001",
   "metadata": {},
   "outputs": [],
   "source": [
    "from sklearn.tree import DecisionTreeClassifier"
   ]
  },
  {
   "cell_type": "markdown",
   "id": "fb46a348-84eb-4618-adca-bcc3f2082cd9",
   "metadata": {},
   "source": [
    "### Instantiante the Class"
   ]
  },
  {
   "cell_type": "markdown",
   "id": "737e6aca-e044-4043-aa08-bef95a2551ea",
   "metadata": {},
   "source": [
    "To create a copy of the original's code blueprint in order to not \"modify\" the source code."
   ]
  },
  {
   "cell_type": "code",
   "execution_count": 4,
   "id": "182d896a-a171-498d-a414-21bb7b8ac677",
   "metadata": {},
   "outputs": [],
   "source": [
    "model_dt = DecisionTreeClassifier()"
   ]
  },
  {
   "cell_type": "markdown",
   "id": "e7c72c07-8f31-4415-95ac-2672947d4e9c",
   "metadata": {},
   "source": [
    "### Access the Function"
   ]
  },
  {
   "cell_type": "markdown",
   "id": "d78b6490-b2ba-4c6b-8482-f3e0ac967863",
   "metadata": {},
   "source": [
    "The theoretical action we'd like to perform is the same we executed in the previous chapter. Therefore, the function should be called the same way:"
   ]
  },
  {
   "cell_type": "code",
   "execution_count": 5,
   "id": "a2ae856b-5b51-46c4-9228-86ab98f85ae2",
   "metadata": {},
   "outputs": [
    {
     "ename": "TypeError",
     "evalue": "fit() missing 2 required positional arguments: 'X' and 'y'",
     "output_type": "error",
     "traceback": [
      "\u001b[0;31m---------------------------------------------------------------------------\u001b[0m",
      "\u001b[0;31mTypeError\u001b[0m                                 Traceback (most recent call last)",
      "\u001b[0;32m/var/folders/24/tg28vxls25l9mjvqrnh0plc80000gn/T/ipykernel_3553/3699705032.py\u001b[0m in \u001b[0;36m<module>\u001b[0;34m\u001b[0m\n\u001b[0;32m----> 1\u001b[0;31m \u001b[0mmodel_dt\u001b[0m\u001b[0;34m.\u001b[0m\u001b[0mfit\u001b[0m\u001b[0;34m(\u001b[0m\u001b[0;34m)\u001b[0m\u001b[0;34m\u001b[0m\u001b[0;34m\u001b[0m\u001b[0m\n\u001b[0m",
      "\u001b[0;31mTypeError\u001b[0m: fit() missing 2 required positional arguments: 'X' and 'y'"
     ]
    }
   ],
   "source": [
    "model_dt.fit()"
   ]
  },
  {
   "cell_type": "markdown",
   "id": "183877a2-e9b7-456a-ac0b-47670921f279",
   "metadata": {},
   "source": [
    "Why is it asking for two parameters: `y` and `X`?\n",
    "\n",
    "- `y`: target ~ independent ~ label ~ class variable\n",
    "- `X`: explanatory ~ dependent ~ feature variables"
   ]
  },
  {
   "cell_type": "markdown",
   "id": "1a414be2-c143-4833-a390-7898cb3383e9",
   "metadata": {},
   "source": [
    "### Separate the Variables"
   ]
  },
  {
   "cell_type": "code",
   "execution_count": 6,
   "id": "e5456b12-2c01-4880-939b-6fa13843d836",
   "metadata": {},
   "outputs": [],
   "source": [
    "target = df_titanic['survived']\n",
    "explanatory = df_titanic.drop(columns='survived')"
   ]
  },
  {
   "cell_type": "markdown",
   "id": "e4edc6e9-e441-4168-a165-e618f873646d",
   "metadata": {},
   "source": [
    "### Fit the Model"
   ]
  },
  {
   "cell_type": "code",
   "execution_count": 7,
   "id": "850948a3-8769-47a1-abc3-a4167e3cb552",
   "metadata": {},
   "outputs": [
    {
     "ename": "ValueError",
     "evalue": "could not convert string to float: 'male'",
     "output_type": "error",
     "traceback": [
      "\u001b[0;31m---------------------------------------------------------------------------\u001b[0m",
      "\u001b[0;31mValueError\u001b[0m                                Traceback (most recent call last)",
      "\u001b[0;32m/var/folders/24/tg28vxls25l9mjvqrnh0plc80000gn/T/ipykernel_3553/2254741434.py\u001b[0m in \u001b[0;36m<module>\u001b[0;34m\u001b[0m\n\u001b[0;32m----> 1\u001b[0;31m \u001b[0mmodel_dt\u001b[0m\u001b[0;34m.\u001b[0m\u001b[0mfit\u001b[0m\u001b[0;34m(\u001b[0m\u001b[0mX\u001b[0m\u001b[0;34m=\u001b[0m\u001b[0mexplanatory\u001b[0m\u001b[0;34m,\u001b[0m \u001b[0my\u001b[0m\u001b[0;34m=\u001b[0m\u001b[0mtarget\u001b[0m\u001b[0;34m)\u001b[0m\u001b[0;34m\u001b[0m\u001b[0;34m\u001b[0m\u001b[0m\n\u001b[0m",
      "\u001b[0;32m~/miniforge3/lib/python3.9/site-packages/sklearn/tree/_classes.py\u001b[0m in \u001b[0;36mfit\u001b[0;34m(self, X, y, sample_weight, check_input, X_idx_sorted)\u001b[0m\n\u001b[1;32m    935\u001b[0m         \"\"\"\n\u001b[1;32m    936\u001b[0m \u001b[0;34m\u001b[0m\u001b[0m\n\u001b[0;32m--> 937\u001b[0;31m         super().fit(\n\u001b[0m\u001b[1;32m    938\u001b[0m             \u001b[0mX\u001b[0m\u001b[0;34m,\u001b[0m\u001b[0;34m\u001b[0m\u001b[0;34m\u001b[0m\u001b[0m\n\u001b[1;32m    939\u001b[0m             \u001b[0my\u001b[0m\u001b[0;34m,\u001b[0m\u001b[0;34m\u001b[0m\u001b[0;34m\u001b[0m\u001b[0m\n",
      "\u001b[0;32m~/miniforge3/lib/python3.9/site-packages/sklearn/tree/_classes.py\u001b[0m in \u001b[0;36mfit\u001b[0;34m(self, X, y, sample_weight, check_input, X_idx_sorted)\u001b[0m\n\u001b[1;32m    163\u001b[0m             \u001b[0mcheck_X_params\u001b[0m \u001b[0;34m=\u001b[0m \u001b[0mdict\u001b[0m\u001b[0;34m(\u001b[0m\u001b[0mdtype\u001b[0m\u001b[0;34m=\u001b[0m\u001b[0mDTYPE\u001b[0m\u001b[0;34m,\u001b[0m \u001b[0maccept_sparse\u001b[0m\u001b[0;34m=\u001b[0m\u001b[0;34m\"csc\"\u001b[0m\u001b[0;34m)\u001b[0m\u001b[0;34m\u001b[0m\u001b[0;34m\u001b[0m\u001b[0m\n\u001b[1;32m    164\u001b[0m             \u001b[0mcheck_y_params\u001b[0m \u001b[0;34m=\u001b[0m \u001b[0mdict\u001b[0m\u001b[0;34m(\u001b[0m\u001b[0mensure_2d\u001b[0m\u001b[0;34m=\u001b[0m\u001b[0;32mFalse\u001b[0m\u001b[0;34m,\u001b[0m \u001b[0mdtype\u001b[0m\u001b[0;34m=\u001b[0m\u001b[0;32mNone\u001b[0m\u001b[0;34m)\u001b[0m\u001b[0;34m\u001b[0m\u001b[0;34m\u001b[0m\u001b[0m\n\u001b[0;32m--> 165\u001b[0;31m             X, y = self._validate_data(\n\u001b[0m\u001b[1;32m    166\u001b[0m                 \u001b[0mX\u001b[0m\u001b[0;34m,\u001b[0m \u001b[0my\u001b[0m\u001b[0;34m,\u001b[0m \u001b[0mvalidate_separately\u001b[0m\u001b[0;34m=\u001b[0m\u001b[0;34m(\u001b[0m\u001b[0mcheck_X_params\u001b[0m\u001b[0;34m,\u001b[0m \u001b[0mcheck_y_params\u001b[0m\u001b[0;34m)\u001b[0m\u001b[0;34m\u001b[0m\u001b[0;34m\u001b[0m\u001b[0m\n\u001b[1;32m    167\u001b[0m             )\n",
      "\u001b[0;32m~/miniforge3/lib/python3.9/site-packages/sklearn/base.py\u001b[0m in \u001b[0;36m_validate_data\u001b[0;34m(self, X, y, reset, validate_separately, **check_params)\u001b[0m\n\u001b[1;32m    571\u001b[0m                 \u001b[0;31m# :(\u001b[0m\u001b[0;34m\u001b[0m\u001b[0;34m\u001b[0m\u001b[0m\n\u001b[1;32m    572\u001b[0m                 \u001b[0mcheck_X_params\u001b[0m\u001b[0;34m,\u001b[0m \u001b[0mcheck_y_params\u001b[0m \u001b[0;34m=\u001b[0m \u001b[0mvalidate_separately\u001b[0m\u001b[0;34m\u001b[0m\u001b[0;34m\u001b[0m\u001b[0m\n\u001b[0;32m--> 573\u001b[0;31m                 \u001b[0mX\u001b[0m \u001b[0;34m=\u001b[0m \u001b[0mcheck_array\u001b[0m\u001b[0;34m(\u001b[0m\u001b[0mX\u001b[0m\u001b[0;34m,\u001b[0m \u001b[0;34m**\u001b[0m\u001b[0mcheck_X_params\u001b[0m\u001b[0;34m)\u001b[0m\u001b[0;34m\u001b[0m\u001b[0;34m\u001b[0m\u001b[0m\n\u001b[0m\u001b[1;32m    574\u001b[0m                 \u001b[0my\u001b[0m \u001b[0;34m=\u001b[0m \u001b[0mcheck_array\u001b[0m\u001b[0;34m(\u001b[0m\u001b[0my\u001b[0m\u001b[0;34m,\u001b[0m \u001b[0;34m**\u001b[0m\u001b[0mcheck_y_params\u001b[0m\u001b[0;34m)\u001b[0m\u001b[0;34m\u001b[0m\u001b[0;34m\u001b[0m\u001b[0m\n\u001b[1;32m    575\u001b[0m             \u001b[0;32melse\u001b[0m\u001b[0;34m:\u001b[0m\u001b[0;34m\u001b[0m\u001b[0;34m\u001b[0m\u001b[0m\n",
      "\u001b[0;32m~/miniforge3/lib/python3.9/site-packages/sklearn/utils/validation.py\u001b[0m in \u001b[0;36mcheck_array\u001b[0;34m(array, accept_sparse, accept_large_sparse, dtype, order, copy, force_all_finite, ensure_2d, allow_nd, ensure_min_samples, ensure_min_features, estimator)\u001b[0m\n\u001b[1;32m    736\u001b[0m                     \u001b[0marray\u001b[0m \u001b[0;34m=\u001b[0m \u001b[0marray\u001b[0m\u001b[0;34m.\u001b[0m\u001b[0mastype\u001b[0m\u001b[0;34m(\u001b[0m\u001b[0mdtype\u001b[0m\u001b[0;34m,\u001b[0m \u001b[0mcasting\u001b[0m\u001b[0;34m=\u001b[0m\u001b[0;34m\"unsafe\"\u001b[0m\u001b[0;34m,\u001b[0m \u001b[0mcopy\u001b[0m\u001b[0;34m=\u001b[0m\u001b[0;32mFalse\u001b[0m\u001b[0;34m)\u001b[0m\u001b[0;34m\u001b[0m\u001b[0;34m\u001b[0m\u001b[0m\n\u001b[1;32m    737\u001b[0m                 \u001b[0;32melse\u001b[0m\u001b[0;34m:\u001b[0m\u001b[0;34m\u001b[0m\u001b[0;34m\u001b[0m\u001b[0m\n\u001b[0;32m--> 738\u001b[0;31m                     \u001b[0marray\u001b[0m \u001b[0;34m=\u001b[0m \u001b[0mnp\u001b[0m\u001b[0;34m.\u001b[0m\u001b[0masarray\u001b[0m\u001b[0;34m(\u001b[0m\u001b[0marray\u001b[0m\u001b[0;34m,\u001b[0m \u001b[0morder\u001b[0m\u001b[0;34m=\u001b[0m\u001b[0morder\u001b[0m\u001b[0;34m,\u001b[0m \u001b[0mdtype\u001b[0m\u001b[0;34m=\u001b[0m\u001b[0mdtype\u001b[0m\u001b[0;34m)\u001b[0m\u001b[0;34m\u001b[0m\u001b[0;34m\u001b[0m\u001b[0m\n\u001b[0m\u001b[1;32m    739\u001b[0m             \u001b[0;32mexcept\u001b[0m \u001b[0mComplexWarning\u001b[0m \u001b[0;32mas\u001b[0m \u001b[0mcomplex_warning\u001b[0m\u001b[0;34m:\u001b[0m\u001b[0;34m\u001b[0m\u001b[0;34m\u001b[0m\u001b[0m\n\u001b[1;32m    740\u001b[0m                 raise ValueError(\n",
      "\u001b[0;32m~/miniforge3/lib/python3.9/site-packages/numpy/core/_asarray.py\u001b[0m in \u001b[0;36masarray\u001b[0;34m(a, dtype, order, like)\u001b[0m\n\u001b[1;32m    100\u001b[0m         \u001b[0;32mreturn\u001b[0m \u001b[0m_asarray_with_like\u001b[0m\u001b[0;34m(\u001b[0m\u001b[0ma\u001b[0m\u001b[0;34m,\u001b[0m \u001b[0mdtype\u001b[0m\u001b[0;34m=\u001b[0m\u001b[0mdtype\u001b[0m\u001b[0;34m,\u001b[0m \u001b[0morder\u001b[0m\u001b[0;34m=\u001b[0m\u001b[0morder\u001b[0m\u001b[0;34m,\u001b[0m \u001b[0mlike\u001b[0m\u001b[0;34m=\u001b[0m\u001b[0mlike\u001b[0m\u001b[0;34m)\u001b[0m\u001b[0;34m\u001b[0m\u001b[0;34m\u001b[0m\u001b[0m\n\u001b[1;32m    101\u001b[0m \u001b[0;34m\u001b[0m\u001b[0m\n\u001b[0;32m--> 102\u001b[0;31m     \u001b[0;32mreturn\u001b[0m \u001b[0marray\u001b[0m\u001b[0;34m(\u001b[0m\u001b[0ma\u001b[0m\u001b[0;34m,\u001b[0m \u001b[0mdtype\u001b[0m\u001b[0;34m,\u001b[0m \u001b[0mcopy\u001b[0m\u001b[0;34m=\u001b[0m\u001b[0;32mFalse\u001b[0m\u001b[0;34m,\u001b[0m \u001b[0morder\u001b[0m\u001b[0;34m=\u001b[0m\u001b[0morder\u001b[0m\u001b[0;34m)\u001b[0m\u001b[0;34m\u001b[0m\u001b[0;34m\u001b[0m\u001b[0m\n\u001b[0m\u001b[1;32m    103\u001b[0m \u001b[0;34m\u001b[0m\u001b[0m\n\u001b[1;32m    104\u001b[0m \u001b[0;34m\u001b[0m\u001b[0m\n",
      "\u001b[0;32m~/miniforge3/lib/python3.9/site-packages/pandas/core/generic.py\u001b[0m in \u001b[0;36m__array__\u001b[0;34m(self, dtype)\u001b[0m\n\u001b[1;32m   1991\u001b[0m \u001b[0;34m\u001b[0m\u001b[0m\n\u001b[1;32m   1992\u001b[0m     \u001b[0;32mdef\u001b[0m \u001b[0m__array__\u001b[0m\u001b[0;34m(\u001b[0m\u001b[0mself\u001b[0m\u001b[0;34m,\u001b[0m \u001b[0mdtype\u001b[0m\u001b[0;34m:\u001b[0m \u001b[0mNpDtype\u001b[0m \u001b[0;34m|\u001b[0m \u001b[0;32mNone\u001b[0m \u001b[0;34m=\u001b[0m \u001b[0;32mNone\u001b[0m\u001b[0;34m)\u001b[0m \u001b[0;34m->\u001b[0m \u001b[0mnp\u001b[0m\u001b[0;34m.\u001b[0m\u001b[0mndarray\u001b[0m\u001b[0;34m:\u001b[0m\u001b[0;34m\u001b[0m\u001b[0;34m\u001b[0m\u001b[0m\n\u001b[0;32m-> 1993\u001b[0;31m         \u001b[0;32mreturn\u001b[0m \u001b[0mnp\u001b[0m\u001b[0;34m.\u001b[0m\u001b[0masarray\u001b[0m\u001b[0;34m(\u001b[0m\u001b[0mself\u001b[0m\u001b[0;34m.\u001b[0m\u001b[0m_values\u001b[0m\u001b[0;34m,\u001b[0m \u001b[0mdtype\u001b[0m\u001b[0;34m=\u001b[0m\u001b[0mdtype\u001b[0m\u001b[0;34m)\u001b[0m\u001b[0;34m\u001b[0m\u001b[0;34m\u001b[0m\u001b[0m\n\u001b[0m\u001b[1;32m   1994\u001b[0m \u001b[0;34m\u001b[0m\u001b[0m\n\u001b[1;32m   1995\u001b[0m     def __array_wrap__(\n",
      "\u001b[0;32m~/miniforge3/lib/python3.9/site-packages/numpy/core/_asarray.py\u001b[0m in \u001b[0;36masarray\u001b[0;34m(a, dtype, order, like)\u001b[0m\n\u001b[1;32m    100\u001b[0m         \u001b[0;32mreturn\u001b[0m \u001b[0m_asarray_with_like\u001b[0m\u001b[0;34m(\u001b[0m\u001b[0ma\u001b[0m\u001b[0;34m,\u001b[0m \u001b[0mdtype\u001b[0m\u001b[0;34m=\u001b[0m\u001b[0mdtype\u001b[0m\u001b[0;34m,\u001b[0m \u001b[0morder\u001b[0m\u001b[0;34m=\u001b[0m\u001b[0morder\u001b[0m\u001b[0;34m,\u001b[0m \u001b[0mlike\u001b[0m\u001b[0;34m=\u001b[0m\u001b[0mlike\u001b[0m\u001b[0;34m)\u001b[0m\u001b[0;34m\u001b[0m\u001b[0;34m\u001b[0m\u001b[0m\n\u001b[1;32m    101\u001b[0m \u001b[0;34m\u001b[0m\u001b[0m\n\u001b[0;32m--> 102\u001b[0;31m     \u001b[0;32mreturn\u001b[0m \u001b[0marray\u001b[0m\u001b[0;34m(\u001b[0m\u001b[0ma\u001b[0m\u001b[0;34m,\u001b[0m \u001b[0mdtype\u001b[0m\u001b[0;34m,\u001b[0m \u001b[0mcopy\u001b[0m\u001b[0;34m=\u001b[0m\u001b[0;32mFalse\u001b[0m\u001b[0;34m,\u001b[0m \u001b[0morder\u001b[0m\u001b[0;34m=\u001b[0m\u001b[0morder\u001b[0m\u001b[0;34m)\u001b[0m\u001b[0;34m\u001b[0m\u001b[0;34m\u001b[0m\u001b[0m\n\u001b[0m\u001b[1;32m    103\u001b[0m \u001b[0;34m\u001b[0m\u001b[0m\n\u001b[1;32m    104\u001b[0m \u001b[0;34m\u001b[0m\u001b[0m\n",
      "\u001b[0;31mValueError\u001b[0m: could not convert string to float: 'male'"
     ]
    }
   ],
   "source": [
    "model_dt.fit(X=explanatory, y=target)"
   ]
  },
  {
   "cell_type": "markdown",
   "id": "f68ba7bc-16bd-462a-ac9a-5d5f6fc74507",
   "metadata": {},
   "source": [
    "Most of the time, the data isn't prepared to fit the model. Let's dig in why we get the previous error in the next sections."
   ]
  },
  {
   "cell_type": "markdown",
   "id": "c9f23813-c8bf-478f-ae74-81fa339577d9",
   "metadata": {},
   "source": [
    "## Data Preprocessing"
   ]
  },
  {
   "cell_type": "markdown",
   "id": "a25dc4d9-e8b8-43f6-a2ed-371dd4d9f77d",
   "metadata": {},
   "source": [
    "The error says:\n",
    "    \n",
    "```python\n",
    "ValueError: could not convert string to float: 'male'\n",
    "```\n",
    "\n",
    "From which we can interpret that the function `.fit()` does **not accept values of `string` type** like the ones in `sex` column:"
   ]
  },
  {
   "cell_type": "code",
   "execution_count": 8,
   "id": "152d92e6-931e-489e-8cba-a6ca9826fe17",
   "metadata": {},
   "outputs": [
    {
     "data": {
      "text/html": [
       "<div>\n",
       "<style scoped>\n",
       "    .dataframe tbody tr th:only-of-type {\n",
       "        vertical-align: middle;\n",
       "    }\n",
       "\n",
       "    .dataframe tbody tr th {\n",
       "        vertical-align: top;\n",
       "    }\n",
       "\n",
       "    .dataframe thead th {\n",
       "        text-align: right;\n",
       "    }\n",
       "</style>\n",
       "<table border=\"1\" class=\"dataframe\">\n",
       "  <thead>\n",
       "    <tr style=\"text-align: right;\">\n",
       "      <th></th>\n",
       "      <th>survived</th>\n",
       "      <th>sex</th>\n",
       "      <th>age</th>\n",
       "      <th>embarked</th>\n",
       "      <th>class</th>\n",
       "    </tr>\n",
       "  </thead>\n",
       "  <tbody>\n",
       "    <tr>\n",
       "      <th>0</th>\n",
       "      <td>0</td>\n",
       "      <td>male</td>\n",
       "      <td>22.0</td>\n",
       "      <td>S</td>\n",
       "      <td>Third</td>\n",
       "    </tr>\n",
       "    <tr>\n",
       "      <th>1</th>\n",
       "      <td>1</td>\n",
       "      <td>female</td>\n",
       "      <td>38.0</td>\n",
       "      <td>C</td>\n",
       "      <td>First</td>\n",
       "    </tr>\n",
       "    <tr>\n",
       "      <th>...</th>\n",
       "      <td>...</td>\n",
       "      <td>...</td>\n",
       "      <td>...</td>\n",
       "      <td>...</td>\n",
       "      <td>...</td>\n",
       "    </tr>\n",
       "    <tr>\n",
       "      <th>889</th>\n",
       "      <td>1</td>\n",
       "      <td>male</td>\n",
       "      <td>26.0</td>\n",
       "      <td>C</td>\n",
       "      <td>First</td>\n",
       "    </tr>\n",
       "    <tr>\n",
       "      <th>890</th>\n",
       "      <td>0</td>\n",
       "      <td>male</td>\n",
       "      <td>32.0</td>\n",
       "      <td>Q</td>\n",
       "      <td>Third</td>\n",
       "    </tr>\n",
       "  </tbody>\n",
       "</table>\n",
       "<p>891 rows × 5 columns</p>\n",
       "</div>"
      ],
      "text/plain": [
       "     survived     sex   age embarked  class\n",
       "0           0    male  22.0        S  Third\n",
       "1           1  female  38.0        C  First\n",
       "..        ...     ...   ...      ...    ...\n",
       "889         1    male  26.0        C  First\n",
       "890         0    male  32.0        Q  Third\n",
       "\n",
       "[891 rows x 5 columns]"
      ]
     },
     "execution_count": 8,
     "metadata": {},
     "output_type": "execute_result"
    }
   ],
   "source": [
    "df_titanic"
   ]
  },
  {
   "cell_type": "markdown",
   "id": "724ee576-ecae-43cc-811f-4b94c22cc097",
   "metadata": {},
   "source": [
    "### Dummy Variables"
   ]
  },
  {
   "cell_type": "markdown",
   "id": "32f6691a-b876-4892-ad01-d95d36b0146c",
   "metadata": {},
   "source": [
    "Therefore, we need to convert the categorical columns to **dummies** (0s & 1s):"
   ]
  },
  {
   "cell_type": "code",
   "execution_count": 9,
   "id": "c8a99786-8720-4058-a81c-c99852746f54",
   "metadata": {},
   "outputs": [
    {
     "data": {
      "text/html": [
       "<div>\n",
       "<style scoped>\n",
       "    .dataframe tbody tr th:only-of-type {\n",
       "        vertical-align: middle;\n",
       "    }\n",
       "\n",
       "    .dataframe tbody tr th {\n",
       "        vertical-align: top;\n",
       "    }\n",
       "\n",
       "    .dataframe thead th {\n",
       "        text-align: right;\n",
       "    }\n",
       "</style>\n",
       "<table border=\"1\" class=\"dataframe\">\n",
       "  <thead>\n",
       "    <tr style=\"text-align: right;\">\n",
       "      <th></th>\n",
       "      <th>survived</th>\n",
       "      <th>age</th>\n",
       "      <th>sex_male</th>\n",
       "      <th>embarked_Q</th>\n",
       "      <th>embarked_S</th>\n",
       "      <th>class_Second</th>\n",
       "      <th>class_Third</th>\n",
       "    </tr>\n",
       "  </thead>\n",
       "  <tbody>\n",
       "    <tr>\n",
       "      <th>0</th>\n",
       "      <td>0</td>\n",
       "      <td>22.0</td>\n",
       "      <td>1</td>\n",
       "      <td>0</td>\n",
       "      <td>1</td>\n",
       "      <td>0</td>\n",
       "      <td>1</td>\n",
       "    </tr>\n",
       "    <tr>\n",
       "      <th>1</th>\n",
       "      <td>1</td>\n",
       "      <td>38.0</td>\n",
       "      <td>0</td>\n",
       "      <td>0</td>\n",
       "      <td>0</td>\n",
       "      <td>0</td>\n",
       "      <td>0</td>\n",
       "    </tr>\n",
       "    <tr>\n",
       "      <th>...</th>\n",
       "      <td>...</td>\n",
       "      <td>...</td>\n",
       "      <td>...</td>\n",
       "      <td>...</td>\n",
       "      <td>...</td>\n",
       "      <td>...</td>\n",
       "      <td>...</td>\n",
       "    </tr>\n",
       "    <tr>\n",
       "      <th>889</th>\n",
       "      <td>1</td>\n",
       "      <td>26.0</td>\n",
       "      <td>1</td>\n",
       "      <td>0</td>\n",
       "      <td>0</td>\n",
       "      <td>0</td>\n",
       "      <td>0</td>\n",
       "    </tr>\n",
       "    <tr>\n",
       "      <th>890</th>\n",
       "      <td>0</td>\n",
       "      <td>32.0</td>\n",
       "      <td>1</td>\n",
       "      <td>1</td>\n",
       "      <td>0</td>\n",
       "      <td>0</td>\n",
       "      <td>1</td>\n",
       "    </tr>\n",
       "  </tbody>\n",
       "</table>\n",
       "<p>891 rows × 7 columns</p>\n",
       "</div>"
      ],
      "text/plain": [
       "     survived   age  sex_male  embarked_Q  embarked_S  class_Second  \\\n",
       "0           0  22.0         1           0           1             0   \n",
       "1           1  38.0         0           0           0             0   \n",
       "..        ...   ...       ...         ...         ...           ...   \n",
       "889         1  26.0         1           0           0             0   \n",
       "890         0  32.0         1           1           0             0   \n",
       "\n",
       "     class_Third  \n",
       "0              1  \n",
       "1              0  \n",
       "..           ...  \n",
       "889            0  \n",
       "890            1  \n",
       "\n",
       "[891 rows x 7 columns]"
      ]
     },
     "execution_count": 9,
     "metadata": {},
     "output_type": "execute_result"
    }
   ],
   "source": [
    "pd.get_dummies(df_titanic, drop_first=True)"
   ]
  },
  {
   "cell_type": "code",
   "execution_count": 10,
   "id": "798046cc-66ca-4620-9e7c-463ee0707605",
   "metadata": {},
   "outputs": [],
   "source": [
    "df_titanic = pd.get_dummies(df_titanic, drop_first=True)"
   ]
  },
  {
   "cell_type": "markdown",
   "id": "c46300e7-c5b2-4929-9b22-1049e8db63e2",
   "metadata": {},
   "source": [
    "We separate the variables again to take into account the latest modification:"
   ]
  },
  {
   "cell_type": "code",
   "execution_count": 11,
   "id": "fe00dcf3-7201-4ffe-ae7b-d6e8717eeb83",
   "metadata": {},
   "outputs": [],
   "source": [
    "explanatory = df_titanic.drop(columns='survived')\n",
    "target = df_titanic[['survived']]"
   ]
  },
  {
   "cell_type": "markdown",
   "id": "50923c3d-18da-491d-8cee-14dc65edae7b",
   "metadata": {},
   "source": [
    "Now we should be able to fit the model:"
   ]
  },
  {
   "cell_type": "code",
   "execution_count": 12,
   "id": "00f782b4-be35-4ee4-814a-2a894af940f6",
   "metadata": {},
   "outputs": [
    {
     "ename": "ValueError",
     "evalue": "Input contains NaN, infinity or a value too large for dtype('float32').",
     "output_type": "error",
     "traceback": [
      "\u001b[0;31m---------------------------------------------------------------------------\u001b[0m",
      "\u001b[0;31mValueError\u001b[0m                                Traceback (most recent call last)",
      "\u001b[0;32m/var/folders/24/tg28vxls25l9mjvqrnh0plc80000gn/T/ipykernel_3553/2254741434.py\u001b[0m in \u001b[0;36m<module>\u001b[0;34m\u001b[0m\n\u001b[0;32m----> 1\u001b[0;31m \u001b[0mmodel_dt\u001b[0m\u001b[0;34m.\u001b[0m\u001b[0mfit\u001b[0m\u001b[0;34m(\u001b[0m\u001b[0mX\u001b[0m\u001b[0;34m=\u001b[0m\u001b[0mexplanatory\u001b[0m\u001b[0;34m,\u001b[0m \u001b[0my\u001b[0m\u001b[0;34m=\u001b[0m\u001b[0mtarget\u001b[0m\u001b[0;34m)\u001b[0m\u001b[0;34m\u001b[0m\u001b[0;34m\u001b[0m\u001b[0m\n\u001b[0m",
      "\u001b[0;32m~/miniforge3/lib/python3.9/site-packages/sklearn/tree/_classes.py\u001b[0m in \u001b[0;36mfit\u001b[0;34m(self, X, y, sample_weight, check_input, X_idx_sorted)\u001b[0m\n\u001b[1;32m    935\u001b[0m         \"\"\"\n\u001b[1;32m    936\u001b[0m \u001b[0;34m\u001b[0m\u001b[0m\n\u001b[0;32m--> 937\u001b[0;31m         super().fit(\n\u001b[0m\u001b[1;32m    938\u001b[0m             \u001b[0mX\u001b[0m\u001b[0;34m,\u001b[0m\u001b[0;34m\u001b[0m\u001b[0;34m\u001b[0m\u001b[0m\n\u001b[1;32m    939\u001b[0m             \u001b[0my\u001b[0m\u001b[0;34m,\u001b[0m\u001b[0;34m\u001b[0m\u001b[0;34m\u001b[0m\u001b[0m\n",
      "\u001b[0;32m~/miniforge3/lib/python3.9/site-packages/sklearn/tree/_classes.py\u001b[0m in \u001b[0;36mfit\u001b[0;34m(self, X, y, sample_weight, check_input, X_idx_sorted)\u001b[0m\n\u001b[1;32m    163\u001b[0m             \u001b[0mcheck_X_params\u001b[0m \u001b[0;34m=\u001b[0m \u001b[0mdict\u001b[0m\u001b[0;34m(\u001b[0m\u001b[0mdtype\u001b[0m\u001b[0;34m=\u001b[0m\u001b[0mDTYPE\u001b[0m\u001b[0;34m,\u001b[0m \u001b[0maccept_sparse\u001b[0m\u001b[0;34m=\u001b[0m\u001b[0;34m\"csc\"\u001b[0m\u001b[0;34m)\u001b[0m\u001b[0;34m\u001b[0m\u001b[0;34m\u001b[0m\u001b[0m\n\u001b[1;32m    164\u001b[0m             \u001b[0mcheck_y_params\u001b[0m \u001b[0;34m=\u001b[0m \u001b[0mdict\u001b[0m\u001b[0;34m(\u001b[0m\u001b[0mensure_2d\u001b[0m\u001b[0;34m=\u001b[0m\u001b[0;32mFalse\u001b[0m\u001b[0;34m,\u001b[0m \u001b[0mdtype\u001b[0m\u001b[0;34m=\u001b[0m\u001b[0;32mNone\u001b[0m\u001b[0;34m)\u001b[0m\u001b[0;34m\u001b[0m\u001b[0;34m\u001b[0m\u001b[0m\n\u001b[0;32m--> 165\u001b[0;31m             X, y = self._validate_data(\n\u001b[0m\u001b[1;32m    166\u001b[0m                 \u001b[0mX\u001b[0m\u001b[0;34m,\u001b[0m \u001b[0my\u001b[0m\u001b[0;34m,\u001b[0m \u001b[0mvalidate_separately\u001b[0m\u001b[0;34m=\u001b[0m\u001b[0;34m(\u001b[0m\u001b[0mcheck_X_params\u001b[0m\u001b[0;34m,\u001b[0m \u001b[0mcheck_y_params\u001b[0m\u001b[0;34m)\u001b[0m\u001b[0;34m\u001b[0m\u001b[0;34m\u001b[0m\u001b[0m\n\u001b[1;32m    167\u001b[0m             )\n",
      "\u001b[0;32m~/miniforge3/lib/python3.9/site-packages/sklearn/base.py\u001b[0m in \u001b[0;36m_validate_data\u001b[0;34m(self, X, y, reset, validate_separately, **check_params)\u001b[0m\n\u001b[1;32m    571\u001b[0m                 \u001b[0;31m# :(\u001b[0m\u001b[0;34m\u001b[0m\u001b[0;34m\u001b[0m\u001b[0m\n\u001b[1;32m    572\u001b[0m                 \u001b[0mcheck_X_params\u001b[0m\u001b[0;34m,\u001b[0m \u001b[0mcheck_y_params\u001b[0m \u001b[0;34m=\u001b[0m \u001b[0mvalidate_separately\u001b[0m\u001b[0;34m\u001b[0m\u001b[0;34m\u001b[0m\u001b[0m\n\u001b[0;32m--> 573\u001b[0;31m                 \u001b[0mX\u001b[0m \u001b[0;34m=\u001b[0m \u001b[0mcheck_array\u001b[0m\u001b[0;34m(\u001b[0m\u001b[0mX\u001b[0m\u001b[0;34m,\u001b[0m \u001b[0;34m**\u001b[0m\u001b[0mcheck_X_params\u001b[0m\u001b[0;34m)\u001b[0m\u001b[0;34m\u001b[0m\u001b[0;34m\u001b[0m\u001b[0m\n\u001b[0m\u001b[1;32m    574\u001b[0m                 \u001b[0my\u001b[0m \u001b[0;34m=\u001b[0m \u001b[0mcheck_array\u001b[0m\u001b[0;34m(\u001b[0m\u001b[0my\u001b[0m\u001b[0;34m,\u001b[0m \u001b[0;34m**\u001b[0m\u001b[0mcheck_y_params\u001b[0m\u001b[0;34m)\u001b[0m\u001b[0;34m\u001b[0m\u001b[0;34m\u001b[0m\u001b[0m\n\u001b[1;32m    575\u001b[0m             \u001b[0;32melse\u001b[0m\u001b[0;34m:\u001b[0m\u001b[0;34m\u001b[0m\u001b[0;34m\u001b[0m\u001b[0m\n",
      "\u001b[0;32m~/miniforge3/lib/python3.9/site-packages/sklearn/utils/validation.py\u001b[0m in \u001b[0;36mcheck_array\u001b[0;34m(array, accept_sparse, accept_large_sparse, dtype, order, copy, force_all_finite, ensure_2d, allow_nd, ensure_min_samples, ensure_min_features, estimator)\u001b[0m\n\u001b[1;32m    790\u001b[0m \u001b[0;34m\u001b[0m\u001b[0m\n\u001b[1;32m    791\u001b[0m         \u001b[0;32mif\u001b[0m \u001b[0mforce_all_finite\u001b[0m\u001b[0;34m:\u001b[0m\u001b[0;34m\u001b[0m\u001b[0;34m\u001b[0m\u001b[0m\n\u001b[0;32m--> 792\u001b[0;31m             \u001b[0m_assert_all_finite\u001b[0m\u001b[0;34m(\u001b[0m\u001b[0marray\u001b[0m\u001b[0;34m,\u001b[0m \u001b[0mallow_nan\u001b[0m\u001b[0;34m=\u001b[0m\u001b[0mforce_all_finite\u001b[0m \u001b[0;34m==\u001b[0m \u001b[0;34m\"allow-nan\"\u001b[0m\u001b[0;34m)\u001b[0m\u001b[0;34m\u001b[0m\u001b[0;34m\u001b[0m\u001b[0m\n\u001b[0m\u001b[1;32m    793\u001b[0m \u001b[0;34m\u001b[0m\u001b[0m\n\u001b[1;32m    794\u001b[0m     \u001b[0;32mif\u001b[0m \u001b[0mensure_min_samples\u001b[0m \u001b[0;34m>\u001b[0m \u001b[0;36m0\u001b[0m\u001b[0;34m:\u001b[0m\u001b[0;34m\u001b[0m\u001b[0;34m\u001b[0m\u001b[0m\n",
      "\u001b[0;32m~/miniforge3/lib/python3.9/site-packages/sklearn/utils/validation.py\u001b[0m in \u001b[0;36m_assert_all_finite\u001b[0;34m(X, allow_nan, msg_dtype)\u001b[0m\n\u001b[1;32m    112\u001b[0m         ):\n\u001b[1;32m    113\u001b[0m             \u001b[0mtype_err\u001b[0m \u001b[0;34m=\u001b[0m \u001b[0;34m\"infinity\"\u001b[0m \u001b[0;32mif\u001b[0m \u001b[0mallow_nan\u001b[0m \u001b[0;32melse\u001b[0m \u001b[0;34m\"NaN, infinity\"\u001b[0m\u001b[0;34m\u001b[0m\u001b[0;34m\u001b[0m\u001b[0m\n\u001b[0;32m--> 114\u001b[0;31m             raise ValueError(\n\u001b[0m\u001b[1;32m    115\u001b[0m                 msg_err.format(\n\u001b[1;32m    116\u001b[0m                     \u001b[0mtype_err\u001b[0m\u001b[0;34m,\u001b[0m \u001b[0mmsg_dtype\u001b[0m \u001b[0;32mif\u001b[0m \u001b[0mmsg_dtype\u001b[0m \u001b[0;32mis\u001b[0m \u001b[0;32mnot\u001b[0m \u001b[0;32mNone\u001b[0m \u001b[0;32melse\u001b[0m \u001b[0mX\u001b[0m\u001b[0;34m.\u001b[0m\u001b[0mdtype\u001b[0m\u001b[0;34m\u001b[0m\u001b[0;34m\u001b[0m\u001b[0m\n",
      "\u001b[0;31mValueError\u001b[0m: Input contains NaN, infinity or a value too large for dtype('float32')."
     ]
    }
   ],
   "source": [
    "model_dt.fit(X=explanatory, y=target)"
   ]
  },
  {
   "cell_type": "markdown",
   "id": "7ddbb0bf-9d0c-4355-b1bc-60d950556792",
   "metadata": {},
   "source": [
    "### Missing Data"
   ]
  },
  {
   "cell_type": "markdown",
   "id": "7e5197d8-a46d-4823-a6b9-217d8c4cfa2a",
   "metadata": {},
   "source": [
    "The data passed to the function contains **missing data** (`NaN`). Precisely 177 people from which we don't have the age:"
   ]
  },
  {
   "cell_type": "code",
   "execution_count": 13,
   "id": "c6af7dee-9344-4541-9ff5-600e36664333",
   "metadata": {},
   "outputs": [
    {
     "data": {
      "text/html": [
       "<div>\n",
       "<style scoped>\n",
       "    .dataframe tbody tr th:only-of-type {\n",
       "        vertical-align: middle;\n",
       "    }\n",
       "\n",
       "    .dataframe tbody tr th {\n",
       "        vertical-align: top;\n",
       "    }\n",
       "\n",
       "    .dataframe thead th {\n",
       "        text-align: right;\n",
       "    }\n",
       "</style>\n",
       "<table border=\"1\" class=\"dataframe\">\n",
       "  <thead>\n",
       "    <tr style=\"text-align: right;\">\n",
       "      <th></th>\n",
       "      <th>survived</th>\n",
       "      <th>age</th>\n",
       "      <th>sex_male</th>\n",
       "      <th>embarked_Q</th>\n",
       "      <th>embarked_S</th>\n",
       "      <th>class_Second</th>\n",
       "      <th>class_Third</th>\n",
       "    </tr>\n",
       "  </thead>\n",
       "  <tbody>\n",
       "    <tr>\n",
       "      <th>0</th>\n",
       "      <td>False</td>\n",
       "      <td>False</td>\n",
       "      <td>False</td>\n",
       "      <td>False</td>\n",
       "      <td>False</td>\n",
       "      <td>False</td>\n",
       "      <td>False</td>\n",
       "    </tr>\n",
       "    <tr>\n",
       "      <th>1</th>\n",
       "      <td>False</td>\n",
       "      <td>False</td>\n",
       "      <td>False</td>\n",
       "      <td>False</td>\n",
       "      <td>False</td>\n",
       "      <td>False</td>\n",
       "      <td>False</td>\n",
       "    </tr>\n",
       "    <tr>\n",
       "      <th>...</th>\n",
       "      <td>...</td>\n",
       "      <td>...</td>\n",
       "      <td>...</td>\n",
       "      <td>...</td>\n",
       "      <td>...</td>\n",
       "      <td>...</td>\n",
       "      <td>...</td>\n",
       "    </tr>\n",
       "    <tr>\n",
       "      <th>889</th>\n",
       "      <td>False</td>\n",
       "      <td>False</td>\n",
       "      <td>False</td>\n",
       "      <td>False</td>\n",
       "      <td>False</td>\n",
       "      <td>False</td>\n",
       "      <td>False</td>\n",
       "    </tr>\n",
       "    <tr>\n",
       "      <th>890</th>\n",
       "      <td>False</td>\n",
       "      <td>False</td>\n",
       "      <td>False</td>\n",
       "      <td>False</td>\n",
       "      <td>False</td>\n",
       "      <td>False</td>\n",
       "      <td>False</td>\n",
       "    </tr>\n",
       "  </tbody>\n",
       "</table>\n",
       "<p>891 rows × 7 columns</p>\n",
       "</div>"
      ],
      "text/plain": [
       "     survived    age  sex_male  embarked_Q  embarked_S  class_Second  \\\n",
       "0       False  False     False       False       False         False   \n",
       "1       False  False     False       False       False         False   \n",
       "..        ...    ...       ...         ...         ...           ...   \n",
       "889     False  False     False       False       False         False   \n",
       "890     False  False     False       False       False         False   \n",
       "\n",
       "     class_Third  \n",
       "0          False  \n",
       "1          False  \n",
       "..           ...  \n",
       "889        False  \n",
       "890        False  \n",
       "\n",
       "[891 rows x 7 columns]"
      ]
     },
     "execution_count": 13,
     "metadata": {},
     "output_type": "execute_result"
    }
   ],
   "source": [
    "df_titanic.isna()"
   ]
  },
  {
   "cell_type": "code",
   "execution_count": 14,
   "id": "64897c28-3eef-47b8-8bed-973dfa1f057a",
   "metadata": {},
   "outputs": [
    {
     "data": {
      "text/plain": [
       "survived          0\n",
       "age             177\n",
       "sex_male          0\n",
       "embarked_Q        0\n",
       "embarked_S        0\n",
       "class_Second      0\n",
       "class_Third       0\n",
       "dtype: int64"
      ]
     },
     "execution_count": 14,
     "metadata": {},
     "output_type": "execute_result"
    }
   ],
   "source": [
    "df_titanic.isna().sum()"
   ]
  },
  {
   "cell_type": "markdown",
   "id": "0639d29b-1a0b-43d3-842a-e6670227842e",
   "metadata": {},
   "source": [
    "Who are the people who lack the information?"
   ]
  },
  {
   "cell_type": "code",
   "execution_count": 15,
   "id": "562c7456-9187-48f8-8161-52a482454863",
   "metadata": {},
   "outputs": [],
   "source": [
    "mask_na = df_titanic.isna().sum(axis=1) > 0"
   ]
  },
  {
   "cell_type": "code",
   "execution_count": 16,
   "id": "c1e7536a-76e1-4faf-8ad6-b40fa74b0d73",
   "metadata": {},
   "outputs": [
    {
     "data": {
      "text/html": [
       "<div>\n",
       "<style scoped>\n",
       "    .dataframe tbody tr th:only-of-type {\n",
       "        vertical-align: middle;\n",
       "    }\n",
       "\n",
       "    .dataframe tbody tr th {\n",
       "        vertical-align: top;\n",
       "    }\n",
       "\n",
       "    .dataframe thead th {\n",
       "        text-align: right;\n",
       "    }\n",
       "</style>\n",
       "<table border=\"1\" class=\"dataframe\">\n",
       "  <thead>\n",
       "    <tr style=\"text-align: right;\">\n",
       "      <th></th>\n",
       "      <th>survived</th>\n",
       "      <th>age</th>\n",
       "      <th>sex_male</th>\n",
       "      <th>embarked_Q</th>\n",
       "      <th>embarked_S</th>\n",
       "      <th>class_Second</th>\n",
       "      <th>class_Third</th>\n",
       "    </tr>\n",
       "  </thead>\n",
       "  <tbody>\n",
       "    <tr>\n",
       "      <th>5</th>\n",
       "      <td>0</td>\n",
       "      <td>NaN</td>\n",
       "      <td>1</td>\n",
       "      <td>1</td>\n",
       "      <td>0</td>\n",
       "      <td>0</td>\n",
       "      <td>1</td>\n",
       "    </tr>\n",
       "    <tr>\n",
       "      <th>17</th>\n",
       "      <td>1</td>\n",
       "      <td>NaN</td>\n",
       "      <td>1</td>\n",
       "      <td>0</td>\n",
       "      <td>1</td>\n",
       "      <td>1</td>\n",
       "      <td>0</td>\n",
       "    </tr>\n",
       "    <tr>\n",
       "      <th>...</th>\n",
       "      <td>...</td>\n",
       "      <td>...</td>\n",
       "      <td>...</td>\n",
       "      <td>...</td>\n",
       "      <td>...</td>\n",
       "      <td>...</td>\n",
       "      <td>...</td>\n",
       "    </tr>\n",
       "    <tr>\n",
       "      <th>878</th>\n",
       "      <td>0</td>\n",
       "      <td>NaN</td>\n",
       "      <td>1</td>\n",
       "      <td>0</td>\n",
       "      <td>1</td>\n",
       "      <td>0</td>\n",
       "      <td>1</td>\n",
       "    </tr>\n",
       "    <tr>\n",
       "      <th>888</th>\n",
       "      <td>0</td>\n",
       "      <td>NaN</td>\n",
       "      <td>0</td>\n",
       "      <td>0</td>\n",
       "      <td>1</td>\n",
       "      <td>0</td>\n",
       "      <td>1</td>\n",
       "    </tr>\n",
       "  </tbody>\n",
       "</table>\n",
       "<p>177 rows × 7 columns</p>\n",
       "</div>"
      ],
      "text/plain": [
       "     survived  age  sex_male  embarked_Q  embarked_S  class_Second  \\\n",
       "5           0  NaN         1           1           0             0   \n",
       "17          1  NaN         1           0           1             1   \n",
       "..        ...  ...       ...         ...         ...           ...   \n",
       "878         0  NaN         1           0           1             0   \n",
       "888         0  NaN         0           0           1             0   \n",
       "\n",
       "     class_Third  \n",
       "5              1  \n",
       "17             0  \n",
       "..           ...  \n",
       "878            1  \n",
       "888            1  \n",
       "\n",
       "[177 rows x 7 columns]"
      ]
     },
     "execution_count": 16,
     "metadata": {},
     "output_type": "execute_result"
    }
   ],
   "source": [
    "df_titanic[mask_na]"
   ]
  },
  {
   "cell_type": "markdown",
   "id": "c9c22fd9-2891-469d-97c3-6092b6ccf0ca",
   "metadata": {},
   "source": [
    "What could we do with them?"
   ]
  },
  {
   "cell_type": "markdown",
   "id": "7d26fcb0-a46a-4cc8-8bef-2a6171690518",
   "metadata": {},
   "source": [
    "1. Drop the people (rows) who miss the age from the dataset.\n",
    "2. Fill the age by the average age of other combinations (like males who survived)\n",
    "3. Apply an algorithm to fill them.\n",
    "    \n",
    "We'll choose **option 1 to simplify the tutorial**.\n",
    "\n",
    "Therefore, we go from 891 people:"
   ]
  },
  {
   "cell_type": "code",
   "execution_count": 17,
   "id": "0586a35f-815e-4d9e-be36-9b519e288294",
   "metadata": {},
   "outputs": [
    {
     "data": {
      "text/html": [
       "<div>\n",
       "<style scoped>\n",
       "    .dataframe tbody tr th:only-of-type {\n",
       "        vertical-align: middle;\n",
       "    }\n",
       "\n",
       "    .dataframe tbody tr th {\n",
       "        vertical-align: top;\n",
       "    }\n",
       "\n",
       "    .dataframe thead th {\n",
       "        text-align: right;\n",
       "    }\n",
       "</style>\n",
       "<table border=\"1\" class=\"dataframe\">\n",
       "  <thead>\n",
       "    <tr style=\"text-align: right;\">\n",
       "      <th></th>\n",
       "      <th>survived</th>\n",
       "      <th>age</th>\n",
       "      <th>sex_male</th>\n",
       "      <th>embarked_Q</th>\n",
       "      <th>embarked_S</th>\n",
       "      <th>class_Second</th>\n",
       "      <th>class_Third</th>\n",
       "    </tr>\n",
       "  </thead>\n",
       "  <tbody>\n",
       "    <tr>\n",
       "      <th>0</th>\n",
       "      <td>0</td>\n",
       "      <td>22.0</td>\n",
       "      <td>1</td>\n",
       "      <td>0</td>\n",
       "      <td>1</td>\n",
       "      <td>0</td>\n",
       "      <td>1</td>\n",
       "    </tr>\n",
       "    <tr>\n",
       "      <th>1</th>\n",
       "      <td>1</td>\n",
       "      <td>38.0</td>\n",
       "      <td>0</td>\n",
       "      <td>0</td>\n",
       "      <td>0</td>\n",
       "      <td>0</td>\n",
       "      <td>0</td>\n",
       "    </tr>\n",
       "    <tr>\n",
       "      <th>...</th>\n",
       "      <td>...</td>\n",
       "      <td>...</td>\n",
       "      <td>...</td>\n",
       "      <td>...</td>\n",
       "      <td>...</td>\n",
       "      <td>...</td>\n",
       "      <td>...</td>\n",
       "    </tr>\n",
       "    <tr>\n",
       "      <th>889</th>\n",
       "      <td>1</td>\n",
       "      <td>26.0</td>\n",
       "      <td>1</td>\n",
       "      <td>0</td>\n",
       "      <td>0</td>\n",
       "      <td>0</td>\n",
       "      <td>0</td>\n",
       "    </tr>\n",
       "    <tr>\n",
       "      <th>890</th>\n",
       "      <td>0</td>\n",
       "      <td>32.0</td>\n",
       "      <td>1</td>\n",
       "      <td>1</td>\n",
       "      <td>0</td>\n",
       "      <td>0</td>\n",
       "      <td>1</td>\n",
       "    </tr>\n",
       "  </tbody>\n",
       "</table>\n",
       "<p>891 rows × 7 columns</p>\n",
       "</div>"
      ],
      "text/plain": [
       "     survived   age  sex_male  embarked_Q  embarked_S  class_Second  \\\n",
       "0           0  22.0         1           0           1             0   \n",
       "1           1  38.0         0           0           0             0   \n",
       "..        ...   ...       ...         ...         ...           ...   \n",
       "889         1  26.0         1           0           0             0   \n",
       "890         0  32.0         1           1           0             0   \n",
       "\n",
       "     class_Third  \n",
       "0              1  \n",
       "1              0  \n",
       "..           ...  \n",
       "889            0  \n",
       "890            1  \n",
       "\n",
       "[891 rows x 7 columns]"
      ]
     },
     "execution_count": 17,
     "metadata": {},
     "output_type": "execute_result"
    }
   ],
   "source": [
    "df_titanic"
   ]
  },
  {
   "cell_type": "markdown",
   "id": "6f10be21-5098-45ce-8eb3-52f10b288a81",
   "metadata": {},
   "source": [
    "To 714 people:"
   ]
  },
  {
   "cell_type": "code",
   "execution_count": 18,
   "id": "39b4742a-7fb8-4885-ad4d-8badfb8c7026",
   "metadata": {},
   "outputs": [
    {
     "data": {
      "text/html": [
       "<div>\n",
       "<style scoped>\n",
       "    .dataframe tbody tr th:only-of-type {\n",
       "        vertical-align: middle;\n",
       "    }\n",
       "\n",
       "    .dataframe tbody tr th {\n",
       "        vertical-align: top;\n",
       "    }\n",
       "\n",
       "    .dataframe thead th {\n",
       "        text-align: right;\n",
       "    }\n",
       "</style>\n",
       "<table border=\"1\" class=\"dataframe\">\n",
       "  <thead>\n",
       "    <tr style=\"text-align: right;\">\n",
       "      <th></th>\n",
       "      <th>survived</th>\n",
       "      <th>age</th>\n",
       "      <th>sex_male</th>\n",
       "      <th>embarked_Q</th>\n",
       "      <th>embarked_S</th>\n",
       "      <th>class_Second</th>\n",
       "      <th>class_Third</th>\n",
       "    </tr>\n",
       "  </thead>\n",
       "  <tbody>\n",
       "    <tr>\n",
       "      <th>0</th>\n",
       "      <td>0</td>\n",
       "      <td>22.0</td>\n",
       "      <td>1</td>\n",
       "      <td>0</td>\n",
       "      <td>1</td>\n",
       "      <td>0</td>\n",
       "      <td>1</td>\n",
       "    </tr>\n",
       "    <tr>\n",
       "      <th>1</th>\n",
       "      <td>1</td>\n",
       "      <td>38.0</td>\n",
       "      <td>0</td>\n",
       "      <td>0</td>\n",
       "      <td>0</td>\n",
       "      <td>0</td>\n",
       "      <td>0</td>\n",
       "    </tr>\n",
       "    <tr>\n",
       "      <th>...</th>\n",
       "      <td>...</td>\n",
       "      <td>...</td>\n",
       "      <td>...</td>\n",
       "      <td>...</td>\n",
       "      <td>...</td>\n",
       "      <td>...</td>\n",
       "      <td>...</td>\n",
       "    </tr>\n",
       "    <tr>\n",
       "      <th>889</th>\n",
       "      <td>1</td>\n",
       "      <td>26.0</td>\n",
       "      <td>1</td>\n",
       "      <td>0</td>\n",
       "      <td>0</td>\n",
       "      <td>0</td>\n",
       "      <td>0</td>\n",
       "    </tr>\n",
       "    <tr>\n",
       "      <th>890</th>\n",
       "      <td>0</td>\n",
       "      <td>32.0</td>\n",
       "      <td>1</td>\n",
       "      <td>1</td>\n",
       "      <td>0</td>\n",
       "      <td>0</td>\n",
       "      <td>1</td>\n",
       "    </tr>\n",
       "  </tbody>\n",
       "</table>\n",
       "<p>714 rows × 7 columns</p>\n",
       "</div>"
      ],
      "text/plain": [
       "     survived   age  sex_male  embarked_Q  embarked_S  class_Second  \\\n",
       "0           0  22.0         1           0           1             0   \n",
       "1           1  38.0         0           0           0             0   \n",
       "..        ...   ...       ...         ...         ...           ...   \n",
       "889         1  26.0         1           0           0             0   \n",
       "890         0  32.0         1           1           0             0   \n",
       "\n",
       "     class_Third  \n",
       "0              1  \n",
       "1              0  \n",
       "..           ...  \n",
       "889            0  \n",
       "890            1  \n",
       "\n",
       "[714 rows x 7 columns]"
      ]
     },
     "execution_count": 18,
     "metadata": {},
     "output_type": "execute_result"
    }
   ],
   "source": [
    "df_titanic.dropna()"
   ]
  },
  {
   "cell_type": "code",
   "execution_count": 19,
   "id": "02273765-b97d-4a4f-98fa-abc38f945998",
   "metadata": {},
   "outputs": [],
   "source": [
    "df_titanic = df_titanic.dropna()"
   ]
  },
  {
   "cell_type": "markdown",
   "id": "0d5a101a-1961-469c-a33a-4a7941d25da9",
   "metadata": {},
   "source": [
    "We separate the variables again to take into account the latest modification:"
   ]
  },
  {
   "cell_type": "code",
   "execution_count": 20,
   "id": "655e8f44-6b09-41dd-abd6-c3b696f09cdd",
   "metadata": {},
   "outputs": [],
   "source": [
    "explanatory = df_titanic.drop(columns='survived')\n",
    "target = df_titanic['survived']"
   ]
  },
  {
   "cell_type": "markdown",
   "id": "68088474-721d-4414-965e-35406e6cb2b6",
   "metadata": {},
   "source": [
    "Now we shouldn't have any more trouble with the data to finally fit the model."
   ]
  },
  {
   "cell_type": "markdown",
   "id": "c099a21f-0816-47e1-8c1f-892989ac8336",
   "metadata": {},
   "source": [
    "## `DecisionTreeClassifier()` Small Recap"
   ]
  },
  {
   "cell_type": "markdown",
   "id": "35d19035-4e31-47bc-90a9-ce68839268a3",
   "metadata": {},
   "source": [
    "With repect to the Decision Tree object, we have just instantiate the Class. Therefore, the object won't show calculated attributes, just the default ones:"
   ]
  },
  {
   "cell_type": "code",
   "execution_count": 21,
   "id": "542bc08f-1515-425e-baa7-edfeda110bd5",
   "metadata": {},
   "outputs": [
    {
     "data": {
      "text/plain": [
       "{'criterion': 'gini',\n",
       " 'splitter': 'best',\n",
       " 'max_depth': None,\n",
       " 'min_samples_split': 2,\n",
       " 'min_samples_leaf': 1,\n",
       " 'min_weight_fraction_leaf': 0.0,\n",
       " 'max_features': None,\n",
       " 'max_leaf_nodes': None,\n",
       " 'random_state': None,\n",
       " 'min_impurity_decrease': 0.0,\n",
       " 'class_weight': None,\n",
       " 'ccp_alpha': 0.0}"
      ]
     },
     "execution_count": 21,
     "metadata": {},
     "output_type": "execute_result"
    }
   ],
   "source": [
    "from sklearn.tree import DecisionTreeClassifier\n",
    "\n",
    "model_dt = DecisionTreeClassifier()\n",
    "model_dt.__dict__"
   ]
  },
  {
   "cell_type": "markdown",
   "id": "1809d160-d142-4160-b6d7-294fff331a13",
   "metadata": {},
   "source": [
    "### Fit the Model Again"
   ]
  },
  {
   "cell_type": "markdown",
   "id": "b3bc7d33-514d-4bfd-900e-cfe32c12d251",
   "metadata": {},
   "source": [
    "We don't get any error because we correctly preprocess the data for the model.\n",
    "\n",
    "Once the model is fitted, we may observe that the object contains more attributes because it has calculated best numbers for the mathematical equation."
   ]
  },
  {
   "cell_type": "code",
   "execution_count": 22,
   "id": "79cd5f24-2959-4072-850b-de57ca83d8bb",
   "metadata": {},
   "outputs": [
    {
     "data": {
      "text/plain": [
       "{'criterion': 'gini',\n",
       " 'splitter': 'best',\n",
       " 'max_depth': None,\n",
       " 'min_samples_split': 2,\n",
       " 'min_samples_leaf': 1,\n",
       " 'min_weight_fraction_leaf': 0.0,\n",
       " 'max_features': None,\n",
       " 'max_leaf_nodes': None,\n",
       " 'random_state': None,\n",
       " 'min_impurity_decrease': 0.0,\n",
       " 'class_weight': None,\n",
       " 'ccp_alpha': 0.0,\n",
       " 'feature_names_in_': array(['age', 'sex_male', 'embarked_Q', 'embarked_S', 'class_Second',\n",
       "        'class_Third'], dtype=object),\n",
       " 'n_features_in_': 6,\n",
       " 'n_outputs_': 1,\n",
       " 'classes_': array([0, 1]),\n",
       " 'n_classes_': 2,\n",
       " 'max_features_': 6,\n",
       " 'tree_': <sklearn.tree._tree.Tree at 0x16612cce0>}"
      ]
     },
     "execution_count": 22,
     "metadata": {},
     "output_type": "execute_result"
    }
   ],
   "source": [
    "model_dt.fit(X=explanatory, y=target)\n",
    "model_dt.__dict__"
   ]
  },
  {
   "cell_type": "markdown",
   "id": "49b6f37e-e83b-4040-8822-a01e848e17e8",
   "metadata": {},
   "source": [
    "### Predictions"
   ]
  },
  {
   "cell_type": "markdown",
   "id": "b3cc9776-785e-4812-95ac-091a526d843b",
   "metadata": {},
   "source": [
    "#### Calculate Predictions"
   ]
  },
  {
   "cell_type": "markdown",
   "id": "fc2727d8-92f9-4678-8a4f-7a9979e33bdf",
   "metadata": {},
   "source": [
    "We have a fitted `DecisionTreeClassifier`. Therefore, we should be able to apply the mathematical equation to the original data to get the predictions:"
   ]
  },
  {
   "cell_type": "code",
   "execution_count": 23,
   "id": "a66f1185-751b-4b12-863c-b4644511b9d4",
   "metadata": {},
   "outputs": [
    {
     "data": {
      "text/plain": [
       "array([0, 1, 1, 1, 0, 0, 0, 1, 1, 1, 1, 0, 0, 0, 1, 0, 0, 0, 0, 1, 1, 0,\n",
       "       1, 0, 0, 0, 0, 1, 0, 0, 1, 0, 0, 1, 1, 0, 0, 0, 1, 1, 0, 1, 0, 1,\n",
       "       0, 0, 1, 0, 0, 1, 0, 1, 0, 0, 0, 0, 0, 0, 0, 1, 0, 0, 0, 1, 1, 1,\n",
       "       0, 1, 0, 0, 0, 0, 0, 0, 0, 1, 1, 0, 0, 0, 0, 0, 0, 0, 0, 0, 0, 0,\n",
       "       0, 0, 0, 0, 0, 0, 0, 0, 0, 1, 0, 1, 0, 0, 0, 0, 0, 1, 0, 0, 1, 0,\n",
       "       0, 0, 1, 1, 0, 0, 0, 1, 0, 0, 0, 0, 1, 0, 0, 0, 1, 0, 0, 1, 0, 0,\n",
       "       0, 0, 0, 0, 0, 0, 1, 0, 0, 0, 0, 0, 0, 0, 1, 1, 0, 0, 0, 1, 0, 1,\n",
       "       1, 1, 1, 0, 1, 0, 0, 0, 0, 0, 0, 0, 1, 0, 0, 1, 0, 0, 1, 1, 0, 1,\n",
       "       0, 0, 0, 0, 0, 0, 0, 0, 0, 1, 0, 0, 1, 0, 0, 1, 0, 0, 0, 0, 0, 0,\n",
       "       0, 1, 0, 0, 0, 0, 0, 0, 1, 1, 1, 1, 1, 0, 0, 0, 0, 0, 1, 1, 0, 1,\n",
       "       0, 1, 0, 0, 1, 0, 0, 0, 0, 0, 0, 0, 0, 1, 1, 1, 0, 1, 0, 0, 0, 0,\n",
       "       0, 1, 1, 0, 1, 1, 1, 0, 0, 0, 1, 1, 0, 1, 1, 0, 1, 1, 1, 1, 0, 1,\n",
       "       0, 1, 0, 0, 0, 0, 1, 0, 0, 1, 1, 0, 0, 0, 1, 1, 1, 0, 0, 0, 0, 0,\n",
       "       1, 0, 0, 0, 0, 0, 0, 1, 1, 1, 0, 0, 0, 0, 1, 0, 1, 0, 1, 1, 0, 1,\n",
       "       0, 0, 1, 1, 1, 0, 0, 1, 1, 0, 0, 0, 0, 1, 0, 0, 0, 0, 0, 0, 0, 1,\n",
       "       0, 1, 0, 1, 1, 0, 0, 0, 0, 0, 0, 1, 1, 0, 1, 1, 0, 0, 1, 0, 1, 0,\n",
       "       0, 1, 0, 0, 1, 1, 1, 1, 1, 0, 0, 0, 1, 1, 0, 1, 1, 0, 0, 0, 0, 0,\n",
       "       1, 0, 1, 1, 1, 0, 0, 0, 0, 0, 0, 1, 1, 1, 0, 0, 0, 0, 0, 0, 0, 1,\n",
       "       0, 0, 0, 0, 0, 1, 0, 1, 0, 0, 1, 1, 1, 0, 0, 1, 1, 0, 1, 0, 1, 0,\n",
       "       1, 0, 0, 1, 0, 0, 1, 0, 1, 1, 1, 0, 0, 0, 0, 0, 1, 0, 1, 1, 0, 0,\n",
       "       1, 0, 1, 1, 1, 0, 0, 0, 0, 0, 0, 1, 1, 1, 0, 0, 1, 1, 0, 1, 1, 0,\n",
       "       0, 1, 0, 1, 0, 0, 1, 0, 0, 0, 0, 1, 1, 0, 1, 0, 0, 1, 1, 1, 0, 0,\n",
       "       1, 0, 1, 1, 0, 0, 1, 1, 0, 0, 0, 0, 1, 0, 1, 0, 1, 0, 1, 0, 0, 0,\n",
       "       0, 1, 0, 1, 1, 0, 0, 0, 1, 0, 0, 0, 0, 0, 0, 0, 0, 0, 0, 0, 0, 0,\n",
       "       0, 1, 0, 0, 0, 0, 0, 0, 0, 0, 0, 0, 0, 0, 0, 0, 0, 0, 1, 0, 1, 0,\n",
       "       0, 0, 0, 1, 0, 1, 1, 0, 0, 0, 0, 1, 1, 1, 1, 1, 0, 0, 0, 1, 0, 0,\n",
       "       1, 0, 0, 0, 1, 0, 1, 0, 0, 1, 0, 0, 0, 0, 0, 1, 1, 1, 0, 0, 0, 0,\n",
       "       1, 0, 0, 1, 1, 0, 0, 1, 1, 0, 0, 0, 1, 0, 1, 1, 0, 1, 0, 0, 0, 0,\n",
       "       0, 1, 0, 1, 1, 1, 1, 0, 0, 0, 0, 0, 0, 0, 0, 0, 0, 1, 0, 0, 0, 0,\n",
       "       1, 1, 1, 1, 0, 0, 0, 0, 1, 0, 0, 0, 0, 0, 0, 0, 0, 0, 1, 1, 0, 1,\n",
       "       0, 1, 1, 1, 1, 0, 0, 1, 0, 0, 0, 0, 1, 0, 0, 0, 0, 0, 0, 0, 0, 1,\n",
       "       0, 0, 1, 1, 1, 0, 0, 1, 0, 1, 1, 0, 0, 0, 1, 0, 0, 1, 1, 0, 0, 1,\n",
       "       1, 0, 1, 0, 0, 0, 0, 1, 1, 0])"
      ]
     },
     "execution_count": 23,
     "metadata": {},
     "output_type": "execute_result"
    }
   ],
   "source": [
    "model_dt.predict(X=explanatory)"
   ]
  },
  {
   "cell_type": "markdown",
   "id": "1d4db9bf-0b86-41cf-8c25-bac5ada80e2d",
   "metadata": {},
   "source": [
    "#### Add a New Column with the Predictions"
   ]
  },
  {
   "cell_type": "markdown",
   "id": "3fdd9387-aa8c-451a-bae0-088daec0863d",
   "metadata": {},
   "source": [
    "Let's create a new `DataFrame` to keep the information of the target and predictions to better understand the topic:"
   ]
  },
  {
   "cell_type": "code",
   "execution_count": 24,
   "id": "d5c219f9-e549-431f-b692-00987fcb206d",
   "metadata": {},
   "outputs": [],
   "source": [
    "df_pred = df_titanic[['survived']].copy()"
   ]
  },
  {
   "cell_type": "markdown",
   "id": "d02543d9-e9eb-4a5e-8fa7-7cddbd6b32d4",
   "metadata": {},
   "source": [
    "And add the predictions:"
   ]
  },
  {
   "cell_type": "code",
   "execution_count": 25,
   "id": "99274c28-8d08-4403-8085-5ce56cde12a4",
   "metadata": {},
   "outputs": [
    {
     "data": {
      "text/html": [
       "<div>\n",
       "<style scoped>\n",
       "    .dataframe tbody tr th:only-of-type {\n",
       "        vertical-align: middle;\n",
       "    }\n",
       "\n",
       "    .dataframe tbody tr th {\n",
       "        vertical-align: top;\n",
       "    }\n",
       "\n",
       "    .dataframe thead th {\n",
       "        text-align: right;\n",
       "    }\n",
       "</style>\n",
       "<table border=\"1\" class=\"dataframe\">\n",
       "  <thead>\n",
       "    <tr style=\"text-align: right;\">\n",
       "      <th></th>\n",
       "      <th>survived</th>\n",
       "      <th>pred_dt</th>\n",
       "    </tr>\n",
       "  </thead>\n",
       "  <tbody>\n",
       "    <tr>\n",
       "      <th>0</th>\n",
       "      <td>0</td>\n",
       "      <td>0</td>\n",
       "    </tr>\n",
       "    <tr>\n",
       "      <th>1</th>\n",
       "      <td>1</td>\n",
       "      <td>1</td>\n",
       "    </tr>\n",
       "    <tr>\n",
       "      <th>...</th>\n",
       "      <td>...</td>\n",
       "      <td>...</td>\n",
       "    </tr>\n",
       "    <tr>\n",
       "      <th>889</th>\n",
       "      <td>1</td>\n",
       "      <td>1</td>\n",
       "    </tr>\n",
       "    <tr>\n",
       "      <th>890</th>\n",
       "      <td>0</td>\n",
       "      <td>0</td>\n",
       "    </tr>\n",
       "  </tbody>\n",
       "</table>\n",
       "<p>714 rows × 2 columns</p>\n",
       "</div>"
      ],
      "text/plain": [
       "     survived  pred_dt\n",
       "0           0        0\n",
       "1           1        1\n",
       "..        ...      ...\n",
       "889         1        1\n",
       "890         0        0\n",
       "\n",
       "[714 rows x 2 columns]"
      ]
     },
     "execution_count": 25,
     "metadata": {},
     "output_type": "execute_result"
    }
   ],
   "source": [
    "df_pred['pred_dt'] = model_dt.predict(X=explanatory)\n",
    "df_pred"
   ]
  },
  {
   "cell_type": "markdown",
   "id": "5328948a-1cf3-4495-91c5-a7a7a3c554a1",
   "metadata": {},
   "source": [
    "How have we calculated those predictions?"
   ]
  },
  {
   "cell_type": "markdown",
   "id": "5a3ccaae-a0b7-4c75-be65-0854e76459b5",
   "metadata": {},
   "source": [
    "### Model Visualization"
   ]
  },
  {
   "cell_type": "markdown",
   "id": "d3009016-27eb-4899-b230-8a109b280f63",
   "metadata": {},
   "source": [
    "The **Decision Tree** model doesn't especifically have a mathematical equation. But rather, a set of conditions represented in a tree:"
   ]
  },
  {
   "cell_type": "code",
   "execution_count": 26,
   "id": "db1b5bc6-4dda-4bb2-b6c5-6dc5c30b60a5",
   "metadata": {},
   "outputs": [
    {
     "data": {
      "image/png": "[encoded data removed]",
      "text/plain": [
       "<Figure size 432x288 with 1 Axes>"
      ]
     },
     "metadata": {
      "needs_background": "light"
     },
     "output_type": "display_data"
    }
   ],
   "source": [
    "from sklearn.tree import plot_tree\n",
    "\n",
    "plot_tree(decision_tree=model_dt);"
   ]
  },
  {
   "cell_type": "markdown",
   "id": "889b4a35-a4c9-415b-a5e8-79493bb61346",
   "metadata": {},
   "source": [
    "There are many conditions, let's recreate a shorter tree to explain the Mathematical Equation of the Decision Tree:"
   ]
  },
  {
   "cell_type": "code",
   "execution_count": 27,
   "id": "d2e218e9-c1c0-41b8-8d9d-10d78e5d7f51",
   "metadata": {},
   "outputs": [
    {
     "data": {
      "image/png": "[encoded data removed]",
      "text/plain": [
       "<Figure size 432x288 with 1 Axes>"
      ]
     },
     "metadata": {
      "needs_background": "light"
     },
     "output_type": "display_data"
    }
   ],
   "source": [
    "model_dt = DecisionTreeClassifier(max_depth=2)\n",
    "model_dt.fit(X=explanatory, y=target)\n",
    "\n",
    "plot_tree(decision_tree=model_dt);"
   ]
  },
  {
   "cell_type": "markdown",
   "id": "eadc833a-2904-41a5-9044-8641637563e5",
   "metadata": {},
   "source": [
    "Let's make the image bigger:"
   ]
  },
  {
   "cell_type": "code",
   "execution_count": 28,
   "id": "6fc60bc9-e829-4f26-946b-8eb45dec8df6",
   "metadata": {},
   "outputs": [
    {
     "data": {
      "image/png": "[encoded data removed]",
      "text/plain": [
       "<Figure size 720x432 with 1 Axes>"
      ]
     },
     "metadata": {
      "needs_background": "light"
     },
     "output_type": "display_data"
    }
   ],
   "source": [
    "import matplotlib.pyplot as plt\n",
    "\n",
    "plt.figure(figsize=(10,6))\n",
    "plot_tree(decision_tree=model_dt);"
   ]
  },
  {
   "cell_type": "markdown",
   "id": "07866eae-3cc6-4d27-8b02-6a7f9ac0de37",
   "metadata": {},
   "source": [
    "The conditions are `X[2]<=0.5`. The `X[2]` means the 3rd variable (Python starts counting at 0) of the explanatory ones. If we'd like to see the names of the columns, we need to add the `feature_names` parameter:"
   ]
  },
  {
   "cell_type": "code",
   "execution_count": 29,
   "id": "c3c3cf7f-69ad-468c-8864-3dd42a7045ec",
   "metadata": {},
   "outputs": [
    {
     "data": {
      "text/plain": [
       "Index(['age', 'sex_male', 'embarked_Q', 'embarked_S', 'class_Second',\n",
       "       'class_Third'],\n",
       "      dtype='object')"
      ]
     },
     "execution_count": 29,
     "metadata": {},
     "output_type": "execute_result"
    }
   ],
   "source": [
    "explanatory.columns"
   ]
  },
  {
   "cell_type": "code",
   "execution_count": 30,
   "id": "18a73626-5ad4-4fa9-ab1e-141e306fdf51",
   "metadata": {},
   "outputs": [
    {
     "data": {
      "image/png": "[encoded data removed]",
      "text/plain": [
       "<Figure size 720x432 with 1 Axes>"
      ]
     },
     "metadata": {
      "needs_background": "light"
     },
     "output_type": "display_data"
    }
   ],
   "source": [
    "import matplotlib.pyplot as plt\n",
    "\n",
    "plt.figure(figsize=(10,6))\n",
    "plot_tree(decision_tree=model_dt, feature_names=explanatory.columns);"
   ]
  },
  {
   "cell_type": "markdown",
   "id": "b093613a-3c40-4476-a4d7-f4cd6dfe13ed",
   "metadata": {},
   "source": [
    "Let's add some colours to see how the predictions will go based on the fulfilled conditions:"
   ]
  },
  {
   "cell_type": "code",
   "execution_count": 31,
   "id": "7525cb7d-505f-4c2d-9f7f-85cd5bc23284",
   "metadata": {},
   "outputs": [
    {
     "data": {
      "image/png": "[encoded data removed]",
      "text/plain": [
       "<Figure size 720x432 with 1 Axes>"
      ]
     },
     "metadata": {
      "needs_background": "light"
     },
     "output_type": "display_data"
    }
   ],
   "source": [
    "import matplotlib.pyplot as plt\n",
    "\n",
    "plt.figure(figsize=(10,6))\n",
    "plot_tree(decision_tree=model_dt, feature_names=explanatory.columns, filled=True);"
   ]
  },
  {
   "cell_type": "markdown",
   "id": "ae207872-f26a-4f0b-8095-3c6f9ea3e034",
   "metadata": {},
   "source": [
    "### How does the Decision Tree Algorithm computes the Mathematical Equation?"
   ]
  },
  {
   "cell_type": "markdown",
   "id": "e02bf7a5-4ae5-4acd-a37f-fa8149d047de",
   "metadata": {},
   "source": [
    "The Decision Tree, as well as the Linear Regression algorithms, look for the best numbers in a mathematical equation. The following video explains how the Decision Tree configures the equation:"
   ]
  },
  {
   "cell_type": "code",
   "execution_count": 32,
   "id": "fb0abcbd-d538-4d60-869e-50fd7598124c",
   "metadata": {},
   "outputs": [
    {
     "data": {
      "text/html": [
       "<iframe width=\"560\" height=\"315\" src=\"https://www.youtube.com/embed/_L39rN6gz7Y\" title=\"YouTube video player\" frameborder=\"0\" allow=\"accelerometer; autoplay; clipboard-write; encrypted-media; gyroscope; picture-in-picture\" allowfullscreen></iframe>\n"
      ],
      "text/plain": [
       "<IPython.core.display.HTML object>"
      ]
     },
     "metadata": {},
     "output_type": "display_data"
    }
   ],
   "source": [
    "%%HTML\n",
    "<iframe width=\"560\" height=\"315\" src=\"https://www.youtube.com/embed/_L39rN6gz7Y\" title=\"YouTube video player\" frameborder=\"0\" allow=\"accelerometer; autoplay; clipboard-write; encrypted-media; gyroscope; picture-in-picture\" allowfullscreen></iframe>"
   ]
  },
  {
   "cell_type": "markdown",
   "id": "6f139007-7567-4d04-80b9-2336a07ce595",
   "metadata": {},
   "source": [
    "### Model Interpretation"
   ]
  },
  {
   "cell_type": "markdown",
   "id": "6b6438f6-21c1-439e-8689-f33bf2fcaf7f",
   "metadata": {},
   "source": [
    "Let's take a person from the data to explain how the model makes a prediction. For the sake of storytelling, let's say the name of the person is John.\n",
    "\n",
    "John is a 22 year old men who took the titanic on 3rd class, but didn't survive:"
   ]
  },
  {
   "cell_type": "code",
   "execution_count": 33,
   "id": "4fd66f35-a0c7-4767-bd4c-30e155c85a3b",
   "metadata": {},
   "outputs": [
    {
     "data": {
      "text/html": [
       "<div>\n",
       "<style scoped>\n",
       "    .dataframe tbody tr th:only-of-type {\n",
       "        vertical-align: middle;\n",
       "    }\n",
       "\n",
       "    .dataframe tbody tr th {\n",
       "        vertical-align: top;\n",
       "    }\n",
       "\n",
       "    .dataframe thead th {\n",
       "        text-align: right;\n",
       "    }\n",
       "</style>\n",
       "<table border=\"1\" class=\"dataframe\">\n",
       "  <thead>\n",
       "    <tr style=\"text-align: right;\">\n",
       "      <th></th>\n",
       "      <th>survived</th>\n",
       "      <th>age</th>\n",
       "      <th>sex_male</th>\n",
       "      <th>embarked_Q</th>\n",
       "      <th>embarked_S</th>\n",
       "      <th>class_Second</th>\n",
       "      <th>class_Third</th>\n",
       "    </tr>\n",
       "  </thead>\n",
       "  <tbody>\n",
       "    <tr>\n",
       "      <th>0</th>\n",
       "      <td>0</td>\n",
       "      <td>22.0</td>\n",
       "      <td>1</td>\n",
       "      <td>0</td>\n",
       "      <td>1</td>\n",
       "      <td>0</td>\n",
       "      <td>1</td>\n",
       "    </tr>\n",
       "  </tbody>\n",
       "</table>\n",
       "</div>"
      ],
      "text/plain": [
       "   survived   age  sex_male  embarked_Q  embarked_S  class_Second  class_Third\n",
       "0         0  22.0         1           0           1             0            1"
      ]
     },
     "execution_count": 33,
     "metadata": {},
     "output_type": "execute_result"
    }
   ],
   "source": [
    "df_titanic[:1]"
   ]
  },
  {
   "cell_type": "markdown",
   "id": "ebf4113e-1d44-4f72-a20a-e0d972922df9",
   "metadata": {},
   "source": [
    "To calculate the chances of survival in a person like John, we pass the explanatory variables of John:"
   ]
  },
  {
   "cell_type": "code",
   "execution_count": 51,
   "id": "ff94fc9b-ba3d-4fc0-ba0f-b9eff1e68919",
   "metadata": {},
   "outputs": [
    {
     "data": {
      "text/html": [
       "<div>\n",
       "<style scoped>\n",
       "    .dataframe tbody tr th:only-of-type {\n",
       "        vertical-align: middle;\n",
       "    }\n",
       "\n",
       "    .dataframe tbody tr th {\n",
       "        vertical-align: top;\n",
       "    }\n",
       "\n",
       "    .dataframe thead th {\n",
       "        text-align: right;\n",
       "    }\n",
       "</style>\n",
       "<table border=\"1\" class=\"dataframe\">\n",
       "  <thead>\n",
       "    <tr style=\"text-align: right;\">\n",
       "      <th></th>\n",
       "      <th>age</th>\n",
       "      <th>sex_male</th>\n",
       "      <th>embarked_Q</th>\n",
       "      <th>embarked_S</th>\n",
       "      <th>class_Second</th>\n",
       "      <th>class_Third</th>\n",
       "    </tr>\n",
       "  </thead>\n",
       "  <tbody>\n",
       "    <tr>\n",
       "      <th>0</th>\n",
       "      <td>22.0</td>\n",
       "      <td>1</td>\n",
       "      <td>0</td>\n",
       "      <td>1</td>\n",
       "      <td>0</td>\n",
       "      <td>1</td>\n",
       "    </tr>\n",
       "  </tbody>\n",
       "</table>\n",
       "</div>"
      ],
      "text/plain": [
       "    age  sex_male  embarked_Q  embarked_S  class_Second  class_Third\n",
       "0  22.0         1           0           1             0            1"
      ]
     },
     "execution_count": 51,
     "metadata": {},
     "output_type": "execute_result"
    }
   ],
   "source": [
    "explanatory[:1]"
   ]
  },
  {
   "cell_type": "markdown",
   "id": "84a18e68-c759-4e83-aee8-d006e3ac2605",
   "metadata": {},
   "source": [
    "To the function `.predict_proba()` and get a probability of 17.94%:"
   ]
  },
  {
   "cell_type": "code",
   "execution_count": 53,
   "id": "39c2817e-0acb-4d06-8ef7-c6b0dd2b58ac",
   "metadata": {},
   "outputs": [
    {
     "data": {
      "text/plain": [
       "array([[0.82051282, 0.17948718]])"
      ]
     },
     "execution_count": 53,
     "metadata": {},
     "output_type": "execute_result"
    }
   ],
   "source": [
    "model_dt.predict_proba(X=explanatory[:1])"
   ]
  },
  {
   "cell_type": "markdown",
   "id": "404a769b-0e66-4fb2-9547-b70e5f8cd6ba",
   "metadata": {},
   "source": [
    "But wait, how did we get to thr probability of survival 17.94%?\n",
    "\n",
    "Let's explain it step-by-step with the Decision Tree visualization:"
   ]
  },
  {
   "cell_type": "code",
   "execution_count": 54,
   "id": "26f10717-e296-42ce-ad6a-ebeaff56862e",
   "metadata": {},
   "outputs": [
    {
     "data": {
      "image/png": "[encoded data removed]",
      "text/plain": [
       "<Figure size 720x432 with 1 Axes>"
      ]
     },
     "metadata": {
      "needs_background": "light"
     },
     "output_type": "display_data"
    }
   ],
   "source": [
    "plt.figure(figsize=(10,6))\n",
    "plot_tree(decision_tree=model_dt, feature_names=explanatory.columns, filled=True);"
   ]
  },
  {
   "cell_type": "markdown",
   "id": "4b961c83-a3d0-4468-930e-cc6ce9942a70",
   "metadata": {},
   "source": [
    "Based on the tree the conditions are:"
   ]
  },
  {
   "cell_type": "markdown",
   "id": "6667031e-4cb9-4a14-9290-16e55b1b03ec",
   "metadata": {},
   "source": [
    "#### 1st condition\n",
    "\n",
    "- sex_male (John=1) <= 0.5 ~ False\n",
    "\n",
    "John doesn't fulfill the condition, we move to the right side of the tree."
   ]
  },
  {
   "cell_type": "markdown",
   "id": "7d00c3e1-6045-4d0d-aeb8-58383c968f78",
   "metadata": {},
   "source": [
    "#### 2nd condition\n",
    "\n",
    "- age (John=22.0) <= 6.5 ~ False\n",
    "\n",
    "John doesn't fulfill the condition, we move to the right side of the tree."
   ]
  },
  {
   "cell_type": "markdown",
   "id": "80f3da14-78a8-4f55-994b-6bc60e68e344",
   "metadata": {},
   "source": [
    "#### Leaf\n",
    "\n",
    "The ultimate node, the leaf, tells us that the training dataset contained 429 males with an age greater than 6.5 years old.\n",
    "\n",
    "Out of the 429, 77 survived, but 352 didn't make it.\n",
    "\n",
    "Therefore, the chances of John to survive according to our model are 77 divided by 429:"
   ]
  },
  {
   "cell_type": "code",
   "execution_count": 36,
   "id": "e871233a-4c35-44af-8312-d1b77e32805d",
   "metadata": {},
   "outputs": [
    {
     "data": {
      "text/plain": [
       "0.1794871794871795"
      ]
     },
     "execution_count": 36,
     "metadata": {},
     "output_type": "execute_result"
    }
   ],
   "source": [
    "77/429"
   ]
  },
  {
   "cell_type": "markdown",
   "id": "71a4f7a6-1f66-4a20-96fa-e0dc1717c4e6",
   "metadata": {},
   "source": [
    "We get the same probability; John had a 17.94% chance to survive the Titanic accident."
   ]
  },
  {
   "cell_type": "markdown",
   "id": "cca24c38-7141-4088-b262-1098a3c0d86c",
   "metadata": {
    "tags": []
   },
   "source": [
    "### Model's Score"
   ]
  },
  {
   "cell_type": "markdown",
   "id": "16880236-e208-4ea9-8172-44a140cc2b42",
   "metadata": {},
   "source": [
    "#### Calculate the Score"
   ]
  },
  {
   "cell_type": "markdown",
   "id": "ca97d782-8d55-4e45-a73d-b71f3344b436",
   "metadata": {},
   "source": [
    "As always, we should have a function to calculate the goodness of the model:"
   ]
  },
  {
   "cell_type": "code",
   "execution_count": 37,
   "id": "974cb95f-5194-41de-b609-53ea7d71733c",
   "metadata": {},
   "outputs": [
    {
     "data": {
      "text/plain": [
       "0.8025210084033614"
      ]
     },
     "execution_count": 37,
     "metadata": {},
     "output_type": "execute_result"
    }
   ],
   "source": [
    "model_dt.score(X=explanatory, y=target)"
   ]
  },
  {
   "cell_type": "markdown",
   "id": "ee8abfe2-6931-4a11-91fa-1117ca286401",
   "metadata": {},
   "source": [
    "The model is able to predict correctly 80.25% of the people in the dataset.\n",
    "\n",
    "What's the reasoning behind the model's evaluation?"
   ]
  },
  {
   "cell_type": "markdown",
   "id": "5ce058e6-31d3-469e-b596-3b5e320ecced",
   "metadata": {},
   "source": [
    "#### [ ] The Score Step-by-step"
   ]
  },
  {
   "cell_type": "markdown",
   "id": "c4422ad4-234e-4b6a-bdcd-28880f1df1dc",
   "metadata": {},
   "source": [
    "As we saw [earlier](#Leaf), the classification model calculates the probability for an event to occur. The function `.predict_proba()` gives us two probabilities in the columns: people who didn't survived (0) and people who survived (1)."
   ]
  },
  {
   "cell_type": "code",
   "execution_count": 38,
   "id": "c8a87966-f902-452d-87c1-00e4d7a52637",
   "metadata": {},
   "outputs": [
    {
     "data": {
      "text/plain": [
       "array([[0.82051282, 0.17948718],\n",
       "       [0.05660377, 0.94339623],\n",
       "       [0.53921569, 0.46078431],\n",
       "       [0.05660377, 0.94339623],\n",
       "       [0.82051282, 0.17948718]])"
      ]
     },
     "execution_count": 38,
     "metadata": {},
     "output_type": "execute_result"
    }
   ],
   "source": [
    "model_dt.predict_proba(X=explanatory)[:5]"
   ]
  },
  {
   "cell_type": "markdown",
   "id": "f3091fc8-1413-4c99-a5be-f95c009be81a",
   "metadata": {},
   "source": [
    "We take the positive probabilities in the second column:"
   ]
  },
  {
   "cell_type": "code",
   "execution_count": 39,
   "id": "7dd08c86-c515-4c1d-a678-09c0c430d83a",
   "metadata": {},
   "outputs": [],
   "source": [
    "df_pred['pred_proba_dt'] = model_dt.predict_proba(X=explanatory)[:, 1]"
   ]
  },
  {
   "cell_type": "markdown",
   "id": "3d106918-5b49-41ff-8fa4-3413b8a72c60",
   "metadata": {},
   "source": [
    "At the time to compare reality (0s and 1s) with the predictions (probabilities), we need to turn probabilities higher than 0.5 into 1, and 0 otherwise."
   ]
  },
  {
   "cell_type": "code",
   "execution_count": 40,
   "id": "031f5fa8-1cc3-40c4-aeb7-b95c1e998af8",
   "metadata": {},
   "outputs": [
    {
     "data": {
      "text/html": [
       "<div>\n",
       "<style scoped>\n",
       "    .dataframe tbody tr th:only-of-type {\n",
       "        vertical-align: middle;\n",
       "    }\n",
       "\n",
       "    .dataframe tbody tr th {\n",
       "        vertical-align: top;\n",
       "    }\n",
       "\n",
       "    .dataframe thead th {\n",
       "        text-align: right;\n",
       "    }\n",
       "</style>\n",
       "<table border=\"1\" class=\"dataframe\">\n",
       "  <thead>\n",
       "    <tr style=\"text-align: right;\">\n",
       "      <th></th>\n",
       "      <th>survived</th>\n",
       "      <th>pred_dt</th>\n",
       "      <th>pred_proba_dt</th>\n",
       "    </tr>\n",
       "  </thead>\n",
       "  <tbody>\n",
       "    <tr>\n",
       "      <th>0</th>\n",
       "      <td>0</td>\n",
       "      <td>0</td>\n",
       "      <td>0.179487</td>\n",
       "    </tr>\n",
       "    <tr>\n",
       "      <th>1</th>\n",
       "      <td>1</td>\n",
       "      <td>1</td>\n",
       "      <td>0.943396</td>\n",
       "    </tr>\n",
       "    <tr>\n",
       "      <th>...</th>\n",
       "      <td>...</td>\n",
       "      <td>...</td>\n",
       "      <td>...</td>\n",
       "    </tr>\n",
       "    <tr>\n",
       "      <th>889</th>\n",
       "      <td>1</td>\n",
       "      <td>0</td>\n",
       "      <td>0.179487</td>\n",
       "    </tr>\n",
       "    <tr>\n",
       "      <th>890</th>\n",
       "      <td>0</td>\n",
       "      <td>0</td>\n",
       "      <td>0.179487</td>\n",
       "    </tr>\n",
       "  </tbody>\n",
       "</table>\n",
       "<p>714 rows × 3 columns</p>\n",
       "</div>"
      ],
      "text/plain": [
       "     survived  pred_dt  pred_proba_dt\n",
       "0           0        0       0.179487\n",
       "1           1        1       0.943396\n",
       "..        ...      ...            ...\n",
       "889         1        0       0.179487\n",
       "890         0        0       0.179487\n",
       "\n",
       "[714 rows x 3 columns]"
      ]
     },
     "execution_count": 40,
     "metadata": {},
     "output_type": "execute_result"
    }
   ],
   "source": [
    "import numpy as np\n",
    "\n",
    "df_pred['pred_dt'] = np.where(df_pred.pred_proba_dt > 0.5, 1, 0)\n",
    "df_pred"
   ]
  },
  {
   "cell_type": "markdown",
   "id": "3cb5380c-59f6-43e4-8a9a-35a98d7d3947",
   "metadata": {},
   "source": [
    "The simple idea of the accuracy is to get the success rate on the classification: how many people we got right?\n",
    "\n",
    "We compare if the reality is equal to the prediction:"
   ]
  },
  {
   "cell_type": "code",
   "execution_count": 41,
   "id": "82b43990-356c-4369-9d97-9fde4eaba750",
   "metadata": {},
   "outputs": [
    {
     "data": {
      "text/plain": [
       "0       True\n",
       "1       True\n",
       "       ...  \n",
       "889    False\n",
       "890     True\n",
       "Length: 714, dtype: bool"
      ]
     },
     "execution_count": 41,
     "metadata": {},
     "output_type": "execute_result"
    }
   ],
   "source": [
    "comp = df_pred.survived == df_pred.pred_dt\n",
    "comp"
   ]
  },
  {
   "cell_type": "markdown",
   "id": "45191e71-0db8-46d6-8389-46ff351d2dab",
   "metadata": {},
   "source": [
    "If we sum the boolean Series, Python will take True as 1 and 0 as False to compute the number of correct classifications:"
   ]
  },
  {
   "cell_type": "code",
   "execution_count": 42,
   "id": "23d91f11-9c2c-49bf-ad58-eae9714f5313",
   "metadata": {},
   "outputs": [
    {
     "data": {
      "text/plain": [
       "573"
      ]
     },
     "execution_count": 42,
     "metadata": {},
     "output_type": "execute_result"
    }
   ],
   "source": [
    "comp.sum()"
   ]
  },
  {
   "cell_type": "markdown",
   "id": "3cc91d6f-d521-4b1c-93ae-93e85f0cf870",
   "metadata": {},
   "source": [
    "We get the score dividing the successes by all posibilities (the total number of people):"
   ]
  },
  {
   "cell_type": "code",
   "execution_count": 43,
   "id": "c5652150-c193-4b57-9c73-ffc5f1725260",
   "metadata": {},
   "outputs": [
    {
     "data": {
      "text/plain": [
       "0.8025210084033614"
      ]
     },
     "execution_count": 43,
     "metadata": {},
     "output_type": "execute_result"
    }
   ],
   "source": [
    "comp.sum()/len(comp)"
   ]
  },
  {
   "cell_type": "markdown",
   "id": "8354eea4-97c7-4e88-9eb1-03b885d3f771",
   "metadata": {},
   "source": [
    "It is also correct to do the mean on the comparisons because it's the sum divided by the total. Observe how you get the same number:"
   ]
  },
  {
   "cell_type": "code",
   "execution_count": 44,
   "id": "07c37b8e-dc64-46eb-9ddd-0135d8373079",
   "metadata": {},
   "outputs": [
    {
     "data": {
      "text/plain": [
       "0.8025210084033614"
      ]
     },
     "execution_count": 44,
     "metadata": {},
     "output_type": "execute_result"
    }
   ],
   "source": [
    "comp.mean()"
   ]
  },
  {
   "cell_type": "markdown",
   "id": "334ec086-f0e3-499e-a373-2aaaa901bc2b",
   "metadata": {},
   "source": [
    "But it's definitely more efficient to calculate this metric with the function `.score()`:"
   ]
  },
  {
   "cell_type": "code",
   "execution_count": 45,
   "id": "942c9e3b-9c26-4474-a3ed-5e9c9be08d79",
   "metadata": {},
   "outputs": [
    {
     "data": {
      "text/plain": [
       "0.8025210084033614"
      ]
     },
     "execution_count": 45,
     "metadata": {},
     "output_type": "execute_result"
    }
   ],
   "source": [
    "model_dt.score(X=explanatory, y=target)"
   ]
  },
  {
   "cell_type": "markdown",
   "id": "fec788e4-14f9-423b-9177-29ec423eb3dd",
   "metadata": {
    "tags": []
   },
   "source": [
    "### The Confusion Matrix to Compute Other Classification Metrics"
   ]
  },
  {
   "cell_type": "markdown",
   "id": "551a6b3f-34ab-4068-88b0-b39f08056a48",
   "metadata": {},
   "source": [
    "Can we think that our model is 80.25% of good and be happy with it?\n",
    "\n",
    "- We should not, because we might be interested on the accuracy of each class (survived or not) separatedly. But first, we need to compute the confussion matrix:"
   ]
  },
  {
   "cell_type": "code",
   "execution_count": 46,
   "id": "3f3f64d1-6708-4b45-b928-31807da75ffd",
   "metadata": {},
   "outputs": [
    {
     "data": {
      "image/png": "[encoded data removed]",
      "text/plain": [
       "<Figure size 432x288 with 2 Axes>"
      ]
     },
     "metadata": {
      "needs_background": "light"
     },
     "output_type": "display_data"
    }
   ],
   "source": [
    "from sklearn.metrics import confusion_matrix, ConfusionMatrixDisplay\n",
    "\n",
    "cm = confusion_matrix(\n",
    "    y_true=df_pred.survived,\n",
    "    y_pred=df_pred.pred_dt\n",
    ")\n",
    "\n",
    "CM = ConfusionMatrixDisplay(cm)\n",
    "CM.plot();"
   ]
  },
  {
   "cell_type": "markdown",
   "id": "cbf2b77e-f5a6-407e-8f87-659db73c4ffa",
   "metadata": {},
   "source": [
    "1. Looking at the first number of the confusion matrix, we have 407 people who didn't survived the Titanic in reality and in the predictions.\n",
    "2. It is not the case with the following number: 17. Our model classified 17 people as survivors when they didn't.\n",
    "3. The success rate of the negative class, people who didn't survive, is called the **specificity**: $407/(407+17)$.\n",
    "4. Whereas the success rate of the positive class, people who did survive, is called the **sensitivity**: $166/(166+124)$."
   ]
  },
  {
   "cell_type": "markdown",
   "id": "963576a6-1bda-43e4-a537-e37187de6383",
   "metadata": {},
   "source": [
    "#### Specificity (Recall=0)"
   ]
  },
  {
   "cell_type": "code",
   "execution_count": 47,
   "id": "3a299901-673b-4cda-a5f1-d6cc3afd64ab",
   "metadata": {},
   "outputs": [
    {
     "data": {
      "text/plain": [
       "407"
      ]
     },
     "execution_count": 47,
     "metadata": {},
     "output_type": "execute_result"
    }
   ],
   "source": [
    "cm[0,0]"
   ]
  },
  {
   "cell_type": "code",
   "execution_count": 48,
   "id": "85f2f9c4-a0ba-4d73-ae3a-4835b3c80575",
   "metadata": {},
   "outputs": [
    {
     "data": {
      "text/plain": [
       "array([407,  17])"
      ]
     },
     "execution_count": 48,
     "metadata": {},
     "output_type": "execute_result"
    }
   ],
   "source": [
    "cm[0,:]"
   ]
  },
  {
   "cell_type": "code",
   "execution_count": 49,
   "id": "08a62749-c109-438a-aefe-98e930f4aeab",
   "metadata": {},
   "outputs": [
    {
     "data": {
      "text/plain": [
       "0.9599056603773585"
      ]
     },
     "execution_count": 49,
     "metadata": {},
     "output_type": "execute_result"
    }
   ],
   "source": [
    "cm[0,0]/cm[0,:].sum()"
   ]
  },
  {
   "cell_type": "code",
   "execution_count": 223,
   "id": "b1445989-12f9-4b31-a0a6-13178a8ed7e5",
   "metadata": {},
   "outputs": [],
   "source": [
    "sensitivity = cm[0,0]/cm[0,:].sum()"
   ]
  },
  {
   "cell_type": "markdown",
   "id": "28992d93-2b11-4d7c-ba8e-5544c7e6d2a5",
   "metadata": {},
   "source": [
    "#### Sensitivity (Recall=1)"
   ]
  },
  {
   "cell_type": "code",
   "execution_count": 224,
   "id": "f1471dc6-5f70-4450-b2aa-1a681ffdcc1e",
   "metadata": {},
   "outputs": [
    {
     "data": {
      "text/plain": [
       "166"
      ]
     },
     "execution_count": 224,
     "metadata": {},
     "output_type": "execute_result"
    }
   ],
   "source": [
    "cm[1,1]"
   ]
  },
  {
   "cell_type": "code",
   "execution_count": 225,
   "id": "e4b8593d-8e80-4a5d-87ef-ea2f1c54cd5e",
   "metadata": {},
   "outputs": [
    {
     "data": {
      "text/plain": [
       "array([124, 166])"
      ]
     },
     "execution_count": 225,
     "metadata": {},
     "output_type": "execute_result"
    }
   ],
   "source": [
    "cm[1,:]"
   ]
  },
  {
   "cell_type": "code",
   "execution_count": 226,
   "id": "4bde874c-46d8-4cd2-9746-2e003f369e42",
   "metadata": {},
   "outputs": [
    {
     "data": {
      "text/plain": [
       "0.5724137931034483"
      ]
     },
     "execution_count": 226,
     "metadata": {},
     "output_type": "execute_result"
    }
   ],
   "source": [
    "cm[1,1]/cm[1,:].sum()"
   ]
  },
  {
   "cell_type": "code",
   "execution_count": 227,
   "id": "a7594db6-bb54-4cc6-93f8-f8b335077ee7",
   "metadata": {},
   "outputs": [],
   "source": [
    "sensitivity = cm[1,1]/cm[1,:].sum()"
   ]
  },
  {
   "cell_type": "markdown",
   "id": "92499bb8-e190-429b-b47c-958cac04a053",
   "metadata": {},
   "source": [
    "#### Classification Report"
   ]
  },
  {
   "cell_type": "markdown",
   "id": "0ac75e09-6438-4290-8008-84693b7f736d",
   "metadata": {},
   "source": [
    "We could have gotten the same metrics by using the function `classification_report()`. Look a the recall (column) of the rows 0 and 1, specificity and sensitivity, respectively:"
   ]
  },
  {
   "cell_type": "code",
   "execution_count": 228,
   "id": "f70e8135-e6a2-4318-ac5d-b77c65da91b2",
   "metadata": {},
   "outputs": [
    {
     "name": "stdout",
     "output_type": "stream",
     "text": [
      "              precision    recall  f1-score   support\n",
      "\n",
      "           0       0.77      0.96      0.85       424\n",
      "           1       0.91      0.57      0.70       290\n",
      "\n",
      "    accuracy                           0.80       714\n",
      "   macro avg       0.84      0.77      0.78       714\n",
      "weighted avg       0.82      0.80      0.79       714\n",
      "\n"
     ]
    }
   ],
   "source": [
    "from sklearn.metrics import classification_report\n",
    "\n",
    "report = classification_report(\n",
    "    y_true=df_pred.survived,\n",
    "    y_pred=df_pred.pred_dt\n",
    ")\n",
    "\n",
    "print(report)"
   ]
  },
  {
   "cell_type": "markdown",
   "id": "1ad22e62-2f47-4322-afa9-a8c793f21a27",
   "metadata": {},
   "source": [
    "We can could also create a nice `DataFrame` to later use the data for simulations:"
   ]
  },
  {
   "cell_type": "code",
   "execution_count": 229,
   "id": "7faa5b45-3ee2-4a80-a25c-4e1511bbe7b6",
   "metadata": {},
   "outputs": [
    {
     "data": {
      "text/html": [
       "<div>\n",
       "<style scoped>\n",
       "    .dataframe tbody tr th:only-of-type {\n",
       "        vertical-align: middle;\n",
       "    }\n",
       "\n",
       "    .dataframe tbody tr th {\n",
       "        vertical-align: top;\n",
       "    }\n",
       "\n",
       "    .dataframe thead th {\n",
       "        text-align: right;\n",
       "    }\n",
       "</style>\n",
       "<table border=\"1\" class=\"dataframe\">\n",
       "  <thead>\n",
       "    <tr style=\"text-align: right;\">\n",
       "      <th></th>\n",
       "      <th>0</th>\n",
       "      <th>1</th>\n",
       "      <th>accuracy</th>\n",
       "      <th>macro avg</th>\n",
       "      <th>weighted avg</th>\n",
       "    </tr>\n",
       "  </thead>\n",
       "  <tbody>\n",
       "    <tr>\n",
       "      <th>precision</th>\n",
       "      <td>0.766478</td>\n",
       "      <td>0.907104</td>\n",
       "      <td>0.802521</td>\n",
       "      <td>0.836791</td>\n",
       "      <td>0.823595</td>\n",
       "    </tr>\n",
       "    <tr>\n",
       "      <th>recall</th>\n",
       "      <td>0.959906</td>\n",
       "      <td>0.572414</td>\n",
       "      <td>0.802521</td>\n",
       "      <td>0.766160</td>\n",
       "      <td>0.802521</td>\n",
       "    </tr>\n",
       "    <tr>\n",
       "      <th>f1-score</th>\n",
       "      <td>0.852356</td>\n",
       "      <td>0.701903</td>\n",
       "      <td>0.802521</td>\n",
       "      <td>0.777129</td>\n",
       "      <td>0.791248</td>\n",
       "    </tr>\n",
       "    <tr>\n",
       "      <th>support</th>\n",
       "      <td>424.000000</td>\n",
       "      <td>290.000000</td>\n",
       "      <td>0.802521</td>\n",
       "      <td>714.000000</td>\n",
       "      <td>714.000000</td>\n",
       "    </tr>\n",
       "  </tbody>\n",
       "</table>\n",
       "</div>"
      ],
      "text/plain": [
       "                    0           1  accuracy   macro avg  weighted avg\n",
       "precision    0.766478    0.907104  0.802521    0.836791      0.823595\n",
       "recall       0.959906    0.572414  0.802521    0.766160      0.802521\n",
       "f1-score     0.852356    0.701903  0.802521    0.777129      0.791248\n",
       "support    424.000000  290.000000  0.802521  714.000000    714.000000"
      ]
     },
     "execution_count": 229,
     "metadata": {},
     "output_type": "execute_result"
    }
   ],
   "source": [
    "report = classification_report(\n",
    "    y_true=df_pred.survived,\n",
    "    y_pred=df_pred.pred_dt,\n",
    "    output_dict=True\n",
    ")\n",
    "\n",
    "pd.DataFrame(report)"
   ]
  },
  {
   "cell_type": "markdown",
   "id": "81035093-ae58-4320-b1c3-b19481f9f991",
   "metadata": {},
   "source": [
    "Our model is not as good as we thought in the case we are predicting the people who survived; we just get 57.24% survivors right.\n",
    "\n",
    "How can we then assess a good rate to our model?"
   ]
  },
  {
   "cell_type": "markdown",
   "id": "41746cba-af92-4578-9f02-e2c977985de1",
   "metadata": {},
   "source": [
    "#### ROC Curve"
   ]
  },
  {
   "cell_type": "markdown",
   "id": "099422a8-e874-4775-b53e-3f7532ab1410",
   "metadata": {},
   "source": [
    "Watch the following video to understand how the Area Under the Curve (AUC) is a good metric because it sort of combines accuracy, specificity and sensitivity:"
   ]
  },
  {
   "cell_type": "code",
   "execution_count": 230,
   "id": "93899dec-0177-41c8-8d91-cc307760776f",
   "metadata": {
    "tags": []
   },
   "outputs": [
    {
     "data": {
      "text/html": [
       "<iframe width=\"560\" height=\"315\" src=\"https://www.youtube.com/embed/4jRBRDbJemM\" title=\"YouTube video player\" frameborder=\"0\" allow=\"accelerometer; autoplay; clipboard-write; encrypted-media; gyroscope; picture-in-picture\" allowfullscreen></iframe>\n"
      ],
      "text/plain": [
       "<IPython.core.display.HTML object>"
      ]
     },
     "metadata": {},
     "output_type": "display_data"
    }
   ],
   "source": [
    "%%HTML\n",
    "<iframe width=\"560\" height=\"315\" src=\"https://www.youtube.com/embed/4jRBRDbJemM\" title=\"YouTube video player\" frameborder=\"0\" allow=\"accelerometer; autoplay; clipboard-write; encrypted-media; gyroscope; picture-in-picture\" allowfullscreen></iframe>"
   ]
  },
  {
   "cell_type": "markdown",
   "id": "0f3584f2-ec9b-40c7-bb11-18fd28b21083",
   "metadata": {},
   "source": [
    "We compute this metric in Python as follows:"
   ]
  },
  {
   "cell_type": "code",
   "execution_count": 231,
   "id": "e9471a64-9be6-42cb-8a21-9db6e6ceb999",
   "metadata": {},
   "outputs": [
    {
     "data": {
      "image/png": "[encoded data removed]",
      "text/plain": [
       "<Figure size 432x288 with 1 Axes>"
      ]
     },
     "metadata": {
      "needs_background": "light"
     },
     "output_type": "display_data"
    }
   ],
   "source": [
    "import matplotlib.pyplot as plt\n",
    "import numpy as np\n",
    "from sklearn import metrics\n",
    "\n",
    "y = df_pred.survived\n",
    "pred = model_dt.predict_proba(X=explanatory)[:,1]\n",
    "\n",
    "fpr, tpr, thresholds = metrics.roc_curve(y, pred)\n",
    "roc_auc = metrics.auc(fpr, tpr)\n",
    "\n",
    "display = metrics.RocCurveDisplay(fpr=fpr, tpr=tpr, roc_auc=roc_auc,\n",
    "                                  estimator_name='example estimator')\n",
    "display.plot()\n",
    "plt.show()"
   ]
  },
  {
   "cell_type": "code",
   "execution_count": 232,
   "id": "1a09d1c8-45e7-4bce-b915-1f788cc890f2",
   "metadata": {},
   "outputs": [
    {
     "data": {
      "text/plain": [
       "0.8205066688353937"
      ]
     },
     "execution_count": 232,
     "metadata": {},
     "output_type": "execute_result"
    }
   ],
   "source": [
    "roc_auc"
   ]
  },
  {
   "cell_type": "markdown",
   "id": "1116b447-0f06-42a6-b998-5e1acc2404c9",
   "metadata": {},
   "source": [
    "## Other Classification Models"
   ]
  },
  {
   "cell_type": "markdown",
   "id": "1d6337d9-9a27-43e5-a412-9e0f4237d3df",
   "metadata": {},
   "source": [
    "Let's build other classification models by applying the same functions. In the end, computing [Machine Learning models is the same thing all the time](https://blog.resolvingpython.com/why-all-machine-learning-models-are-the-same)."
   ]
  },
  {
   "cell_type": "markdown",
   "id": "924d4377-297d-4385-80c4-bfac6158bcb5",
   "metadata": {},
   "source": [
    "### `RandomForestClassifier()` in Python"
   ]
  },
  {
   "cell_type": "markdown",
   "id": "e2ae9ade-453d-42ae-aab9-a61a1b46bf53",
   "metadata": {},
   "source": [
    "#### Fit the Model"
   ]
  },
  {
   "cell_type": "code",
   "execution_count": 233,
   "id": "9ceb352d-f3c5-412e-834a-64abbff2750d",
   "metadata": {},
   "outputs": [
    {
     "data": {
      "text/plain": [
       "RandomForestClassifier()"
      ]
     },
     "execution_count": 233,
     "metadata": {},
     "output_type": "execute_result"
    }
   ],
   "source": [
    "from sklearn.ensemble import RandomForestClassifier\n",
    "\n",
    "model_rf = RandomForestClassifier()\n",
    "model_rf.fit(X=explanatory, y=target)"
   ]
  },
  {
   "cell_type": "markdown",
   "id": "eb83f9ca-fadc-4e95-8e92-f6045ad58879",
   "metadata": {},
   "source": [
    "#### Calculate Predictions"
   ]
  },
  {
   "cell_type": "code",
   "execution_count": 234,
   "id": "1d2eba23-a5b7-4149-944c-54d43d62beb1",
   "metadata": {},
   "outputs": [
    {
     "data": {
      "text/html": [
       "<div>\n",
       "<style scoped>\n",
       "    .dataframe tbody tr th:only-of-type {\n",
       "        vertical-align: middle;\n",
       "    }\n",
       "\n",
       "    .dataframe tbody tr th {\n",
       "        vertical-align: top;\n",
       "    }\n",
       "\n",
       "    .dataframe thead th {\n",
       "        text-align: right;\n",
       "    }\n",
       "</style>\n",
       "<table border=\"1\" class=\"dataframe\">\n",
       "  <thead>\n",
       "    <tr style=\"text-align: right;\">\n",
       "      <th></th>\n",
       "      <th>survived</th>\n",
       "      <th>pred_dt</th>\n",
       "      <th>pred_proba_dt</th>\n",
       "      <th>pred_rf</th>\n",
       "    </tr>\n",
       "  </thead>\n",
       "  <tbody>\n",
       "    <tr>\n",
       "      <th>0</th>\n",
       "      <td>0</td>\n",
       "      <td>0</td>\n",
       "      <td>0.179487</td>\n",
       "      <td>0</td>\n",
       "    </tr>\n",
       "    <tr>\n",
       "      <th>1</th>\n",
       "      <td>1</td>\n",
       "      <td>1</td>\n",
       "      <td>0.943396</td>\n",
       "      <td>1</td>\n",
       "    </tr>\n",
       "    <tr>\n",
       "      <th>...</th>\n",
       "      <td>...</td>\n",
       "      <td>...</td>\n",
       "      <td>...</td>\n",
       "      <td>...</td>\n",
       "    </tr>\n",
       "    <tr>\n",
       "      <th>889</th>\n",
       "      <td>1</td>\n",
       "      <td>0</td>\n",
       "      <td>0.179487</td>\n",
       "      <td>1</td>\n",
       "    </tr>\n",
       "    <tr>\n",
       "      <th>890</th>\n",
       "      <td>0</td>\n",
       "      <td>0</td>\n",
       "      <td>0.179487</td>\n",
       "      <td>0</td>\n",
       "    </tr>\n",
       "  </tbody>\n",
       "</table>\n",
       "<p>714 rows × 4 columns</p>\n",
       "</div>"
      ],
      "text/plain": [
       "     survived  pred_dt  pred_proba_dt  pred_rf\n",
       "0           0        0       0.179487        0\n",
       "1           1        1       0.943396        1\n",
       "..        ...      ...            ...      ...\n",
       "889         1        0       0.179487        1\n",
       "890         0        0       0.179487        0\n",
       "\n",
       "[714 rows x 4 columns]"
      ]
     },
     "execution_count": 234,
     "metadata": {},
     "output_type": "execute_result"
    }
   ],
   "source": [
    "df_pred['pred_rf'] = model_rf.predict(X=explanatory)\n",
    "df_pred"
   ]
  },
  {
   "cell_type": "markdown",
   "id": "334faafa-18c6-432c-b76a-c788ed5c64ae",
   "metadata": {},
   "source": [
    "#### Model's Score"
   ]
  },
  {
   "cell_type": "code",
   "execution_count": 235,
   "id": "3c41ef13-20d9-49a9-9034-f91e167ce32a",
   "metadata": {},
   "outputs": [
    {
     "data": {
      "text/plain": [
       "0.9117647058823529"
      ]
     },
     "execution_count": 235,
     "metadata": {},
     "output_type": "execute_result"
    }
   ],
   "source": [
    "model_rf.score(X=explanatory, y=target)"
   ]
  },
  {
   "cell_type": "markdown",
   "id": "9ceab955-37fa-49fb-adb4-06a54cfd7f7a",
   "metadata": {},
   "source": [
    "### `SVC()` in Python"
   ]
  },
  {
   "cell_type": "markdown",
   "id": "3112a07c-e26f-48ac-821e-9d4ba856e82b",
   "metadata": {},
   "source": [
    "#### Fit the Model"
   ]
  },
  {
   "cell_type": "code",
   "execution_count": 236,
   "id": "c93dcd47-c56a-435a-800d-3923355fd6f0",
   "metadata": {},
   "outputs": [
    {
     "data": {
      "text/plain": [
       "SVC()"
      ]
     },
     "execution_count": 236,
     "metadata": {},
     "output_type": "execute_result"
    }
   ],
   "source": [
    "from sklearn.svm import SVC\n",
    "\n",
    "model_sv = SVC()\n",
    "model_sv.fit(X=explanatory, y=target)"
   ]
  },
  {
   "cell_type": "markdown",
   "id": "34c14243-0572-472a-8da8-7df5292ae28a",
   "metadata": {},
   "source": [
    "#### Calculate Predictions"
   ]
  },
  {
   "cell_type": "code",
   "execution_count": 237,
   "id": "d03be97d-fec1-40f3-9cab-e44422921922",
   "metadata": {},
   "outputs": [
    {
     "data": {
      "text/html": [
       "<div>\n",
       "<style scoped>\n",
       "    .dataframe tbody tr th:only-of-type {\n",
       "        vertical-align: middle;\n",
       "    }\n",
       "\n",
       "    .dataframe tbody tr th {\n",
       "        vertical-align: top;\n",
       "    }\n",
       "\n",
       "    .dataframe thead th {\n",
       "        text-align: right;\n",
       "    }\n",
       "</style>\n",
       "<table border=\"1\" class=\"dataframe\">\n",
       "  <thead>\n",
       "    <tr style=\"text-align: right;\">\n",
       "      <th></th>\n",
       "      <th>survived</th>\n",
       "      <th>pred_dt</th>\n",
       "      <th>pred_proba_dt</th>\n",
       "      <th>pred_rf</th>\n",
       "      <th>pred_sv</th>\n",
       "    </tr>\n",
       "  </thead>\n",
       "  <tbody>\n",
       "    <tr>\n",
       "      <th>0</th>\n",
       "      <td>0</td>\n",
       "      <td>0</td>\n",
       "      <td>0.179487</td>\n",
       "      <td>0</td>\n",
       "      <td>0</td>\n",
       "    </tr>\n",
       "    <tr>\n",
       "      <th>1</th>\n",
       "      <td>1</td>\n",
       "      <td>1</td>\n",
       "      <td>0.943396</td>\n",
       "      <td>1</td>\n",
       "      <td>0</td>\n",
       "    </tr>\n",
       "    <tr>\n",
       "      <th>...</th>\n",
       "      <td>...</td>\n",
       "      <td>...</td>\n",
       "      <td>...</td>\n",
       "      <td>...</td>\n",
       "      <td>...</td>\n",
       "    </tr>\n",
       "    <tr>\n",
       "      <th>889</th>\n",
       "      <td>1</td>\n",
       "      <td>0</td>\n",
       "      <td>0.179487</td>\n",
       "      <td>1</td>\n",
       "      <td>0</td>\n",
       "    </tr>\n",
       "    <tr>\n",
       "      <th>890</th>\n",
       "      <td>0</td>\n",
       "      <td>0</td>\n",
       "      <td>0.179487</td>\n",
       "      <td>0</td>\n",
       "      <td>0</td>\n",
       "    </tr>\n",
       "  </tbody>\n",
       "</table>\n",
       "<p>714 rows × 5 columns</p>\n",
       "</div>"
      ],
      "text/plain": [
       "     survived  pred_dt  pred_proba_dt  pred_rf  pred_sv\n",
       "0           0        0       0.179487        0        0\n",
       "1           1        1       0.943396        1        0\n",
       "..        ...      ...            ...      ...      ...\n",
       "889         1        0       0.179487        1        0\n",
       "890         0        0       0.179487        0        0\n",
       "\n",
       "[714 rows x 5 columns]"
      ]
     },
     "execution_count": 237,
     "metadata": {},
     "output_type": "execute_result"
    }
   ],
   "source": [
    "df_pred['pred_sv'] = model_sv.predict(X=explanatory)\n",
    "df_pred"
   ]
  },
  {
   "cell_type": "markdown",
   "id": "18a26790-d405-4e68-8c88-8e0699340335",
   "metadata": {},
   "source": [
    "#### Model's Score"
   ]
  },
  {
   "cell_type": "code",
   "execution_count": 238,
   "id": "e0d8d6d0-a333-4146-a81b-5fd589798084",
   "metadata": {},
   "outputs": [
    {
     "data": {
      "text/plain": [
       "0.6190476190476191"
      ]
     },
     "execution_count": 238,
     "metadata": {},
     "output_type": "execute_result"
    }
   ],
   "source": [
    "model_sv.score(X=explanatory, y=target)"
   ]
  },
  {
   "cell_type": "markdown",
   "id": "d31a09d6-4ee2-46b4-bd3f-b80afd28d64b",
   "metadata": {},
   "source": [
    "## Which One Is the Best Model? Why?"
   ]
  },
  {
   "cell_type": "markdown",
   "id": "554865b8-c157-42fb-b264-c1c2456fdd6d",
   "metadata": {},
   "source": [
    "To simplify the explanation, we use the accuracy as the metric to compare the models. We have the Random Forest to be the best model with an accuracy of 91.17%."
   ]
  },
  {
   "cell_type": "code",
   "execution_count": 239,
   "id": "c750e64a-6b32-43d8-bfd4-408a7e23911f",
   "metadata": {},
   "outputs": [
    {
     "data": {
      "text/plain": [
       "0.8025210084033614"
      ]
     },
     "execution_count": 239,
     "metadata": {},
     "output_type": "execute_result"
    }
   ],
   "source": [
    "model_dt.score(X=explanatory, y=target)"
   ]
  },
  {
   "cell_type": "code",
   "execution_count": 240,
   "id": "21255f36-3e49-4007-8ad8-c8267f5b2af7",
   "metadata": {},
   "outputs": [
    {
     "data": {
      "text/plain": [
       "0.9117647058823529"
      ]
     },
     "execution_count": 240,
     "metadata": {},
     "output_type": "execute_result"
    }
   ],
   "source": [
    "model_rf.score(X=explanatory, y=target)"
   ]
  },
  {
   "cell_type": "code",
   "execution_count": 241,
   "id": "0cb133ba-868b-4265-9e69-bbe1952dcca4",
   "metadata": {},
   "outputs": [
    {
     "data": {
      "text/plain": [
       "0.6190476190476191"
      ]
     },
     "execution_count": 241,
     "metadata": {},
     "output_type": "execute_result"
    }
   ],
   "source": [
    "model_sv.score(X=explanatory, y=target)"
   ]
  },
  {
   "cell_type": "code",
   "execution_count": 242,
   "id": "80b3490b-0410-4058-884e-f9b60694fc55",
   "metadata": {},
   "outputs": [
    {
     "data": {
      "text/html": [
       "<div>\n",
       "<style scoped>\n",
       "    .dataframe tbody tr th:only-of-type {\n",
       "        vertical-align: middle;\n",
       "    }\n",
       "\n",
       "    .dataframe tbody tr th {\n",
       "        vertical-align: top;\n",
       "    }\n",
       "\n",
       "    .dataframe thead th {\n",
       "        text-align: right;\n",
       "    }\n",
       "</style>\n",
       "<table border=\"1\" class=\"dataframe\">\n",
       "  <thead>\n",
       "    <tr style=\"text-align: right;\">\n",
       "      <th></th>\n",
       "      <th>survived</th>\n",
       "      <th>pred_dt</th>\n",
       "      <th>pred_proba_dt</th>\n",
       "      <th>pred_rf</th>\n",
       "      <th>pred_sv</th>\n",
       "    </tr>\n",
       "  </thead>\n",
       "  <tbody>\n",
       "    <tr>\n",
       "      <th>0</th>\n",
       "      <td>0</td>\n",
       "      <td>0</td>\n",
       "      <td>0.179487</td>\n",
       "      <td>0</td>\n",
       "      <td>0</td>\n",
       "    </tr>\n",
       "    <tr>\n",
       "      <th>1</th>\n",
       "      <td>1</td>\n",
       "      <td>1</td>\n",
       "      <td>0.943396</td>\n",
       "      <td>1</td>\n",
       "      <td>0</td>\n",
       "    </tr>\n",
       "    <tr>\n",
       "      <th>2</th>\n",
       "      <td>1</td>\n",
       "      <td>0</td>\n",
       "      <td>0.460784</td>\n",
       "      <td>1</td>\n",
       "      <td>0</td>\n",
       "    </tr>\n",
       "    <tr>\n",
       "      <th>3</th>\n",
       "      <td>1</td>\n",
       "      <td>1</td>\n",
       "      <td>0.943396</td>\n",
       "      <td>1</td>\n",
       "      <td>0</td>\n",
       "    </tr>\n",
       "    <tr>\n",
       "      <th>4</th>\n",
       "      <td>0</td>\n",
       "      <td>0</td>\n",
       "      <td>0.179487</td>\n",
       "      <td>0</td>\n",
       "      <td>0</td>\n",
       "    </tr>\n",
       "    <tr>\n",
       "      <th>6</th>\n",
       "      <td>0</td>\n",
       "      <td>0</td>\n",
       "      <td>0.179487</td>\n",
       "      <td>0</td>\n",
       "      <td>0</td>\n",
       "    </tr>\n",
       "    <tr>\n",
       "      <th>7</th>\n",
       "      <td>0</td>\n",
       "      <td>1</td>\n",
       "      <td>0.666667</td>\n",
       "      <td>0</td>\n",
       "      <td>1</td>\n",
       "    </tr>\n",
       "    <tr>\n",
       "      <th>8</th>\n",
       "      <td>1</td>\n",
       "      <td>0</td>\n",
       "      <td>0.460784</td>\n",
       "      <td>1</td>\n",
       "      <td>0</td>\n",
       "    </tr>\n",
       "    <tr>\n",
       "      <th>9</th>\n",
       "      <td>1</td>\n",
       "      <td>1</td>\n",
       "      <td>0.943396</td>\n",
       "      <td>1</td>\n",
       "      <td>0</td>\n",
       "    </tr>\n",
       "    <tr>\n",
       "      <th>10</th>\n",
       "      <td>1</td>\n",
       "      <td>0</td>\n",
       "      <td>0.460784</td>\n",
       "      <td>1</td>\n",
       "      <td>1</td>\n",
       "    </tr>\n",
       "  </tbody>\n",
       "</table>\n",
       "</div>"
      ],
      "text/plain": [
       "    survived  pred_dt  pred_proba_dt  pred_rf  pred_sv\n",
       "0          0        0       0.179487        0        0\n",
       "1          1        1       0.943396        1        0\n",
       "2          1        0       0.460784        1        0\n",
       "3          1        1       0.943396        1        0\n",
       "4          0        0       0.179487        0        0\n",
       "6          0        0       0.179487        0        0\n",
       "7          0        1       0.666667        0        1\n",
       "8          1        0       0.460784        1        0\n",
       "9          1        1       0.943396        1        0\n",
       "10         1        0       0.460784        1        1"
      ]
     },
     "execution_count": 242,
     "metadata": {},
     "output_type": "execute_result"
    }
   ],
   "source": [
    "df_pred.head(10)"
   ]
  },
  {
   "cell_type": "markdown",
   "id": "d93a7134-8cbd-4ea7-9e7a-b7b6576b5f18",
   "metadata": {},
   "source": [
    "<a rel=\"license\" href=\"http://creativecommons.org/licenses/by-nc-nd/4.0/\"><img alt=\"Creative Commons License\" style=\"border-width:0\" src=\"https://i.creativecommons.org/l/by-nc-nd/4.0/88x31.png\" /></a><br />This work is licensed under a <a rel=\"license\" href=\"http://creativecommons.org/licenses/by-nc-nd/4.0/\">Creative Commons Attribution-NonCommercial-NoDerivatives 4.0 International License</a>."
   ]
  }
 ],
 "metadata": {
  "kernelspec": {
   "display_name": "Python 3 (ipykernel)",
   "language": "python",
   "name": "python3"
  },
  "language_info": {
   "codemirror_mode": {
    "name": "ipython",
    "version": 3
   },
   "file_extension": ".py",
   "mimetype": "text/x-python",
   "name": "python",
   "nbconvert_exporter": "python",
   "pygments_lexer": "ipython3",
   "version": "3.9.10"
  },
  "toc-autonumbering": true
 },
 "nbformat": 4,
 "nbformat_minor": 5
}
